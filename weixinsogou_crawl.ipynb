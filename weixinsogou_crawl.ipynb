{
 "cells": [
  {
   "cell_type": "markdown",
   "metadata": {},
   "source": [
    "# WechatSogou"
   ]
  },
  {
   "cell_type": "markdown",
   "metadata": {},
   "source": [
    "### algorithm:\n",
    "1. import module\n",
    "2. get gzh historical articles\n",
    "3. save the html to local disk\n",
    "4. insert into database or update sids"
   ]
  },
  {
   "cell_type": "markdown",
   "metadata": {},
   "source": [
    "## 1. import modules"
   ]
  },
  {
   "cell_type": "code",
   "execution_count": 96,
   "metadata": {},
   "outputs": [],
   "source": [
    "import wechatsogou\n",
    "import random\n",
    "import requests\n",
    "import datetime\n",
    "import time"
   ]
  },
  {
   "cell_type": "code",
   "execution_count": 44,
   "metadata": {},
   "outputs": [],
   "source": [
    "# 直连\n",
    "ws_api = wechatsogou.WechatSogouAPI()\n",
    "\n",
    "# 验证码输入错误的重试次数，默认为1\n",
    "ws_api = wechatsogou.WechatSogouAPI(captcha_break_time=3)\n",
    "\n",
    "# 所有requests库的参数都能在这用\n",
    "# 如 配置代理，代理列表中至少需包含1个 HTTPS 协议的代理, 并确保代理可用\n",
    "ws_api = wechatsogou.WechatSogouAPI(proxies={\n",
    "    \"http\": \"127.0.0.1:8888\",\n",
    "    \"https\": \"127.0.0.1:8888\",\n",
    "})\n",
    "\n",
    "# 如 设置超时\n",
    "ws_api = wechatsogou.WechatSogouAPI(timeout=1)\n"
   ]
  },
  {
   "cell_type": "code",
   "execution_count": null,
   "metadata": {},
   "outputs": [],
   "source": [
    "ws_api.get_gzh_info('南航青年志愿者')"
   ]
  },
  {
   "cell_type": "raw",
   "metadata": {},
   "source": [
    "ws_api.get_gzh_info('nanhangqinggong')"
   ]
  },
  {
   "cell_type": "code",
   "execution_count": 21,
   "metadata": {},
   "outputs": [],
   "source": [
    "gzh = ws_api.search_gzh('付鹏的财经世界')"
   ]
  },
  {
   "cell_type": "code",
   "execution_count": 22,
   "metadata": {},
   "outputs": [
    {
     "data": {
      "text/plain": [
       "[{'open_id': 'oIWsFt94fGZWgq7sP6RyKLNfWV_c',\n",
       "  'profile_url': 'http://mp.weixin.qq.com/profile?src=3&timestamp=1561689870&ver=1&signature=91L84vGPkcdYvAE9nRQAdU-xqHO0xxgQICTT42IiLQw7FGJFzQe8ER*XXNCRectTqr-m9kp4Hs-vCYB1sPK99Q==',\n",
       "  'headimage': 'https://img01.sogoucdn.com/app/a/100520090/oIWsFt94fGZWgq7sP6RyKLNfWV_c',\n",
       "  'wechat_name': '付鹏的财经世界',\n",
       "  'wechat_id': 'GlobalMacroHedge',\n",
       "  'qrcode': 'https://img01.sogoucdn.com/v2/thumb?t=2&url=http%3A%2F%2Fmp.weixin.qq.com%2Frr%3Fsrc%3D3%26timestamp%3D1561689870%26ver%3D1%26signature%3DoVfpThM3K3Kk-PNeJiYRuSky*Q-G-8fYqU2PvQNEbjiHo1*B75a3WwqDKEr1W-SfKFhkISzgkiu*I2ma7IDZFrOFiUiO0nSO7YiC7fM3Cf8%3D&appid=200580',\n",
       "  'introduction': '「金融是件专业的事情,投资不是拍脑袋决定的」 - 记录是一种维持连续思考最好的方式,我是付鹏,这是我眼里的财经世界',\n",
       "  'authentication': '\\n',\n",
       "  'post_perm': 5,\n",
       "  'view_perm': 6906}]"
      ]
     },
     "execution_count": 22,
     "metadata": {},
     "output_type": "execute_result"
    }
   ],
   "source": [
    "list(gzh)"
   ]
  },
  {
   "cell_type": "code",
   "execution_count": 41,
   "metadata": {},
   "outputs": [],
   "source": [
    "articles = ws_api.search_article('付鹏的财经世界')"
   ]
  },
  {
   "cell_type": "code",
   "execution_count": 42,
   "metadata": {},
   "outputs": [
    {
     "name": "stdout",
     "output_type": "stream",
     "text": [
      "please input code: dx8j7b\n"
     ]
    },
    {
     "data": {
      "text/plain": [
       "[{'article': {'title': '窘迫的央行-背后越来越庞大的负利率债券规模',\n",
       "   'url': '',\n",
       "   'imgs': ['https://img01.sogoucdn.com/net/a/04/link?appid=100520033&url=http://mmbiz.qpic.cn/mmbiz_jpg/lfVqLXNGC3b8nHgzsSpMOMbHGibjQkIhUYcVxv5iah3tFPI7ib8ylhY9rPK7tDnUCkYyJjO8SMXibXrTjTP09qdjAw/0?wx_fmt=jpeg'],\n",
       "   'abstract': '恰恰并不是ECB的进一步政策,而是在数月后开始的欧洲政坛的风云跌宕;(完)付鹏的财经世界GlobalMacroHedge',\n",
       "   'time': 1561139219},\n",
       "  'gzh': {'profile_url': 'http://mp.weixin.qq.com/profile?src=3&timestamp=1561709391&ver=1&signature=91L84vGPkcdYvAE9nRQAdU-xqHO0xxgQICTT42IiLQw7FGJFzQe8ER*XXNCRectTYOp00n0q5-6-PDwzr991Zw==',\n",
       "   'headimage': 'http://wx.qlogo.cn/mmhead/Q3auHgzwzM6ScGzFne2oGzSHicjDW2DrUjCSPzfDGtt8ibARAWG230aA/0',\n",
       "   'wechat_name': '付鹏的财经世界',\n",
       "   'isv': 1}},\n",
       " {'article': {'title': '黄金的温故而知新日记:对比2016年',\n",
       "   'url': 'http://mp.weixin.qq.com/s?src=11&timestamp=1561709391&ver=1695&signature=Rxj4z0eanqTsJBQoFsgVzfX-aeB7pZRRr3wxrX5x2K7QwPSLy9pQ*R*ARsEo-kgdU5WtzLw3kBAq-2qdz4jPa9ktjTyJID-ZUnf55DrJLqYFQH8EtI*q86AMp*TuuT2W&new=1',\n",
       "   'imgs': ['https://img01.sogoucdn.com/net/a/04/link?appid=100520033&url=http://mmbiz.qpic.cn/mmbiz_jpg/lfVqLXNGC3Zp1jEZKqrsjzuhE9Hsp2X5mgJia7dtGeRow0H9u5A1biccLH32hK6LYEV2P6q9yhH1vc10pRTMDickw/0?wx_fmt=jpeg'],\n",
       "   'abstract': '美国除了就业数据很强以外,其他数据一点点疲软,不足以刺激FED作出反应保持着观察期;(完)付鹏的财经世界...',\n",
       "   'time': 1561322091},\n",
       "  'gzh': {'profile_url': 'http://mp.weixin.qq.com/profile?src=3&timestamp=1561709391&ver=1&signature=91L84vGPkcdYvAE9nRQAdU-xqHO0xxgQICTT42IiLQw7FGJFzQe8ER*XXNCRectTYOp00n0q5-6-PDwzr991Zw==',\n",
       "   'headimage': 'http://wx.qlogo.cn/mmhead/Q3auHgzwzM6ScGzFne2oGzSHicjDW2DrUjCSPzfDGtt8ibARAWG230aA/0',\n",
       "   'wechat_name': '付鹏的财经世界',\n",
       "   'isv': 1}},\n",
       " {'article': {'title': '付鹏重磅:全球经济权力再分配——争夺从来都是赤裸裸的',\n",
       "   'url': 'http://mp.weixin.qq.com/s?src=11&timestamp=1561709391&ver=1695&signature=SRhWDpbLx9K4exUb6d3Z*S6UmXiyrSswMuvRQYTKyCEIsqq7J2y9OpuN1c2sWuLb4Rh31QEQAL0dhZcJ6SGN9nrD1PKNZhA75FtdkbVtZMAUYxDU2w9c-qAxUXboDZXu&new=1',\n",
       "   'imgs': ['https://img01.sogoucdn.com/net/a/04/link?appid=100520033&url=http://mmbiz.qpic.cn/mmbiz_jpg/iaAjibzia6Noeynvkj05WxOCpAgpdLsDtNDc5aicAMEgPeNmq2ALT1yODlurMaK3v2mHjctSAxI4qHvppwPtqeqc5w/0?wx_fmt=jpeg'],\n",
       "   'abstract': '原油期货已经上市,扑克为大家准备了原油大礼包后台回复“原油”即可查看 文|付鹏来源 |付鹏的财经世界ID:GlobalMacroHedge编辑 ...',\n",
       "   'time': 1522758642},\n",
       "  'gzh': {'profile_url': 'http://mp.weixin.qq.com/profile?src=3&timestamp=1561709391&ver=1&signature=yVBKw8PsTDow2yBZMXYhqhWDHL3CyFBIjLuG2N31EHDwS-AzBmDSFNcqmjdJh47m8PRZ2H73XuRo1atRGlDZ0g==',\n",
       "   'headimage': 'http://wx.qlogo.cn/mmhead/Q3auHgzwzM4vBJtu1mFMBdyHX3okiawYnMnqmcchSZs1ric7TeYBC5YA/0',\n",
       "   'wechat_name': '扑克投资家',\n",
       "   'isv': 1}},\n",
       " {'article': {'title': '闲聊聊从黄金到黄金股的路径',\n",
       "   'url': 'http://mp.weixin.qq.com/s?src=11&timestamp=1561709391&ver=1695&signature=Rxj4z0eanqTsJBQoFsgVzfX-aeB7pZRRr3wxrX5x2K4HCGzcL4JwQi8Qhx0*DwiiWXm67tF9sq*t3aeOvxEu08oZsu3MNAsDgRIMfl4oxKSWaUlcStgZP0UPmX-fKah9&new=1',\n",
       "   'imgs': ['https://img01.sogoucdn.com/net/a/04/link?appid=100520033&url=http://mmbiz.qpic.cn/mmbiz_jpg/lfVqLXNGC3bMO9uq0ohXVWhDxzrmeJKOO3SuBR6ptwo9WvEiaLqazhtiaU1P1f2EqWWgxflBh3UIvhGscnfic6qsg/0?wx_fmt=jpeg'],\n",
       "   'abstract': '美金计价黄金波动率起来,美金几家价格逼近1350的关键位置,国内的黄金板块也有了激活的迹象;(完)付鹏的财经世界...',\n",
       "   'time': 1560518321},\n",
       "  'gzh': {'profile_url': 'http://mp.weixin.qq.com/profile?src=3&timestamp=1561709391&ver=1&signature=91L84vGPkcdYvAE9nRQAdU-xqHO0xxgQICTT42IiLQw7FGJFzQe8ER*XXNCRectTYOp00n0q5-6-PDwzr991Zw==',\n",
       "   'headimage': 'http://wx.qlogo.cn/mmhead/Q3auHgzwzM6ScGzFne2oGzSHicjDW2DrUjCSPzfDGtt8ibARAWG230aA/0',\n",
       "   'wechat_name': '付鹏的财经世界',\n",
       "   'isv': 1}},\n",
       " {'article': {'title': '关于上线两周年的《付鹏说》,制作人有话要说',\n",
       "   'url': 'http://mp.weixin.qq.com/s?src=11&timestamp=1561709391&ver=1695&signature=Rxj4z0eanqTsJBQoFsgVzfX-aeB7pZRRr3wxrX5x2K5jTeG5AXG8XA7VJBZNh6a396kRqbrllAzROp-GghrdSc2wHGGDi2jTA7Rdk6s9q7BQoG-QYcmnS4KW6ZSqcPJ6&new=1',\n",
       "   'imgs': ['https://img01.sogoucdn.com/net/a/04/link?appid=100520033&url=http://mmbiz.qpic.cn/mmbiz_jpg/lfVqLXNGC3aO8k2LJfHDhXSsicXj4NJHLpYN08umQCAibOQ4uDMvNWMyZttRrmcMUFBYibF3obCzAVz14ZMRe00QQ/0?wx_fmt=jpeg'],\n",
       "   'abstract': '是个怎样的栏目?“交易桌前看天下,付鹏说来评财经”,《付鹏...付鹏的财经世界GlobalMacroHedge',\n",
       "   'time': 1554350310},\n",
       "  'gzh': {'profile_url': 'http://mp.weixin.qq.com/profile?src=3&timestamp=1561709391&ver=1&signature=91L84vGPkcdYvAE9nRQAdU-xqHO0xxgQICTT42IiLQw7FGJFzQe8ER*XXNCRectTYOp00n0q5-6-PDwzr991Zw==',\n",
       "   'headimage': 'http://wx.qlogo.cn/mmhead/Q3auHgzwzM6ScGzFne2oGzSHicjDW2DrUjCSPzfDGtt8ibARAWG230aA/0',\n",
       "   'wechat_name': '付鹏的财经世界',\n",
       "   'isv': 1}},\n",
       " {'article': {'title': '为什么中国股市二十年永远3000点 没有像美国一样的长期上涨的“牛市”?',\n",
       "   'url': 'http://mp.weixin.qq.com/s?src=11&timestamp=1561709391&ver=1695&signature=Rxj4z0eanqTsJBQoFsgVzfX-aeB7pZRRr3wxrX5x2K4g25rV57yn5LxcPHeANvmz*VJmCOX-JX-Urae9ODvrpweIYqTEKoLjKYVKneQmjlMtEUJppbFI8N3XVeOeEq3c&new=1',\n",
       "   'imgs': ['https://img01.sogoucdn.com/net/a/04/link?appid=100520033&url=http://mmbiz.qpic.cn/mmbiz_jpg/lfVqLXNGC3ZdJK2THVVxia2OFicHASPSPmtCnxN03NjWodYuOkbUibZZ5JJQHWekESVjl3DzmUX6CxMw0sMqweqvA/0?wx_fmt=jpeg'],\n",
       "   'abstract': '市场的长期上涨的趋势也就自然的具备了基础;现在中国正在行动中..(完)|彩蛋来了!如下图搭配理解才是重点付鹏的财经世界...',\n",
       "   'time': 1558082965},\n",
       "  'gzh': {'profile_url': 'http://mp.weixin.qq.com/profile?src=3&timestamp=1561709391&ver=1&signature=91L84vGPkcdYvAE9nRQAdU-xqHO0xxgQICTT42IiLQw7FGJFzQe8ER*XXNCRectTYOp00n0q5-6-PDwzr991Zw==',\n",
       "   'headimage': 'http://wx.qlogo.cn/mmhead/Q3auHgzwzM6ScGzFne2oGzSHicjDW2DrUjCSPzfDGtt8ibARAWG230aA/0',\n",
       "   'wechat_name': '付鹏的财经世界',\n",
       "   'isv': 1}},\n",
       " {'article': {'title': '恒指关键的时刻-该出现的迹象来了',\n",
       "   'url': 'http://mp.weixin.qq.com/s?src=11&timestamp=1561709391&ver=1695&signature=Rxj4z0eanqTsJBQoFsgVzfX-aeB7pZRRr3wxrX5x2K7g28vZ9NKgkvWYXVjpHv5GBExF76zYSyt9FCOFmFh3pXlyQ12sC44SK3lGoixJJnfWHg-qsI85KhS5sTIWDeNc&new=1',\n",
       "   'imgs': ['https://img01.sogoucdn.com/net/a/04/link?appid=100520033&url=http://mmbiz.qpic.cn/mmbiz_jpg/lfVqLXNGC3bdCNYZW90cwcPPBbdYOSGcV0wlrMBLnGhndxyYoQAL7ibiaNJKMyuqdYiaB8qfIzo9ibfLY49mShWV7A/0?wx_fmt=jpeg'],\n",
       "   'abstract': '恒指关键的时刻-该出现的迹象来了,要留意一下,或者可以策略行动了.---END---付鹏的财经世界GlobalMacroHedge',\n",
       "   'time': 1554870047},\n",
       "  'gzh': {'profile_url': 'http://mp.weixin.qq.com/profile?src=3&timestamp=1561709391&ver=1&signature=91L84vGPkcdYvAE9nRQAdU-xqHO0xxgQICTT42IiLQw7FGJFzQe8ER*XXNCRectTYOp00n0q5-6-PDwzr991Zw==',\n",
       "   'headimage': 'http://wx.qlogo.cn/mmhead/Q3auHgzwzM6ScGzFne2oGzSHicjDW2DrUjCSPzfDGtt8ibARAWG230aA/0',\n",
       "   'wechat_name': '付鹏的财经世界',\n",
       "   'isv': 1}},\n",
       " {'article': {'title': '又一个风险偏好的观察指标出现了异动',\n",
       "   'url': 'http://mp.weixin.qq.com/s?src=11&timestamp=1561709391&ver=1695&signature=Rxj4z0eanqTsJBQoFsgVzfX-aeB7pZRRr3wxrX5x2K7g5BAAdv9UHpUtSl3edKwdy61beV2A9zkJM7f9ntSvecsh1AABw0ZJwPiG68GA10x4zFstOsnkL9k8lhdyjyPI&new=1',\n",
       "   'imgs': ['https://img01.sogoucdn.com/net/a/04/link?appid=100520033&url=http://mmbiz.qpic.cn/mmbiz_jpg/lfVqLXNGC3YPyczjJ8NMRMClVYBJ1riaYEgGlIbjsiarkKkV0vdMDSEMFOPNgFATiaY8VaniasjCUtxbia0TgxZcyew/0?wx_fmt=jpeg'],\n",
       "   'abstract': 'id=2309403938441917261726,中去寻找详细的解释了AUDJPY这组汇率对在FICC大类资产中隐含的含义;付鹏的财经世界...',\n",
       "   'time': 1546475651},\n",
       "  'gzh': {'profile_url': 'http://mp.weixin.qq.com/profile?src=3&timestamp=1561709391&ver=1&signature=91L84vGPkcdYvAE9nRQAdU-xqHO0xxgQICTT42IiLQw7FGJFzQe8ER*XXNCRectTYOp00n0q5-6-PDwzr991Zw==',\n",
       "   'headimage': 'http://wx.qlogo.cn/mmhead/Q3auHgzwzM6ScGzFne2oGzSHicjDW2DrUMau6NZhmY6icXyewfzXfVWg/0',\n",
       "   'wechat_name': '付鹏的财经世界',\n",
       "   'isv': 1}},\n",
       " {'article': {'title': '2019市场观察日记(二):全球央行政策正在转向',\n",
       "   'url': 'http://mp.weixin.qq.com/s?src=11&timestamp=1561709391&ver=1695&signature=Rxj4z0eanqTsJBQoFsgVzfX-aeB7pZRRr3wxrX5x2K4AcJN3UjkAYITCU3-1OQTT4gkabSIWa2ncyesy3aGxCjdod3Bh*3a8AGXtIlcp8TSd6WP7fSTDZov4w*08oJZn&new=1',\n",
       "   'imgs': ['https://img01.sogoucdn.com/net/a/04/link?appid=100520033&url=http://mmbiz.qpic.cn/mmbiz_jpg/lfVqLXNGC3Y4DFqDwdjtgOvMks1DPyPZ7j1fsTt1licGeVL2Y47Y9ldO6DibS48YhYDDQK7gzfOrffvEwgqIPRJA/0?wx_fmt=jpeg'],\n",
       "   'abstract': '最后放几个图收尾思考*日记为【EUREX欧洲期货交易所】特约专稿付鹏的财经世界GlobalMacroHedge',\n",
       "   'time': 1549760035},\n",
       "  'gzh': {'profile_url': 'http://mp.weixin.qq.com/profile?src=3&timestamp=1561709391&ver=1&signature=91L84vGPkcdYvAE9nRQAdU-xqHO0xxgQICTT42IiLQw7FGJFzQe8ER*XXNCRectTYOp00n0q5-6-PDwzr991Zw==',\n",
       "   'headimage': 'http://wx.qlogo.cn/mmhead/Q3auHgzwzM6ScGzFne2oGzSHicjDW2DrUSYGntGR56COc53DEd8W3GA/0',\n",
       "   'wechat_name': '付鹏的财经世界',\n",
       "   'isv': 1}},\n",
       " {'article': {'title': '一段幽默点的总结之中国经济的精髓',\n",
       "   'url': 'http://mp.weixin.qq.com/s?src=11&timestamp=1561709391&ver=1695&signature=Rxj4z0eanqTsJBQoFsgVzfX-aeB7pZRRr3wxrX5x2K4Vx9Sy*B9EUgA7TWIy7enBUVDsrB9sKZq9Lt9o17mVkz3auvOdSpHJNI5m5ELCOTUUtMmeynPFtrcwmTNRqH8-&new=1',\n",
       "   'imgs': ['https://img01.sogoucdn.com/net/a/04/link?appid=100520033&url=http://mmbiz.qpic.cn/mmbiz_jpg/lfVqLXNGC3a0gFF6uA9xMSN2P8kmo0ykSsom479wcOblvqWNuKiaZA6wvpiadec4ujLj5yL0ya2j7dKZdS0cYkVw/0?wx_fmt=jpeg'],\n",
       "   'abstract': 'http://zhibo.sina.com.cn/finance/50ren20n呵呵,欢迎大家留言,来看看这段话到底能有多少浏览量..(完)付鹏的财经世界...',\n",
       "   'time': 1537113692},\n",
       "  'gzh': {'profile_url': 'http://mp.weixin.qq.com/profile?src=3&timestamp=1561709391&ver=1&signature=91L84vGPkcdYvAE9nRQAdU-xqHO0xxgQICTT42IiLQw7FGJFzQe8ER*XXNCRectTYOp00n0q5-6-PDwzr991Zw==',\n",
       "   'headimage': 'http://wx.qlogo.cn/mmhead/Q3auHgzwzM6ScGzFne2oGzSHicjDW2DrUqJzFbibTGEO72c3JrJhicwnA/0',\n",
       "   'wechat_name': '付鹏的财经世界',\n",
       "   'isv': 1}}]"
      ]
     },
     "execution_count": 42,
     "metadata": {},
     "output_type": "execute_result"
    }
   ],
   "source": [
    "list(articles)"
   ]
  },
  {
   "cell_type": "code",
   "execution_count": 33,
   "metadata": {},
   "outputs": [
    {
     "data": {
      "text/plain": [
       "['财经你知道',\n",
       " '财经多看点',\n",
       " '财经扩音器',\n",
       " '财经法律顾问',\n",
       " '财经浩望角周刊',\n",
       " '财经热门快讯',\n",
       " '财经琳界点',\n",
       " '财经百晓童',\n",
       " '财经百讯',\n",
       " '财经见闻']"
      ]
     },
     "execution_count": 33,
     "metadata": {},
     "output_type": "execute_result"
    }
   ],
   "source": [
    "ws_api.get_sugg('财经')"
   ]
  },
  {
   "cell_type": "code",
   "execution_count": 106,
   "metadata": {},
   "outputs": [],
   "source": [
    "history = ws_api.get_gzh_article_by_history('长赢指数投资')"
   ]
  },
  {
   "cell_type": "code",
   "execution_count": 107,
   "metadata": {
    "scrolled": true
   },
   "outputs": [
    {
     "data": {
      "text/plain": [
       "['gzh', 'article']"
      ]
     },
     "execution_count": 107,
     "metadata": {},
     "output_type": "execute_result"
    }
   ],
   "source": [
    "list(history)"
   ]
  },
  {
   "cell_type": "code",
   "execution_count": 108,
   "metadata": {},
   "outputs": [
    {
     "data": {
      "text/plain": [
       "{'gzh': {'wechat_name': '长赢指数投资',\n",
       "  'wechat_id': 'chinaetfs',\n",
       "  'introduction': '指数化投资适合绝大多数人。利用市场估值与投资者情绪的变化，对指数长期持有，低买高卖，是普通投资者在资本市场获得财富的最佳方式。本公众号定期给出投资指数ETF的建议，过往投资成绩出色，值得你拥有。',\n",
       "  'authentication': '指数化投资适合绝大多数人。利用市场估值与投资者情绪的变化，对指数长期持有，低买高卖，是普通投资者在资本市场获得财富的最佳方式。本公众号定期给出投资指数ETF的建议，过往投资成绩出色，值得你拥有。',\n",
       "  'headimage': 'http://wx.qlogo.cn/mmhead/Q3auHgzwzM7onibdZLKeNBoHFp5j7Ykib009RmxZaS18icYlh3QNZXRMA/0'},\n",
       " 'article': [{'send_id': 1000000133,\n",
       "   'datetime': 1560820311,\n",
       "   'type': '49',\n",
       "   'main': 1,\n",
       "   'title': '2019年6月ETF计划（二）：买入两份',\n",
       "   'abstract': '本次交易买入2份',\n",
       "   'fileid': 505925561,\n",
       "   'content_url': 'http://mp.weixin.qq.com/s?timestamp=1561716796&src=3&ver=1&signature=O2pYvv46qlWarTl*ulaKNxm4QWILfwF1S-p3QtD4C9g*DEqgFFWuqgGjZrrq9yMi1OJBegtcUDVwNTwmJHNleoKGZN1F3dyRwdP3cwhdwGWkEJRNyXa-BLHlOGE6Zm-4bZNGC322YVnHfpysGfhykA6FwrBhskxbiPfjWBFBX20=',\n",
       "   'source_url': '',\n",
       "   'cover': 'http://mmbiz.qpic.cn/mmbiz_jpg/SEPick5M9xjM1mtDXT8ychzEtlfSqAH9YsLdTK0Bic78PSvG1rgFCqKljSnqwdtvacAVick4CHkoAFianXur0PG3Kw/0?wx_fmt=jpeg',\n",
       "   'author': 'ETF拯救世界',\n",
       "   'copyright_stat': 11},\n",
       "  {'send_id': 1000000132,\n",
       "   'datetime': 1559187267,\n",
       "   'type': '49',\n",
       "   'main': 1,\n",
       "   'title': '2019年6月ETF计划（一）：买入两份',\n",
       "   'abstract': '本次买入两份',\n",
       "   'fileid': 505925546,\n",
       "   'content_url': 'http://mp.weixin.qq.com/s?timestamp=1561716796&src=3&ver=1&signature=O2pYvv46qlWarTl*ulaKNxm4QWILfwF1S-p3QtD4C9g*DEqgFFWuqgGjZrrq9yMi1OJBegtcUDVwNTwmJHNlelVknDf9F8EK5OfYQBezL78fBDL47OybAeJpuwIRgU*cxaYCk1RL8cIoWXiS98cT01xQpWb19zDGyIruL*Rv-ag=',\n",
       "   'source_url': '',\n",
       "   'cover': 'http://mmbiz.qpic.cn/mmbiz_jpg/SEPick5M9xjN3XzHtallmUibhXZIMmVBXIMHOKhTX5NRa7rbELrPXYgnTsNf7TfCcYUyRTib1D8iaRiaehOkuDSU3aw/0?wx_fmt=jpeg',\n",
       "   'author': 'ETF拯救世界',\n",
       "   'copyright_stat': 11},\n",
       "  {'send_id': 1000000131,\n",
       "   'datetime': 1558848585,\n",
       "   'type': '49',\n",
       "   'main': 1,\n",
       "   'title': '波段策略.网格之三：网格策略进阶/2.0版',\n",
       "   'abstract': '网格2.0',\n",
       "   'fileid': 505925515,\n",
       "   'content_url': 'http://mp.weixin.qq.com/s?timestamp=1561716796&src=3&ver=1&signature=O2pYvv46qlWarTl*ulaKNxm4QWILfwF1S-p3QtD4C9g*DEqgFFWuqgGjZrrq9yMi1OJBegtcUDVwNTwmJHNlevAP26OtvzYI9Skd4EEk7UFjipt4thoy3J0CFmThIotMAWNGo4DRCL197j4zrOvDQ8rgtrPc4XWIuLbeUCKFpAk=',\n",
       "   'source_url': '',\n",
       "   'cover': 'http://mmbiz.qpic.cn/mmbiz_jpg/SEPick5M9xjPJTCrsXLuWWllO6NAibhG2MOqMZXCaelXLjGKO5qt1JcThD4sSphzL8lzR1wNfrd4orUqVh7LbjAg/0?wx_fmt=jpeg',\n",
       "   'author': 'ETF拯救世界',\n",
       "   'copyright_stat': 11},\n",
       "  {'send_id': 1000000130,\n",
       "   'datetime': 1557883200,\n",
       "   'type': '49',\n",
       "   'main': 1,\n",
       "   'title': '2019年5月ETF计划（二）：买入两份；卖出一份',\n",
       "   'abstract': '本次买入两份，卖出一份',\n",
       "   'fileid': 505925510,\n",
       "   'content_url': 'http://mp.weixin.qq.com/s?timestamp=1561716796&src=3&ver=1&signature=O2pYvv46qlWarTl*ulaKNxm4QWILfwF1S-p3QtD4C9g*DEqgFFWuqgGjZrrq9yMi1OJBegtcUDVwNTwmJHNlev1eBsDcD-SqrB-xEfBPpESFGvBaiFOR0FIL9-3fBjla9-BB6XTTm8oJR5pwPCQNwjZgdxNYdCGktc9a2sviOUI=',\n",
       "   'source_url': '',\n",
       "   'cover': 'http://mmbiz.qpic.cn/mmbiz_jpg/SEPick5M9xjNmicuZ7d1n2MKRg5HzQtDVeYklOibug5CwKXP1ialMiaibxHkibPF0IpQeUkcBAC7J43qsJL9p3iaXNMGlg/0?wx_fmt=jpeg',\n",
       "   'author': 'ETF拯救世界',\n",
       "   'copyright_stat': 11},\n",
       "  {'send_id': 1000000129,\n",
       "   'datetime': 1557116757,\n",
       "   'type': '49',\n",
       "   'main': 1,\n",
       "   'title': '波段策略.网格之二：网格策略基础/1.0版',\n",
       "   'abstract': '网格1.0版有固有缺陷，但它是基础。',\n",
       "   'fileid': 505925493,\n",
       "   'content_url': 'http://mp.weixin.qq.com/s?timestamp=1561716796&src=3&ver=1&signature=O2pYvv46qlWarTl*ulaKNxm4QWILfwF1S-p3QtD4C9g*DEqgFFWuqgGjZrrq9yMi1OJBegtcUDVwNTwmJHNleo5r72HZA0Ulkx4wpLk1vxU51k*D4uvRKT2nPlmFgEpu3Z3X*MY9e0pOrB1WB3Sfuh7VPhrtCjp4ch1X1VUvcd8=',\n",
       "   'source_url': '',\n",
       "   'cover': 'http://mmbiz.qpic.cn/mmbiz_jpg/SEPick5M9xjPxNX3LW6aKtl6gicbmll7GK8d2cgTib5hE9TVmlbcJnFdHTnrdxCCbbuO2IXYG5NRNDz5ZJJfmoEEQ/0?wx_fmt=jpeg',\n",
       "   'author': 'ETF拯救世界',\n",
       "   'copyright_stat': 11},\n",
       "  {'send_id': 1000000128,\n",
       "   'datetime': 1556418596,\n",
       "   'type': '49',\n",
       "   'main': 1,\n",
       "   'title': '波段策略.网格之一：写在前面、体系以及策略',\n",
       "   'abstract': '在这个不开盘的工作日，送个小礼物给你——网格策略（一）',\n",
       "   'fileid': 505925487,\n",
       "   'content_url': 'http://mp.weixin.qq.com/s?timestamp=1561716796&src=3&ver=1&signature=O2pYvv46qlWarTl*ulaKNxm4QWILfwF1S-p3QtD4C9g*DEqgFFWuqgGjZrrq9yMi1OJBegtcUDVwNTwmJHNlelsnqDVwjBdG63DNd4QwLF1XUzPemBFBZEd-gmLdOBn1j9RbDfzBe7-gjokSWC8wMfNVZ1L78hITL56y0Yvh*RU=',\n",
       "   'source_url': '',\n",
       "   'cover': 'http://mmbiz.qpic.cn/mmbiz_jpg/SEPick5M9xjM4l2aD4GUAtgIcoiaWVy0KA4eMBbw8iasb7dgqMxVjD4HGnJgUxiaOLicXiaZzgvJpdYOJpKKINxORQLg/0?wx_fmt=jpeg',\n",
       "   'author': 'ETF拯救世界',\n",
       "   'copyright_stat': 11},\n",
       "  {'send_id': 1000000127,\n",
       "   'datetime': 1556252859,\n",
       "   'type': '49',\n",
       "   'main': 1,\n",
       "   'title': '2019年5月ETF计划（一）：买入一份',\n",
       "   'abstract': '本次买入一份。',\n",
       "   'fileid': 505925474,\n",
       "   'content_url': 'http://mp.weixin.qq.com/s?timestamp=1561716796&src=3&ver=1&signature=O2pYvv46qlWarTl*ulaKNxm4QWILfwF1S-p3QtD4C9g*DEqgFFWuqgGjZrrq9yMi1OJBegtcUDVwNTwmJHNlejSdYyU*bqJ27H-IVtF45HZWgE440SOes0sTs41bw*IswAXcqflCZ*NjuqNAJ43ufTc7IQe56QQikb8bu3aTyL8=',\n",
       "   'source_url': '',\n",
       "   'cover': 'http://mmbiz.qpic.cn/mmbiz_jpg/SEPick5M9xjNI85sXoKk0bE0yQjHkJicx4qrnYiaooxX98kicyxs7oOMA7tgmKkA86ontHWlKOrWalOZsoz5khfjZQ/0?wx_fmt=jpeg',\n",
       "   'author': 'ETF拯救世界',\n",
       "   'copyright_stat': 11},\n",
       "  {'send_id': 1000000126,\n",
       "   'datetime': 1553743752,\n",
       "   'type': '49',\n",
       "   'main': 1,\n",
       "   'title': '2019年4月ETF计划（一）：买入两份',\n",
       "   'abstract': '本次买入两份',\n",
       "   'fileid': 505925465,\n",
       "   'content_url': 'http://mp.weixin.qq.com/s?timestamp=1561716796&src=3&ver=1&signature=O2pYvv46qlWarTl*ulaKNxm4QWILfwF1S-p3QtD4C9g*DEqgFFWuqgGjZrrq9yMi1OJBegtcUDVwNTwmJHNlevHxUx4pP0s6cFmhY7dpULUPC474KyZ1SsVxW97ibSxKF5MrdU4947iyUNX6mu8-hq*eUV2S-14MzA8PMEV9isw=',\n",
       "   'source_url': '',\n",
       "   'cover': 'http://mmbiz.qpic.cn/mmbiz_jpg/SEPick5M9xjMRxvEgh1Z57UonY9rTE4gDTSicMouPSQOO3clMADaaIgbN2XIHHwGt8mIfh6WvFb2fWG38R77AcAA/0?wx_fmt=jpeg',\n",
       "   'author': 'ETF拯救世界',\n",
       "   'copyright_stat': 11},\n",
       "  {'send_id': 1000000124,\n",
       "   'datetime': 1551878854,\n",
       "   'type': '49',\n",
       "   'main': 1,\n",
       "   'title': '围炉夜话（5）：你的肩膀可以扛起多少信任？',\n",
       "   'abstract': '暖雨晴风初破冻，柳眼梅腮，已觉春心动。 酒意诗情谁与共？泪融残粉花钿重。  话说自上次夜话以来，不觉数月已逝',\n",
       "   'fileid': 505925455,\n",
       "   'content_url': 'http://mp.weixin.qq.com/s?timestamp=1561716796&src=3&ver=1&signature=O2pYvv46qlWarTl*ulaKNxm4QWILfwF1S-p3QtD4C9g*DEqgFFWuqgGjZrrq9yMi1OJBegtcUDVwNTwmJHNlem7XWsTp6Lwq7pRv07dmGiL8mn2D5CIcldvmFl4*rrdjYwoNThZaXsAYTLA79Wq-t1ihzrZ0Pt3z22FGeswkSxw=',\n",
       "   'source_url': '',\n",
       "   'cover': 'http://mmbiz.qpic.cn/mmbiz_jpg/SEPick5M9xjMNtSic6LibiaJQLgaeREiaMTDueV2OBuPqbhLKSWClNtZWt4OzHdYG06DHqcrOTufQb9Gbg3viarjXtkg/0?wx_fmt=jpeg',\n",
       "   'author': 'ETF拯救世界',\n",
       "   'copyright_stat': 11},\n",
       "  {'send_id': 1000000123,\n",
       "   'datetime': 1551326129,\n",
       "   'type': '49',\n",
       "   'main': 1,\n",
       "   'title': '2019年3月ETF计划（一）：150不交易，S买入一份',\n",
       "   'abstract': '150不操作',\n",
       "   'fileid': 505925451,\n",
       "   'content_url': 'http://mp.weixin.qq.com/s?timestamp=1561716796&src=3&ver=1&signature=O2pYvv46qlWarTl*ulaKNxm4QWILfwF1S-p3QtD4C9g*DEqgFFWuqgGjZrrq9yMi1OJBegtcUDVwNTwmJHNlejGYCoxCmzTjMAVr7KD-o6GHmLqmwT4J7NztnchFM7VC8aGR5EYkexsyxD1kVmEAZhx0yBU1D5Qk8agwhCcz4sQ=',\n",
       "   'source_url': '',\n",
       "   'cover': 'http://mmbiz.qpic.cn/mmbiz_jpg/SEPick5M9xjPs6072wibUtjiaNnGP4MuOd4OMAWtYnVDLPw8maAlFTHhwiaOficGgl6PkLskICSNKzNiaW4EDNLs1FXA/0?wx_fmt=jpeg',\n",
       "   'author': 'ETF拯救世界',\n",
       "   'copyright_stat': 11}]}"
      ]
     },
     "execution_count": 108,
     "metadata": {},
     "output_type": "execute_result"
    }
   ],
   "source": [
    "history"
   ]
  },
  {
   "cell_type": "raw",
   "metadata": {},
   "source": [
    "title = history['article'][0]['title']\n",
    "url = history['article'][0]['content_url']\n",
    "url"
   ]
  },
  {
   "cell_type": "code",
   "execution_count": 115,
   "metadata": {
    "scrolled": true
   },
   "outputs": [
    {
     "name": "stdout",
     "output_type": "stream",
     "text": [
      "2019年6月ETF计划（二）：买入两份\n",
      "ETF拯救世界_2019_06_18_2019年6月ETF计划（二）：买入两份.html\n",
      "2019年6月ETF计划（一）：买入两份\n",
      "ETF拯救世界_2019_05_30_2019年6月ETF计划（一）：买入两份.html\n",
      "波段策略.网格之三：网格策略进阶/2.0版\n",
      "ETF拯救世界_2019_05_26_波段策略.网格之三：网格策略进阶2.0版.html\n",
      "2019年5月ETF计划（二）：买入两份；卖出一份\n",
      "ETF拯救世界_2019_05_15_2019年5月ETF计划（二）：买入两份；卖出一份.html\n",
      "波段策略.网格之二：网格策略基础/1.0版\n",
      "ETF拯救世界_2019_05_06_波段策略.网格之二：网格策略基础1.0版.html\n",
      "波段策略.网格之一：写在前面、体系以及策略\n",
      "ETF拯救世界_2019_04_28_波段策略.网格之一：写在前面、体系以及策略.html\n",
      "2019年5月ETF计划（一）：买入一份\n",
      "ETF拯救世界_2019_04_26_2019年5月ETF计划（一）：买入一份.html\n",
      "2019年4月ETF计划（一）：买入两份\n",
      "ETF拯救世界_2019_03_28_2019年4月ETF计划（一）：买入两份.html\n",
      "围炉夜话（5）：你的肩膀可以扛起多少信任？\n",
      "ETF拯救世界_2019_03_06_围炉夜话（5）：你的肩膀可以扛起多少信任？.html\n",
      "2019年3月ETF计划（一）：150不交易，S买入一份\n",
      "ETF拯救世界_2019_02_28_2019年3月ETF计划（一）：150不交易，S买入一份.html\n"
     ]
    }
   ],
   "source": [
    "for ci in history['article']:\n",
    "    uachoice = random.choice(ua)\n",
    "    headers = {'Cookie': \"\"\"SUID=2F2E40613921940A000000005C7C8A68; SUV=0054C7AB61402E2F5C7C8A6C4E9DE485; IPLOC=CN3100; UM_distinctid=16af8a3d10b1c6-00075670c610bf-e353165-1fa400-16af8a3d10c66e; ABTEST=5|1560408316|v1; JSESSIONID=aaafTsCy_KK2le_X5lqRw; PHPSESSID=38sddn82q3fr3mihpq5s9j09j7; SNUID=A3091D2C494FC612B1C5C56E4A2CA7BE; sct=7\"\"\",\n",
    "    \"User-Agent\": uachoice}\n",
    "    author = ci['author']\n",
    "    title = ci['title']\n",
    "    dt = ci['datetime']\n",
    "    dt = datetime.datetime.fromtimestamp(\n",
    "        int(dt)\n",
    "    ).strftime('%Y_%m_%d')\n",
    "    url = ci['content_url']\n",
    "    print(title)\n",
    "    response = requests.get(url, headers=headers)\n",
    "    if response.status_code == 200:\n",
    "        article = response.text\n",
    "        fpath = '{0}_{1}_{2}.html'.format(author, dt, title)\n",
    "        fpath = fpath.replace('/', '')\n",
    "        print(fpath)\n",
    "        with open(fpath, 'w') as fp:\n",
    "            fp.write(response.text)\n",
    "    time.sleep(2)"
   ]
  },
  {
   "cell_type": "code",
   "execution_count": 112,
   "metadata": {},
   "outputs": [
    {
     "data": {
      "text/plain": [
       "'http://mp.weixin.qq.com/s?timestamp=1561716796&src=3&ver=1&signature=O2pYvv46qlWarTl*ulaKNxm4QWILfwF1S-p3QtD4C9g*DEqgFFWuqgGjZrrq9yMi1OJBegtcUDVwNTwmJHNlevAP26OtvzYI9Skd4EEk7UFjipt4thoy3J0CFmThIotMAWNGo4DRCL197j4zrOvDQ8rgtrPc4XWIuLbeUCKFpAk='"
      ]
     },
     "execution_count": 112,
     "metadata": {},
     "output_type": "execute_result"
    }
   ],
   "source": []
  },
  {
   "cell_type": "code",
   "execution_count": 101,
   "metadata": {},
   "outputs": [
    {
     "data": {
      "text/plain": [
       "10"
      ]
     },
     "execution_count": 101,
     "metadata": {},
     "output_type": "execute_result"
    }
   ],
   "source": [
    "len(history['article'])"
   ]
  },
  {
   "cell_type": "code",
   "execution_count": 109,
   "metadata": {},
   "outputs": [],
   "source": [
    "headers = {\n",
    "    'Cookie': \"\"\"SUID=2F2E40613921940A000000005C7C8A68; SUV=0054C7AB61402E2F5C7C8A6C4E9DE485; IPLOC=CN3100; UM_distinctid=16af8a3d10b1c6-00075670c610bf-e353165-1fa400-16af8a3d10c66e; ABTEST=5|1560408316|v1; JSESSIONID=aaafTsCy_KK2le_X5lqRw; PHPSESSID=38sddn82q3fr3mihpq5s9j09j7; SNUID=A3091D2C494FC612B1C5C56E4A2CA7BE; sct=7\"\"\",\n",
    "    'Host': 'weixin.sogou.com',\n",
    "    'Upgrade-Insecure-Requests': '1',\n",
    "    'User-Agent': 'Mozilla/5.0 (Macintosh; Intel Mac OS X 10_12_3) AppleWebKit/537.36 (KHTML, like Gecko) Chrome/57.0.2987.133 Safari/537.36'\n",
    "}"
   ]
  },
  {
   "cell_type": "code",
   "execution_count": 77,
   "metadata": {},
   "outputs": [],
   "source": [
    "ua = [\n",
    "    \"Mozilla/4.0 (compatible; MSIE 6.0; Windows NT 5.1; SV1; AcooBrowser; .NET CLR 1.1.4322; .NET CLR 2.0.50727)\",\n",
    "    \"Mozilla/4.0 (compatible; MSIE 7.0; Windows NT 6.0; Acoo Browser; SLCC1; .NET CLR 2.0.50727; Media Center PC 5.0; .NET CLR 3.0.04506)\",\n",
    "    \"Mozilla/4.0 (compatible; MSIE 7.0; AOL 9.5; AOLBuild 4337.35; Windows NT 5.1; .NET CLR 1.1.4322; .NET CLR 2.0.50727)\",\n",
    "    \"Mozilla/5.0 (Windows; U; MSIE 9.0; Windows NT 9.0; en-US)\",\n",
    "    \"Mozilla/5.0 (compatible; MSIE 9.0; Windows NT 6.1; Win64; x64; Trident/5.0; .NET CLR 3.5.30729; .NET CLR 3.0.30729; .NET CLR 2.0.50727; Media Center PC 6.0)\",\n",
    "    \"Mozilla/5.0 (compatible; MSIE 8.0; Windows NT 6.0; Trident/4.0; WOW64; Trident/4.0; SLCC2; .NET CLR 2.0.50727; .NET CLR 3.5.30729; .NET CLR 3.0.30729; .NET CLR 1.0.3705; .NET CLR 1.1.4322)\",\n",
    "    \"Mozilla/4.0 (compatible; MSIE 7.0b; Windows NT 5.2; .NET CLR 1.1.4322; .NET CLR 2.0.50727; InfoPath.2; .NET CLR 3.0.04506.30)\",\n",
    "    \"Mozilla/5.0 (Windows; U; Windows NT 5.1; zh-CN) AppleWebKit/523.15 (KHTML, like Gecko, Safari/419.3) Arora/0.3 (Change: 287 c9dfb30)\",\n",
    "    \"Mozilla/5.0 (X11; U; Linux; en-US) AppleWebKit/527+ (KHTML, like Gecko, Safari/419.3) Arora/0.6\",\n",
    "    \"Mozilla/5.0 (Windows; U; Windows NT 5.1; en-US; rv:1.8.1.2pre) Gecko/20070215 K-Ninja/2.1.1\",\n",
    "    \"Mozilla/5.0 (Windows; U; Windows NT 5.1; zh-CN; rv:1.9) Gecko/20080705 Firefox/3.0 Kapiko/3.0\",\n",
    "    \"Mozilla/5.0 (X11; Linux i686; U;) Gecko/20070322 Kazehakase/0.4.5\",\n",
    "    \"Mozilla/5.0 (X11; U; Linux i686; en-US; rv:1.9.0.8) Gecko Fedora/1.9.0.8-1.fc10 Kazehakase/0.5.6\",\n",
    "    \"Mozilla/5.0 (Windows NT 6.1; WOW64) AppleWebKit/535.11 (KHTML, like Gecko) Chrome/17.0.963.56 Safari/535.11\",\n",
    "    \"Mozilla/5.0 (Macintosh; Intel Mac OS X 10_7_3) AppleWebKit/535.20 (KHTML, like Gecko) Chrome/19.0.1036.7 Safari/535.20\",\n",
    "    \"Opera/9.80 (Macintosh; Intel Mac OS X 10.6.8; U; fr) Presto/2.9.168 Version/11.52\",\n",
    "]\n"
   ]
  },
  {
   "cell_type": "code",
   "execution_count": 85,
   "metadata": {},
   "outputs": [],
   "source": [
    "response = requests.get(url, headers=headers)"
   ]
  },
  {
   "cell_type": "code",
   "execution_count": 90,
   "metadata": {},
   "outputs": [],
   "source": [
    "if response.status_code == 200:\n",
    "    article = response.text\n"
   ]
  },
  {
   "cell_type": "code",
   "execution_count": 91,
   "metadata": {},
   "outputs": [
    {
     "data": {
      "text/plain": [
       "200"
      ]
     },
     "execution_count": 91,
     "metadata": {},
     "output_type": "execute_result"
    }
   ],
   "source": [
    "response.status_code"
   ]
  },
  {
   "cell_type": "code",
   "execution_count": 89,
   "metadata": {},
   "outputs": [],
   "source": [
    "with open('{0}_{title}.html'.format(title, article), 'w') as fp:\n",
    "    fp.write(response.text)"
   ]
  },
  {
   "cell_type": "code",
   "execution_count": null,
   "metadata": {},
   "outputs": [],
   "source": []
  }
 ],
 "metadata": {
  "kernelspec": {
   "display_name": "Python 3",
   "language": "python",
   "name": "python3"
  },
  "language_info": {
   "codemirror_mode": {
    "name": "ipython",
    "version": 3
   },
   "file_extension": ".py",
   "mimetype": "text/x-python",
   "name": "python",
   "nbconvert_exporter": "python",
   "pygments_lexer": "ipython3",
   "version": "3.6.8"
  }
 },
 "nbformat": 4,
 "nbformat_minor": 2
}
