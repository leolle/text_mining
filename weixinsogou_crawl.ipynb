{
 "cells": [
  {
   "cell_type": "markdown",
   "metadata": {},
   "source": [
    "# WechatSogou"
   ]
  },
  {
   "cell_type": "markdown",
   "metadata": {},
   "source": [
    "### algorithm:\n",
    "1. import module\n",
    "2. get gzh historical articles\n",
    "3. save the html to local disk\n",
    "4. insert into database or update sids"
   ]
  },
  {
   "cell_type": "markdown",
   "metadata": {},
   "source": [
    "## 1. import modules"
   ]
  },
  {
   "cell_type": "code",
   "execution_count": 14,
   "metadata": {},
   "outputs": [],
   "source": [
    "import wechatsogou\n",
    "import random\n",
    "import requests\n",
    "import datetime\n",
    "import time\n",
    "from lxml.etree import XMLSyntaxError\n",
    "from requests.exceptions import ConnectionError\n",
    "from pyquery import PyQuery as pq\n",
    "import os\n",
    "import pathlib\n",
    "from bs4 import BeautifulSoup\n",
    "from tqdm import tqdm"
   ]
  },
  {
   "cell_type": "code",
   "execution_count": 2,
   "metadata": {},
   "outputs": [],
   "source": [
    "# 直连\n",
    "ws_api = wechatsogou.WechatSogouAPI()\n",
    "\n",
    "# 验证码输入错误的重试次数，默认为1\n",
    "ws_api = wechatsogou.WechatSogouAPI(captcha_break_time=3)\n",
    "\n",
    "# 所有requests库的参数都能在这用\n",
    "# 如 配置代理，代理列表中至少需包含1个 HTTPS 协议的代理, 并确保代理可用\n",
    "ws_api = wechatsogou.WechatSogouAPI(proxies={\n",
    "    \"http\": \"127.0.0.1:8888\",\n",
    "    \"https\": \"127.0.0.1:8888\",\n",
    "})\n",
    "\n",
    "# 如 设置超时\n",
    "ws_api = wechatsogou.WechatSogouAPI(timeout=1)\n"
   ]
  },
  {
   "cell_type": "code",
   "execution_count": 3,
   "metadata": {},
   "outputs": [],
   "source": [
    "headers = {\n",
    "    'Cookie': \"\"\"SUID=2F2E40613921940A000000005C7C8A68; SUV=0054C7AB61402E2F5C7C8A6C4E9DE485; IPLOC=CN3100; UM_distinctid=16af8a3d10b1c6-00075670c610bf-e353165-1fa400-16af8a3d10c66e; ABTEST=5|1560408316|v1; JSESSIONID=aaafTsCy_KK2le_X5lqRw; PHPSESSID=38sddn82q3fr3mihpq5s9j09j7; SNUID=A3091D2C494FC612B1C5C56E4A2CA7BE; sct=7\"\"\",\n",
    "    'Host': 'weixin.sogou.com',\n",
    "    'Upgrade-Insecure-Requests': '1',\n",
    "    'User-Agent': 'Mozilla/5.0 (Macintosh; Intel Mac OS X 10_12_3) AppleWebKit/537.36 (KHTML, like Gecko) Chrome/57.0.2987.133 Safari/537.36'\n",
    "}"
   ]
  },
  {
   "cell_type": "code",
   "execution_count": 4,
   "metadata": {},
   "outputs": [],
   "source": [
    "ua = [\n",
    "    \"Mozilla/4.0 (compatible; MSIE 6.0; Windows NT 5.1; SV1; AcooBrowser; .NET CLR 1.1.4322; .NET CLR 2.0.50727)\",\n",
    "    \"Mozilla/4.0 (compatible; MSIE 7.0; Windows NT 6.0; Acoo Browser; SLCC1; .NET CLR 2.0.50727; Media Center PC 5.0; .NET CLR 3.0.04506)\",\n",
    "    \"Mozilla/4.0 (compatible; MSIE 7.0; AOL 9.5; AOLBuild 4337.35; Windows NT 5.1; .NET CLR 1.1.4322; .NET CLR 2.0.50727)\",\n",
    "    \"Mozilla/5.0 (Windows; U; MSIE 9.0; Windows NT 9.0; en-US)\",\n",
    "    \"Mozilla/5.0 (compatible; MSIE 9.0; Windows NT 6.1; Win64; x64; Trident/5.0; .NET CLR 3.5.30729; .NET CLR 3.0.30729; .NET CLR 2.0.50727; Media Center PC 6.0)\",\n",
    "    \"Mozilla/5.0 (compatible; MSIE 8.0; Windows NT 6.0; Trident/4.0; WOW64; Trident/4.0; SLCC2; .NET CLR 2.0.50727; .NET CLR 3.5.30729; .NET CLR 3.0.30729; .NET CLR 1.0.3705; .NET CLR 1.1.4322)\",\n",
    "    \"Mozilla/4.0 (compatible; MSIE 7.0b; Windows NT 5.2; .NET CLR 1.1.4322; .NET CLR 2.0.50727; InfoPath.2; .NET CLR 3.0.04506.30)\",\n",
    "    \"Mozilla/5.0 (Windows; U; Windows NT 5.1; zh-CN) AppleWebKit/523.15 (KHTML, like Gecko, Safari/419.3) Arora/0.3 (Change: 287 c9dfb30)\",\n",
    "    \"Mozilla/5.0 (X11; U; Linux; en-US) AppleWebKit/527+ (KHTML, like Gecko, Safari/419.3) Arora/0.6\",\n",
    "    \"Mozilla/5.0 (Windows; U; Windows NT 5.1; en-US; rv:1.8.1.2pre) Gecko/20070215 K-Ninja/2.1.1\",\n",
    "    \"Mozilla/5.0 (Windows; U; Windows NT 5.1; zh-CN; rv:1.9) Gecko/20080705 Firefox/3.0 Kapiko/3.0\",\n",
    "    \"Mozilla/5.0 (X11; Linux i686; U;) Gecko/20070322 Kazehakase/0.4.5\",\n",
    "    \"Mozilla/5.0 (X11; U; Linux i686; en-US; rv:1.9.0.8) Gecko Fedora/1.9.0.8-1.fc10 Kazehakase/0.5.6\",\n",
    "    \"Mozilla/5.0 (Windows NT 6.1; WOW64) AppleWebKit/535.11 (KHTML, like Gecko) Chrome/17.0.963.56 Safari/535.11\",\n",
    "    \"Mozilla/5.0 (Macintosh; Intel Mac OS X 10_7_3) AppleWebKit/535.20 (KHTML, like Gecko) Chrome/19.0.1036.7 Safari/535.20\",\n",
    "    \"Opera/9.80 (Macintosh; Intel Mac OS X 10.6.8; U; fr) Presto/2.9.168 Version/11.52\",\n",
    "]\n"
   ]
  },
  {
   "cell_type": "markdown",
   "metadata": {},
   "source": [
    "## get proxy tests"
   ]
  },
  {
   "cell_type": "code",
   "execution_count": 115,
   "metadata": {},
   "outputs": [],
   "source": [
    "with open('ip.txt') as fp:\n",
    "    proxy_pool = fp.readlines()\n"
   ]
  },
  {
   "cell_type": "code",
   "execution_count": 116,
   "metadata": {},
   "outputs": [],
   "source": [
    "ls_proxy_pool = []\n",
    "for string in proxy_pool:\n",
    "    ip = string.strip().split(\"\\t\")\n",
    "    if ip[2] == 'HTTP':\n",
    "        proxy_host = ip[0]+\":\"+ip[1]\n",
    "        ls_proxy_pool.append(proxy_host)"
   ]
  },
  {
   "cell_type": "code",
   "execution_count": 117,
   "metadata": {},
   "outputs": [],
   "source": [
    "def get_proxy():\n",
    "    http_url = \"http://ip111.cn\"\n",
    "    proxy_temp = random.choice(ls_proxy_pool)\n",
    "    try:\n",
    "        response = requests.get(http_url)\n",
    "        if response.status_code == 200:\n",
    "            return proxy_temp\n",
    "        return None\n",
    "    except ConnectionError:\n",
    "        return None\n"
   ]
  },
  {
   "cell_type": "markdown",
   "metadata": {},
   "source": [
    "## get articles"
   ]
  },
  {
   "cell_type": "code",
   "execution_count": null,
   "metadata": {},
   "outputs": [],
   "source": [
    "ws_api.get_gzh_info('南航青年志愿者')"
   ]
  },
  {
   "cell_type": "raw",
   "metadata": {},
   "source": [
    "ws_api.get_gzh_info('nanhangqinggong')"
   ]
  },
  {
   "cell_type": "code",
   "execution_count": null,
   "metadata": {},
   "outputs": [],
   "source": [
    "gzh = ws_api.search_gzh('付鹏的财经世界')"
   ]
  },
  {
   "cell_type": "code",
   "execution_count": null,
   "metadata": {},
   "outputs": [],
   "source": [
    "list(gzh)"
   ]
  },
  {
   "cell_type": "code",
   "execution_count": null,
   "metadata": {},
   "outputs": [],
   "source": [
    "articles = ws_api.search_article('付鹏的财经世界')"
   ]
  },
  {
   "cell_type": "code",
   "execution_count": null,
   "metadata": {},
   "outputs": [],
   "source": [
    "list(articles)"
   ]
  },
  {
   "cell_type": "code",
   "execution_count": null,
   "metadata": {},
   "outputs": [],
   "source": [
    "ws_api.get_sugg('财经')"
   ]
  },
  {
   "cell_type": "markdown",
   "metadata": {},
   "source": [
    "### Search historical articles"
   ]
  },
  {
   "cell_type": "code",
   "execution_count": 32,
   "metadata": {},
   "outputs": [],
   "source": [
    "proxy = None #将代理设为全局变量\n",
    "max_count = 3 #最大请求次数"
   ]
  },
  {
   "cell_type": "code",
   "execution_count": 33,
   "metadata": {},
   "outputs": [],
   "source": [
    "def get_html(url,count = 1):\n",
    "    #打印一些调试信息\n",
    "    print('Crawling:', url)\n",
    "    print('Trying Count:', count)\n",
    "\n",
    "    global proxy #引用全局变量\n",
    "    if count >= max_count: #如果请求次数达到了上限\n",
    "        print('Tried too many counts！')\n",
    "        return None\n",
    "\n",
    "    try :\n",
    "        uachoice = random.choice(ua)\n",
    "        headers = {'Cookie': \"\"\"SUID=2F2E40613921940A000000005C7C8A68; SUV=0054C7AB61402E2F5C7C8A6C4E9DE485; IPLOC=CN3100; UM_distinctid=16af8a3d10b1c6-00075670c610bf-e353165-1fa400-16af8a3d10c66e; ABTEST=5|1560408316|v1; JSESSIONID=aaafTsCy_KK2le_X5lqRw; PHPSESSID=38sddn82q3fr3mihpq5s9j09j7; SNUID=A3091D2C494FC612B1C5C56E4A2CA7BE; sct=7\"\"\",\n",
    "        \"User-Agent\": uachoice}\n",
    "        if proxy:# 如果现在正在使用代理\n",
    "            proxies = {\n",
    "                'http':'http://'+ proxy #设置协议类型\n",
    "            }\n",
    "            response = requests.get(url, headers=headers, proxies=proxies, timeout=3) #使用有代理参数的请求\n",
    "        else: #否则使用正常的请求\n",
    "            response = requests.get(url, headers=headers, timeout=3)#禁止自动处理跳转\n",
    "        if response.status_code == 200:\n",
    "            print(\"请求成功！\")\n",
    "            return response.text\n",
    "        if response.status_code == 302:\n",
    "            # 需要代理\n",
    "            print(\"302！\")\n",
    "            proxy = get_proxy()\n",
    "            if proxy:\n",
    "                print('Using Proxy', proxy)\n",
    "                return get_html(url)\n",
    "            else:\n",
    "                print('Get Proxy Failed')\n",
    "                return None\n",
    "    except ConnectionError as e:\n",
    "        print('Error Occurred', e.args)#打印错误信息\n",
    "        proxy = get_proxy() #若失败，更换代理\n",
    "        count += 1 #请求次数+1\n",
    "        time.sleep(2)\n",
    "        return get_html(url, count) #重试\n",
    "    \n",
    "    "
   ]
  },
  {
   "cell_type": "code",
   "execution_count": 92,
   "metadata": {},
   "outputs": [],
   "source": [
    "# 解析详情页\n",
    "def parse_detail(html):\n",
    "    doc = pq(html)\n",
    "    title = doc('.rich_media_title').text()\n",
    "    content = doc('.rich_media_content').text()\n",
    "    wechat_name = doc('#js_profile_qrcode > div > strong').text()\n",
    "    nickname = doc('.rich_media_meta_text').text()\n",
    "    wechat = doc('#js_profile_qrcode > div > p:nth-child(3) > span').text()\n",
    "    date = None\n",
    "    return {\n",
    "        'title':title,\n",
    "        'wechat_name': wechat_name,\n",
    "        'content':content,\n",
    "        'date':date,\n",
    "        'nickname':nickname,\n",
    "        'wechat':wechat\n",
    "    }\n"
   ]
  },
  {
   "cell_type": "raw",
   "metadata": {},
   "source": [
    "article = get_html(url)"
   ]
  },
  {
   "cell_type": "raw",
   "metadata": {},
   "source": [
    "ls_kol = []\n",
    "with open('KOL.txt') as fp:\n",
    "    try:\n",
    "        line = fp.read()\n",
    "        ls_kol.append(line.replace('\\n', ''))\n",
    "    except:\n",
    "        pass"
   ]
  },
  {
   "cell_type": "code",
   "execution_count": 118,
   "metadata": {},
   "outputs": [],
   "source": [
    "with open('KOL.txt') as fp:\n",
    "    ls_kol = fp.readlines()\n",
    "    ls_kol = [x.replace('\\n', '') for x in ls_kol]"
   ]
  },
  {
   "cell_type": "code",
   "execution_count": 119,
   "metadata": {
    "scrolled": true
   },
   "outputs": [
    {
     "data": {
      "text/plain": [
       "['付鹏的财经世界',\n",
       " '长赢指数投资',\n",
       " '博策远略',\n",
       " '新全球资产配置',\n",
       " '沧海一土狗',\n",
       " '川流不息',\n",
       " 'Trader.M的知乎文章',\n",
       " 'StochasticWalker的知乎文章',\n",
       " '全球资产观察',\n",
       " '湖畔公寓28号',\n",
       " 'Bridgewater - Daily Observations',\n",
       " '半夏投资',\n",
       " '因子投资那些事儿',\n",
       " '跨资产的因子配置',\n",
       " '宏观大类策略研究',\n",
       " 'Chihiro Quantitative Research',\n",
       " '量化交易&宽客',\n",
       " '淳臻投资',\n",
       " 'cfuwxd',\n",
       " '孟岩',\n",
       " '东京交易厅',\n",
       " '聚宽量化实验室',\n",
       " '饭统戴老板',\n",
       " '黑猫Q形态的知乎文章',\n",
       " '关关楼西',\n",
       " '高善文经济观察',\n",
       " 'Moneycode',\n",
       " '全球经济每日漫谈',\n",
       " '月风投资笔记',\n",
       " '伦敦交易员',\n",
       " 'babyquant谈量化金融',\n",
       " '期权策略交易',\n",
       " '金融学前沿论文速递',\n",
       " '李超宏观研究与资产配置',\n",
       " '人民币交易与研究',\n",
       " '筹码',\n",
       " '投研帮',\n",
       " 'Pure Delta',\n",
       " '向小田',\n",
       " '【量化投资与机器学习】微信公众号',\n",
       " '量化投资大家学',\n",
       " '深圳天谷资产管理有限公司',\n",
       " '40秒',\n",
       " '岭峰资本',\n",
       " '混沌巡洋舰',\n",
       " '市场观察家',\n",
       " '外汇头条',\n",
       " '定投十年十倍',\n",
       " '私募工场',\n",
       " '聪明投资者',\n",
       " '扑克投资家',\n",
       " '看研报资讯',\n",
       " '冷眼局中人',\n",
       " '三思门',\n",
       " '华尔街情报圈',\n",
       " '冲浪团',\n",
       " '加州分析员']"
      ]
     },
     "execution_count": 119,
     "metadata": {},
     "output_type": "execute_result"
    }
   ],
   "source": [
    "ls_kol"
   ]
  },
  {
   "cell_type": "markdown",
   "metadata": {},
   "source": [
    "loop in the list key of leaders:\n",
    "get history\n",
    "loop in the history article url\n",
    "if there's author's directory"
   ]
  },
  {
   "cell_type": "raw",
   "metadata": {},
   "source": [
    "os.path.exists('data/a/a')"
   ]
  },
  {
   "cell_type": "raw",
   "metadata": {},
   "source": [
    "pathlib.Path(\"/tmp/path/to/desired/directory\").mkdir(parents=True, exist_ok=True)"
   ]
  },
  {
   "cell_type": "code",
   "execution_count": 122,
   "metadata": {
    "scrolled": true
   },
   "outputs": [
    {
     "name": "stderr",
     "output_type": "stream",
     "text": [
      "\n",
      "\n",
      "\n",
      "  0%|          | 0/57 [00:00<?, ?it/s]\u001b[A\u001b[A\u001b[A\n",
      "\n",
      "\n",
      "  2%|▏         | 1/57 [00:00<00:09,  6.14it/s]\u001b[A\u001b[A\u001b[A"
     ]
    },
    {
     "name": "stdout",
     "output_type": "stream",
     "text": [
      "now: 付鹏的财经世界\n",
      "now: 长赢指数投资\n",
      "please input code: df\n",
      "failed to fetch historical articles.\n",
      "failed to fetch historical articles.\n",
      "please input code: d3j3hc\n"
     ]
    },
    {
     "name": "stderr",
     "output_type": "stream",
     "text": [
      "\n",
      "\n",
      "\n",
      "  4%|▎         | 2/57 [01:01<17:01, 18.58s/it]\u001b[A\u001b[A\u001b[A"
     ]
    },
    {
     "name": "stdout",
     "output_type": "stream",
     "text": [
      "now: 博策远略\n",
      "对猫艺展的态度是检验一个投资者成熟与否的重要标准——模型更新190630\n",
      "Crawling: http://mp.weixin.qq.com/s?timestamp=1561905408&src=3&ver=1&signature=B0P9xt7uN7tPSgH2ozY2CDQ3ih3*qTZkkJB0EB*cQ6HXHCOvpNtxJHYgVlrnPoYXDoD995vv*G6SOimYI80UVgu828yODJKWt8Z402czvmrUf10OmTwSefT9XU*V8hp5Kh563ZuBqxsq1JbFzZ9n-b6BxarEHcLBoYzLrU7*l4w=\n",
      "Trying Count: 1\n",
      "请求成功！\n",
      "中金公司：定投该怎么投？—博览研报010\n",
      "模型更新 190623\n",
      "模型更新 190616\n",
      "美股历史上都是为什么“挂”的？美联储、基本面、高估值、外部冲击—博览研报009\n",
      "除二创以外均进入到布局区域——模型更新 190609\n",
      "2019年A股市场招生全国统一考试试题 答对14道方可入市交（收）易（割）\n",
      "投资决策中的“统计意义”与“经济含义”——从美债收曲倒挂案例说起\n",
      "模型更新 190602\n",
      "[视频]全球TOP10上市公司市值变迁,2007年的中石油亮了\n",
      "模型更新 190526\n",
      "全市场最贵消费指数的未来\n",
      "模型更新 190519\n",
      "A股：“消了户你也不会幸福的！”\n",
      "北上资金到底赚了多少钱？跟着抄作业的正确姿势？——博览研报008\n",
      "模型更新 191512\n"
     ]
    },
    {
     "name": "stderr",
     "output_type": "stream",
     "text": [
      "\n",
      "\n",
      "\n",
      "  5%|▌         | 3/57 [01:06<13:00, 14.45s/it]\u001b[A\u001b[A\u001b[A"
     ]
    },
    {
     "name": "stdout",
     "output_type": "stream",
     "text": [
      "now: 新全球资产配置\n",
      "你所需要知道的房地产信托基金与大类资产配置\n",
      "加入情绪指标的中国版四因子模型，能摸清A股的脉搏吗？\n",
      "股票头寸更少，收益率反而更大，Why？\n",
      "细节决定成败：构建多因子策略的工匠精神\n",
      "黑天鹅捕手：揭秘管理型期货策略\n",
      "道之所存，师之所存：对理财师行业的一点思考\n",
      "多因子策略的五大讨论\n",
      "分享图片\n",
      "投资大宗商品指数你一定要了解的事\n",
      "分享图片\n"
     ]
    },
    {
     "name": "stderr",
     "output_type": "stream",
     "text": [
      "\n",
      "\n",
      "\n",
      "  7%|▋         | 4/57 [01:09<09:37, 10.89s/it]\u001b[A\u001b[A\u001b[A"
     ]
    },
    {
     "name": "stdout",
     "output_type": "stream",
     "text": [
      "now: 沧海一土狗\n",
      "债券收益率是否会进一步下行？\n",
      "全球化的黄昏——人与机器的终极对决\n",
      "周期走到哪里了？\n",
      "我们是谁？\n",
      "我们都是趋势交易者，再来一碗基本面\n",
      "7倍的工行和30倍的茅台，哪个更贵？\n",
      "投资的困惑——左边走还是右边走？\n",
      "飙涨的短期融资是否违背“高质量发展”\n",
      "如何看待社保基金减持交行？\n",
      "央妈的死敌——降息预期\n"
     ]
    },
    {
     "name": "stderr",
     "output_type": "stream",
     "text": [
      "\n",
      "\n",
      "\n",
      "  9%|▉         | 5/57 [01:11<07:20,  8.47s/it]\u001b[A\u001b[A\u001b[A"
     ]
    },
    {
     "name": "stdout",
     "output_type": "stream",
     "text": [
      "now: 川流不息\n",
      "《疯狂动物城》的三重内涵，以及一个文化图腾的诞生\n",
      "少女亭亭 无忧亦无惧\n",
      "随着一声清脆的响声\n",
      "那些年我们的动画（一）\n",
      "那些看一眼就忘不了的电影台词\n",
      "【菲律宾 宿务岛】麦哲伦的流连忘返\n",
      "「微雨众卉新，一雷惊蛰始」。\n",
      "如何理解「我爱你，我只是不再喜欢你了」\n",
      "走路去纽约。（十大必去之处、Tips以及秘密餐馆）\n",
      "”表情女帝大人”Aries\n",
      "既疯狂，又节制——《指匠情挑》\n",
      "你是否有过“砰然心动”\n",
      "阿佛洛狄西亚\n"
     ]
    },
    {
     "name": "stderr",
     "output_type": "stream",
     "text": [
      "\n",
      "\n",
      "\n",
      " 11%|█         | 6/57 [01:14<05:44,  6.75s/it]\u001b[A\u001b[A\u001b[A\n",
      "\n",
      "\n",
      " 12%|█▏        | 7/57 [01:14<03:58,  4.78s/it]\u001b[A\u001b[A\u001b[A"
     ]
    },
    {
     "name": "stdout",
     "output_type": "stream",
     "text": [
      "now: Trader.M的知乎文章\n",
      "now: StochasticWalker的知乎文章\n"
     ]
    },
    {
     "name": "stderr",
     "output_type": "stream",
     "text": [
      "\n",
      "\n",
      "\n",
      " 14%|█▍        | 8/57 [01:15<02:47,  3.41s/it]\u001b[A\u001b[A\u001b[A"
     ]
    },
    {
     "name": "stdout",
     "output_type": "stream",
     "text": [
      "now: 全球资产观察\n",
      "是否应该集中持仓？\n",
      "分享图片\n",
      "Bridgewater桥水2019年展望\n",
      "分享图片\n",
      "KC展望2019年中国股市：寻底之旅\n",
      "KC复盘2018：三大预期错位与演化\n",
      "分享图片\n",
      "分享图片\n",
      "分享图片\n",
      "全球股市Q&amp;A\n"
     ]
    },
    {
     "name": "stderr",
     "output_type": "stream",
     "text": [
      "\n",
      "\n",
      "\n",
      " 16%|█▌        | 9/57 [01:17<02:33,  3.20s/it]\u001b[A\u001b[A\u001b[A"
     ]
    },
    {
     "name": "stdout",
     "output_type": "stream",
     "text": [
      "now: 湖畔公寓28号\n",
      "failed to fetch historical articles.\n"
     ]
    },
    {
     "ename": "KeyboardInterrupt",
     "evalue": "",
     "output_type": "error",
     "traceback": [
      "\u001b[0;31m---------------------------------------------------------------------------\u001b[0m",
      "\u001b[0;31mKeyboardInterrupt\u001b[0m                         Traceback (most recent call last)",
      "\u001b[0;32m<ipython-input-122-c66b13fcc616>\u001b[0m in \u001b[0;36m<module>\u001b[0;34m()\u001b[0m\n\u001b[1;32m     10\u001b[0m         \u001b[0;32melse\u001b[0m\u001b[0;34m:\u001b[0m\u001b[0;34m\u001b[0m\u001b[0m\n\u001b[1;32m     11\u001b[0m             \u001b[0;32mbreak\u001b[0m\u001b[0;34m\u001b[0m\u001b[0m\n\u001b[0;32m---> 12\u001b[0;31m         \u001b[0mtime\u001b[0m\u001b[0;34m.\u001b[0m\u001b[0msleep\u001b[0m\u001b[0;34m(\u001b[0m\u001b[0;36m2\u001b[0m\u001b[0;34m)\u001b[0m\u001b[0;34m\u001b[0m\u001b[0m\n\u001b[0m\u001b[1;32m     13\u001b[0m \u001b[0;34m\u001b[0m\u001b[0m\n\u001b[1;32m     14\u001b[0m     \u001b[0;31m# get articles\u001b[0m\u001b[0;34m\u001b[0m\u001b[0;34m\u001b[0m\u001b[0m\n",
      "\u001b[0;31mKeyboardInterrupt\u001b[0m: "
     ]
    }
   ],
   "source": [
    "for au in tqdm(ls_kol):\n",
    "    print('now: %s'%au)\n",
    "    while True:\n",
    "        # get latest 10 articles\n",
    "        try:\n",
    "            history = ws_api.get_gzh_article_by_history(au)\n",
    "        except:\n",
    "            pass\n",
    "            print('failed to fetch historical articles.')\n",
    "        else:\n",
    "            break\n",
    "        time.sleep(2)\n",
    "        \n",
    "    # get articles \n",
    "    if len(history) == 0:\n",
    "        continue\n",
    "    # make directory\n",
    "    wechat_name = history['gzh']['wechat_name']\n",
    "    export_dir = 'data/{0}/'.format(wechat_name)\n",
    "    if not os.path.exists(export_dir):\n",
    "        pathlib.Path(export_dir).mkdir(parents=True, exist_ok=True)\n",
    "    for ci in history['article']:\n",
    "        author = ci['author']\n",
    "        title = ci['title']\n",
    "        dt = ci['datetime']\n",
    "        dt = datetime.datetime.fromtimestamp(\n",
    "            int(dt)\n",
    "        ).strftime('%Y_%m_%d')\n",
    "        url = ci['content_url']\n",
    "        print(title)\n",
    "        # use requests\n",
    "        title = title.replace('/', '')\n",
    "        fpath = 'data/{0}/{1}_{2}_{3}.html'.format(wechat_name, dt, author, title)\n",
    "        if not os.path.exists(fpath):\n",
    "            article = get_html(url)\n",
    "            if article:\n",
    "                # export article\n",
    "                with open(fpath, 'w') as fp:\n",
    "                    fp.write(article)\n",
    "                \n",
    "        else:\n",
    "            continue\n",
    "        time.sleep(2)    \n",
    "    time.sleep(2)"
   ]
  },
  {
   "cell_type": "code",
   "execution_count": 121,
   "metadata": {},
   "outputs": [
    {
     "data": {
      "text/plain": [
       "{'article': [{'abstract': '历史表明利率倒挂后美股却上涨，那么本轮会有何不同？',\n",
       "   'author': '加州分析员',\n",
       "   'content_url': 'http://mp.weixin.qq.com/s?timestamp=1561866012&src=3&ver=1&signature=xNq6M1LNqUqHSjEY9j6kFKgsk9J5arq-dN9C9hzIeycyuRwNaC9sgrOWWIJBkvGeldBrf9Iwcj7CvqlMauwrXCiEi-*yr9WDVXuWf6b5li911a-PkfKpoAtysAK9pB6mQPzD0ZM6fQTaDr5yR*2Jw2Z7efFm1FESvFOKa3-2pHY=',\n",
       "   'copyright_stat': 11,\n",
       "   'cover': 'http://mmbiz.qpic.cn/mmbiz_jpg/Bp4j7Ly7UpToAh7oLE71HkSKchjg3PZg8yibbAYWTMiaiadxEBzfz2iaCCcHl9vWQriawsibJQtpCOAmhiaxSIMIBIbeQ/0?wx_fmt=jpeg',\n",
       "   'datetime': 1553473605,\n",
       "   'fileid': 100000909,\n",
       "   'main': 1,\n",
       "   'send_id': 1000000113,\n",
       "   'source_url': '',\n",
       "   'title': '美股是否已经走到尽头？',\n",
       "   'type': '49'},\n",
       "  {'abstract': '市场观点：1) 10 yr 目前没有明显方向，trading sideway；2) 美股今年会破掉18年12月低位',\n",
       "   'author': 'Jeff Gundlach',\n",
       "   'content_url': 'http://mp.weixin.qq.com/s?timestamp=1561866012&src=3&ver=1&signature=xNq6M1LNqUqHSjEY9j6kFKgsk9J5arq-dN9C9hzIeycyuRwNaC9sgrOWWIJBkvGeldBrf9Iwcj7CvqlMauwrXOVqFk1z-*IMckIe*dpvmHnTO*QFMXbCj8RzZTTNFzuNcX*yzYze6ma-NNJ4qeDe32C3rZeahmm0lW0YoG9kOsQ=',\n",
       "   'copyright_stat': 100,\n",
       "   'cover': 'http://mmbiz.qpic.cn/mmbiz_jpg/Bp4j7Ly7UpSJD7Rny6SBKQgbEIDET7oCyZugicxY8h8RRTz26ibJT8HWlN0mbuZUR28lvIsFF9TrNGPnOLAXJgkA/0?wx_fmt=jpeg',\n",
       "   'datetime': 1552435736,\n",
       "   'fileid': 100000889,\n",
       "   'main': 1,\n",
       "   'send_id': 1000000112,\n",
       "   'source_url': '',\n",
       "   'title': '新债王3月电话会',\n",
       "   'type': '49'},\n",
       "  {'abstract': '新债王的Total Return Bond Fund在18年跑赢了97%的同类基金。对过眼神，是真牛。',\n",
       "   'author': 'Jeff Gundlach',\n",
       "   'content_url': 'http://mp.weixin.qq.com/s?timestamp=1561866012&src=3&ver=1&signature=xNq6M1LNqUqHSjEY9j6kFKgsk9J5arq-dN9C9hzIeycyuRwNaC9sgrOWWIJBkvGeldBrf9Iwcj7CvqlMauwrXB1hCL-5rkPZ3eQBr-VpPG1QLhbesaV99slVbkXb3cOXGPyLvDsdmBJS*LXEceqXHBwje35Q*fUT6U1BNOsEQZE=',\n",
       "   'copyright_stat': 100,\n",
       "   'cover': 'http://mmbiz.qpic.cn/mmbiz_jpg/Bp4j7Ly7UpRgY35BVu4icfrEs6fkKN30nfHWFun0OVZ3lhxTCskHLHb4fk2fk8bBb4y6x4ACibGc1To0OmAYCm0w/0?wx_fmt=jpeg',\n",
       "   'datetime': 1547013495,\n",
       "   'fileid': 100000850,\n",
       "   'main': 1,\n",
       "   'send_id': 1000000111,\n",
       "   'source_url': '',\n",
       "   'title': '新债王1月电话会',\n",
       "   'type': '49'},\n",
       "  {'abstract': '某卖方说18/19的宏观和11/12很像，都是先紧后松。股票走势上11和18年也很像，都是市盈率大幅走低但是每股盈利却没有走低太多。12年如市场上年所料走低了，但是市盈率却大幅走高导致大盘走出一个修复行情。市盈率领先于与基本面，中国股票在19年不悲观，全球范围跑赢机会大。',\n",
       "   'author': '',\n",
       "   'content_url': 'http://mp.weixin.qq.com/s?timestamp=1561866012&src=3&ver=1&signature=xNq6M1LNqUqHSjEY9j6kFKgsk9J5arq-dN9C9hzIeycyuRwNaC9sgrOWWIJBkvGeldBrf9Iwcj7CvqlMauwrXB82DKNF6LIgp9JrKwzYJmyeewAgY2uvWid2NMAergL*6p-f1-wS0ts8zpvFS1nFI*Apgo9GkmFb8NnHakNA614=',\n",
       "   'copyright_stat': 0,\n",
       "   'cover': 'http://mmbiz.qpic.cn/mmbiz_jpg/Bp4j7Ly7UpR14ibTv5jnJVJibsqeWaYTvHsydZibFjIuS5hgE6GIsiahWCbu4ZCN6bF0djJ9DiaayGx6Jpgb8R7ic9Pw/0',\n",
       "   'datetime': 1546638266,\n",
       "   'fileid': 0,\n",
       "   'main': 1,\n",
       "   'send_id': 1000000110,\n",
       "   'source_url': '',\n",
       "   'title': '分享图片',\n",
       "   'type': '49'},\n",
       "  {'abstract': '今天的电话会主要谈了利率的长期走向和企业债泡沫。',\n",
       "   'author': 'Jeff Gundlach',\n",
       "   'content_url': 'http://mp.weixin.qq.com/s?timestamp=1561866012&src=3&ver=1&signature=xNq6M1LNqUqHSjEY9j6kFKgsk9J5arq-dN9C9hzIeycyuRwNaC9sgrOWWIJBkvGeldBrf9Iwcj7CvqlMauwrXO*M*YWjocHhgMMMby6xd-jKnqGHTvBHUY0qwtw*32Qjjcb0FVjIHPvHR-tqKjAz72-Hccm2R3AoksWOB4hh-6M=',\n",
       "   'copyright_stat': 100,\n",
       "   'cover': 'http://mmbiz.qpic.cn/mmbiz_jpg/Bp4j7Ly7UpSyZfB0x9rTXKnme3iaYFQ3dhcBDTgOcQax7yoEBDtJJ74EsibtVjLU6rjHmmEuohkdyjJwtSg7ibW4A/0?wx_fmt=jpeg',\n",
       "   'datetime': 1542158326,\n",
       "   'fileid': 100000812,\n",
       "   'main': 1,\n",
       "   'send_id': 1000000109,\n",
       "   'source_url': '',\n",
       "   'title': '新债王四季度电话会',\n",
       "   'type': '49'},\n",
       "  {'abstract': '新债王现在已经是改成每个季度开一次电话会了。  他之前是看多美元/EM/商品，看空美股，债券中性。结果看多美',\n",
       "   'author': 'Jeff Gundlach',\n",
       "   'content_url': 'http://mp.weixin.qq.com/s?timestamp=1561866012&src=3&ver=1&signature=xNq6M1LNqUqHSjEY9j6kFKgsk9J5arq-dN9C9hzIeycyuRwNaC9sgrOWWIJBkvGeldBrf9Iwcj7CvqlMauwrXJq2idIlu0NRdMQbK3DAaFOSbNo-Y-1T*swGbBbwGmXcJ*MlCYY8oNCLI2eWOpP44jD0LYeAuE0WXP2jdSzqqa4=',\n",
       "   'copyright_stat': 100,\n",
       "   'cover': 'http://mmbiz.qpic.cn/mmbiz_jpg/Bp4j7Ly7UpQfVGicunAsKfxIcIRtsDgj1yWpHna33v4pLahhoQrfL6gmIbGtyjnIoVibGNq2ecvBJo69vDAgTib8w/0?wx_fmt=jpeg',\n",
       "   'datetime': 1536804108,\n",
       "   'fileid': 100000787,\n",
       "   'main': 1,\n",
       "   'send_id': 1000000108,\n",
       "   'source_url': '',\n",
       "   'title': '新债王三季度电话会',\n",
       "   'type': '49'},\n",
       "  {'abstract': '特斯拉的“私有化”闹剧持续了两周，今晚终于由马斯克在博客公告终止私有化而结束。',\n",
       "   'author': '加州分析员',\n",
       "   'content_url': 'http://mp.weixin.qq.com/s?timestamp=1561866012&src=3&ver=1&signature=xNq6M1LNqUqHSjEY9j6kFKgsk9J5arq-dN9C9hzIeycyuRwNaC9sgrOWWIJBkvGeldBrf9Iwcj7CvqlMauwrXJ7xFzsOFRkfhRemytRtp1kLN1b5jH9qX61S6Z0UldWlEtS5DYg697toNIMFCtEqptUfWZIlM4tfwcrb4gH5uDI=',\n",
       "   'copyright_stat': 11,\n",
       "   'cover': 'http://mmbiz.qpic.cn/mmbiz_jpg/Bp4j7Ly7UpSU6NelNVN9YY5yu2mgicic6uHRUCQ7sFTS7QK6PIK91EfTzJJFQSakkenlmweHVnfTPn6sx7ptenUQ/0?wx_fmt=jpeg',\n",
       "   'datetime': 1535184442,\n",
       "   'fileid': 100000777,\n",
       "   'main': 1,\n",
       "   'send_id': 1000000107,\n",
       "   'source_url': '',\n",
       "   'title': '怪空头咯？',\n",
       "   'type': '49'},\n",
       "  {'abstract': '就是一些没有明显主题的杂锦🚣🏽',\n",
       "   'author': '',\n",
       "   'content_url': 'http://mp.weixin.qq.com/s?timestamp=1561866012&src=3&ver=1&signature=xNq6M1LNqUqHSjEY9j6kFKgsk9J5arq-dN9C9hzIeycyuRwNaC9sgrOWWIJBkvGeldBrf9Iwcj7CvqlMauwrXM*LZ9UuFm1KwWW3nyvmzL9JJK2fbkTCZ4jDUMvdF8C26tHFeWL*iRR0BA0oEi0NKyt6nVHyO-bq5sYdDE*amGY=',\n",
       "   'copyright_stat': 0,\n",
       "   'cover': 'http://mmbiz.qpic.cn/mmbiz_jpg/Bp4j7Ly7UpTXXbXUGXjIx91urzIWv7uyPDD7VsNibVIIcezibQPKUuBr409o6kyFRG1AnibGY7SAExEYeKNa755Mg/0',\n",
       "   'datetime': 1534579203,\n",
       "   'fileid': 0,\n",
       "   'main': 1,\n",
       "   'send_id': 1000000106,\n",
       "   'source_url': '',\n",
       "   'title': '分享图片',\n",
       "   'type': '49'},\n",
       "  {'abstract': '太阳微公司合伙创始人Scott McNealy关于其公司估值的评价对今天的市场很有意义',\n",
       "   'author': '加州分析员',\n",
       "   'content_url': 'http://mp.weixin.qq.com/s?timestamp=1561866012&src=3&ver=1&signature=xNq6M1LNqUqHSjEY9j6kFKgsk9J5arq-dN9C9hzIeycyuRwNaC9sgrOWWIJBkvGeldBrf9Iwcj7CvqlMauwrXH*-ExtMO0trpkTC9uyEnWM*ndQt0VIOUykuEQKxojSnH5lsp7dsRXBtlZQiUqdZVDGCuuUuGVzhDpp4O7WkncY=',\n",
       "   'copyright_stat': 11,\n",
       "   'cover': 'http://mmbiz.qpic.cn/mmbiz_jpg/Bp4j7Ly7UpTtMibuaG535y9iclc3KktjuswfL9e6MV0XDosUtUC5rNmGUqUMuu0NywODIFbKbSP6cBTIG7SQyQoQ/0?wx_fmt=jpeg',\n",
       "   'datetime': 1532852314,\n",
       "   'fileid': 100000766,\n",
       "   'main': 1,\n",
       "   'send_id': 1000000105,\n",
       "   'source_url': '',\n",
       "   'title': '那些交易在十倍年销售额的股票',\n",
       "   'type': '49'},\n",
       "  {'abstract': '国内投资/炒作特斯拉供应商的朋友要小心了。',\n",
       "   'author': '加州分析员',\n",
       "   'content_url': 'http://mp.weixin.qq.com/s?timestamp=1561866012&src=3&ver=1&signature=xNq6M1LNqUqHSjEY9j6kFKgsk9J5arq-dN9C9hzIeycyuRwNaC9sgrOWWIJBkvGeldBrf9Iwcj7CvqlMauwrXPLrIOVN5yRL6FVerPmcWzSqxeD9a0FlQ1pRp2qLvvYHncLEgke-NIgkM880yV*T4WEEUMdEu1K4JejRUD*RCz4=',\n",
       "   'copyright_stat': 11,\n",
       "   'cover': 'http://mmbiz.qpic.cn/mmbiz_jpg/Bp4j7Ly7UpQZyMJPltNvD2jkmQx9WMD8brr3TRvAqSyRoXWMLgnbIHOqEywibqI7uQ2sQQG1uibO6aFqEnBe4Puw/0?wx_fmt=jpeg',\n",
       "   'datetime': 1532479936,\n",
       "   'fileid': 100000757,\n",
       "   'main': 1,\n",
       "   'send_id': 1000000104,\n",
       "   'source_url': '',\n",
       "   'title': '特斯拉的流动性危机',\n",
       "   'type': '49'}],\n",
       " 'gzh': {'authentication': '本号分享关于Global Equity和Global Macro的投资(非交易)。',\n",
       "  'headimage': 'http://wx.qlogo.cn/mmhead/Q3auHgzwzM4szNhGRQichibicTw28fT61wyk1JBCJeKzFKTBlsicmAnnTA/0',\n",
       "  'introduction': '本号分享关于Global Equity和Global Macro的投资(非交易)。',\n",
       "  'wechat_id': 'ca-alpha',\n",
       "  'wechat_name': '加州分析员'}}"
      ]
     },
     "execution_count": 121,
     "metadata": {},
     "output_type": "execute_result"
    }
   ],
   "source": [
    "history"
   ]
  },
  {
   "cell_type": "code",
   "execution_count": 113,
   "metadata": {
    "scrolled": true
   },
   "outputs": [
    {
     "data": {
      "text/plain": [
       "{'content': '旧文重发。从7月的低点到现在，美国10年国债大跌，收益率上升了27个基点。未来一段时间，所有长久期资产很可能都会受到影响。这种趋势最终会传导到中国。而房子是典型的超长久期，流动性极差的资产。在这个时点加杠杆持有房地产非常不明智的。\\n\\n\\n\\n\\n\\n\\n最新一期的GMO Quarterly Letter值得一看。管理一千多亿美元的GMO坚信价值投资，但同时也运用很多量化的方式分析市场，预测各大类资产的未来长期回报率，帮助进行资产配置。他们的一个核心理念就是长期看，各种资产具有均值回归的特性，而泡沫则是投资中最重要的事，最高的风险，最佳的机会，往往蕴含其中。\\nGMO这封信的核心观点在于久期。过去6-7年，无论是股票还是债券，房地产还是PE股权投资，高风险资产还是低风险资产，流动性资产还是无流动性资产，表现的都非常好。他们之间的区别并不大。但是，最大的区别在于不同的久期。由于全球宽松，折现率一路下降，长久期的资产表现远远好过短久期的资产。因此，投资者在资产配置上也加大了长久期资产的配置，减少了短久期资产。但是，这种水涨船高的情况让长久期资产享受了太多超出历史均值的升值，未来很可能会均值回归，表现不佳。相反，未来短久期的“另类资产”很可能表现均值回归，超过长久期的资产。\\n\\n\\n\\n\\n\\n\\n折现率下降对于长久期资产的价格提高具有极高的作用。举个例子，一个零票息的债券，不支付利息，只是在10年后一次性支付一百万美元的总额。这种债券的未来现金流是确定的，就是10年后支付一百万美元。如果是1.625%的收益率，则这个债券折现后的现值应该是$851,127美元。但是，如果收益率降到0.625%，则这个债券折现后的现值就是$939,596。这样一来，未来十年的收益，通过降低折现率，一下子就透支到了现在，实现了本来10年才能实现的收益的一半。而这个债券的现金流并没有任何变化，还是10年后支付一百万美元，所不同的是宽松的环境下，折现率降低，提前透支了长久期资产的价值。这种水涨船高，实际上是央行主导下的寅吃卯粮游戏。\\n无论是长期债券、股票、房地产，还是需要长久期的PE股权投资，都受益于这种提前透支的游戏，水涨船高。但是那些短久期的资产，如现金、短期债券、对冲基金等则无法从折现率的下降中获得好处。\\n未来，如果经济回升，长久期资产未来的现金流提高，但是折现率如果上升则作用非常大，会抵消现金流改善对估值的提升，反而降低长久期资产的估值。而如果未来再次发生危机，但折现率已经低的不能再低了，恶化的未来现金流同样会降低长久期资产的估值。如果两者叠加，经济恶化但折现率上升，则长久期资产会受到现金流和折现率的双杀。因此，风水轮流转，无论如何，未来短久期资产的表现很可能在不同情况下都优于长久期资产。\\n在现在这个时点，并不是一个加大风险资产配置，加大长久期资产配置的时候，尤其当你的长久期资产是用借债的方式获取的。资产的价格在未来可能是不确定的，而唯一确定的就是你的负债。',\n",
       " 'date': None,\n",
       " 'nickname': '原创： 贝乐斯 ',\n",
       " 'title': '水涨船高看久期',\n",
       " 'wechat': 'DimensionsCapital',\n",
       " 'wechat_name': '岭峰资本'}"
      ]
     },
     "execution_count": 113,
     "metadata": {},
     "output_type": "execute_result"
    }
   ],
   "source": [
    "parse_detail(article)"
   ]
  },
  {
   "cell_type": "code",
   "execution_count": null,
   "metadata": {
    "scrolled": true
   },
   "outputs": [],
   "source": [
    "list(history)"
   ]
  },
  {
   "cell_type": "code",
   "execution_count": null,
   "metadata": {},
   "outputs": [],
   "source": [
    "history['gzh']"
   ]
  },
  {
   "cell_type": "code",
   "execution_count": null,
   "metadata": {},
   "outputs": [],
   "source": []
  }
 ],
 "metadata": {
  "kernelspec": {
   "display_name": "Python 3",
   "language": "python",
   "name": "python3"
  },
  "language_info": {
   "codemirror_mode": {
    "name": "ipython",
    "version": 3
   },
   "file_extension": ".py",
   "mimetype": "text/x-python",
   "name": "python",
   "nbconvert_exporter": "python",
   "pygments_lexer": "ipython3",
   "version": "3.6.1"
  }
 },
 "nbformat": 4,
 "nbformat_minor": 2
}
