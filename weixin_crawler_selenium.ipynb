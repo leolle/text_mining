{
 "cells": [
  {
   "cell_type": "code",
   "execution_count": 38,
   "metadata": {},
   "outputs": [],
   "source": [
    "import sys\n",
    "\n",
    "import requests\n",
    "import time\n",
    "import datetime\n",
    "import random\n",
    "import pandas as mdb\n",
    "\n",
    "from lxml import etree\n",
    "from selenium import webdriver\n",
    "from tqdm import tqdm\n",
    "import json\n"
   ]
  },
  {
   "cell_type": "code",
   "execution_count": 39,
   "metadata": {},
   "outputs": [
    {
     "name": "stdout",
     "output_type": "stream",
     "text": [
      "[{'domain': '.sogou.com', 'expires': 'Sat, 07 Jul 2029 09:58:08 GMT', 'expiry': 1878112688, 'httponly': False, 'name': 'SUV', 'path': '/', 'secure': False, 'value': '0047C07F725EC5545D25B6B0D6CEA548'}, {'domain': 'www.sogou.com', 'httponly': False, 'name': 'PHPSESSID', 'path': '/', 'secure': False, 'value': 'fbq9ggdnoe109acqn3vhe960f3'}, {'domain': '.sogou.com', 'expires': 'Tue, 05 Jul 2039 09:58:08 GMT', 'expiry': 2193472688, 'httponly': False, 'name': 'SUID', 'path': '/', 'secure': False, 'value': '6839E2742C18960A000000005D25B6B0'}, {'domain': '.sogou.com', 'expires': 'Thu, 09 Jul 2020 09:58:08 GMT', 'expiry': 1594288688, 'httponly': False, 'name': 'IPLOC', 'path': '/', 'secure': False, 'value': 'CN3100'}, {'domain': '.sogou.com', 'expires': 'Thu, 09 Jul 2020 09:58:08 GMT', 'expiry': 1594288688, 'httponly': False, 'name': 'SNUID', 'path': '/', 'secure': False, 'value': 'F6A77FEA9E9813CE28470CAE9EC1DBD6'}, {'domain': 'www.sogou.com', 'expires': 'Fri, 09 Aug 2019 09:58:08 GMT', 'expiry': 1565344688, 'httponly': False, 'name': 'ABTEST', 'path': '/', 'secure': False, 'value': '7|1562752688|v17'}]\n"
     ]
    }
   ],
   "source": [
    "d = webdriver.PhantomJS('phantomjs-2.1.1-linux-x86_64/bin/phantomjs',service_args=['--load-images=yes','--disk-cache=yes'])\n",
    "# webdriver.PhantomJS(executable_path='phantomjs-2.1.1-linux-x86_64/bin/phantomjs',\n",
    "#                                      service_args=['--ignore-ssl-errors=true', '--ssl-protocol=tlsv1'])\n",
    "try:\n",
    "    d.get(\"https://www.sogou.com/web?query=\")\n",
    "    Snuid=d.get_cookies()[5][\"value\"]\n",
    "    print(d.get_cookies())\n",
    "except:\n",
    "    Snuid=\"\"\n",
    "d.quit()\n"
   ]
  },
  {
   "cell_type": "code",
   "execution_count": 31,
   "metadata": {
    "scrolled": true
   },
   "outputs": [
    {
     "data": {
      "text/plain": [
       "'0|1562746724|v17'"
      ]
     },
     "execution_count": 31,
     "metadata": {},
     "output_type": "execute_result"
    }
   ],
   "source": [
    "Snuid"
   ]
  },
  {
   "cell_type": "code",
   "execution_count": 40,
   "metadata": {
    "scrolled": true
   },
   "outputs": [
    {
     "name": "stdout",
     "output_type": "stream",
     "text": [
      "{'Server': 'nginx', 'Date': 'Wed, 10 Jul 2019 09:58:28 GMT', 'Content-Type': 'text/html; charset=utf-8', 'Connection': 'keep-alive', 'Set-Cookie': 'SNUID=990892BFCDC9409D74C40AA5CD33DB14; expires=Thu, 09-Jul-20 09:58:28 GMT; domain=.sogou.com; path=/, IPLOC=CN3100; expires=Thu, 09-Jul-20 09:58:28 GMT; domain=.sogou.com; path=/, black_passportid=1; domain=.sogou.com; path=/; expires=Thu, 01-Dec-1994 16:00:00 GMT', 'P3P': 'CP=\"CURa ADMa DEVa PSAo PSDo OUR BUS UNI PUR INT DEM STA PRE COM NAV OTC NOI DSP COR\"', 'X-Log-Ext': 'antiforbidden=0', 'Location': 'http://www.sogou.com/antispider/?from=%2Fweb%3Fquery%3D333%26_asf%3Dwww.sogou.com%26_ast%3D1488955851%26w%3D01019900%26p%3D40040100%26ie%3Dutf8%26from%3Dindex-nologin&m=1', 'Expires': 'Wed, 10 Jul 2019 09:58:28 GMT', 'Cache-Control': 'max-age=0', 'UUID': 'be947b70-3146-4be9-b43c-d36fc9cfe67d'}\n"
     ]
    }
   ],
   "source": [
    "url=\"https://www.sogou.com/web?query=333&_asf=www.sogou.com&_ast=1488955851&w=01019900&p=40040100&ie=utf8&from=index-nologin\"\n",
    "headers={\"Cookie\":\n",
    "\"ABTEST=0|1488956269|v17;\\\n",
    "IPLOC=CN3301;\\\n",
    "SUID=E9DA81B7290B940A0000000058BFAB6D;\\\n",
    "PHPSESSID=rfrcqafv5v74hbgpt98ah20vf3;\\\n",
    "SUIR=1488956269\"\n",
    "}\n",
    "f=requests.head(url,headers=headers).headers\n",
    "print(f)\n"
   ]
  },
  {
   "cell_type": "code",
   "execution_count": 37,
   "metadata": {},
   "outputs": [
    {
     "data": {
      "text/plain": [
       "'SNUID=01900B245553D81ACEE3912856FF1490; expires=Thu, 09-Jul-20 08:38:07 GMT; domain=.sogou.com; path=/, IPLOC=CN3100; expires=Thu, 09-Jul-20 08:38:07 GMT; domain=.sogou.com; path=/, black_passportid=1; domain=.sogou.com; path=/; expires=Thu, 01-Dec-1994 16:00:00 GMT'"
      ]
     },
     "execution_count": 37,
     "metadata": {},
     "output_type": "execute_result"
    }
   ],
   "source": [
    "f['Set-Cookie']"
   ]
  },
  {
   "cell_type": "code",
   "execution_count": 41,
   "metadata": {},
   "outputs": [],
   "source": [
    "\n",
    "\n",
    "class weixin_spider:\n",
    "    def __init__(self, ):\n",
    "        self.check = True\n",
    "        self.ua = [\n",
    "    \"Mozilla/4.0 (compatible; MSIE 6.0; Windows NT 5.1; SV1; AcooBrowser; .NET CLR 1.1.4322; .NET CLR 2.0.50727)\",\n",
    "    \"Mozilla/4.0 (compatible; MSIE 7.0; Windows NT 6.0; Acoo Browser; SLCC1; .NET CLR 2.0.50727; Media Center PC 5.0; .NET CLR 3.0.04506)\",\n",
    "    \"Mozilla/4.0 (compatible; MSIE 7.0; AOL 9.5; AOLBuild 4337.35; Windows NT 5.1; .NET CLR 1.1.4322; .NET CLR 2.0.50727)\",\n",
    "    \"Mozilla/5.0 (Windows; U; MSIE 9.0; Windows NT 9.0; en-US)\",\n",
    "    \"Mozilla/5.0 (compatible; MSIE 9.0; Windows NT 6.1; Win64; x64; Trident/5.0; .NET CLR 3.5.30729; .NET CLR 3.0.30729; .NET CLR 2.0.50727; Media Center PC 6.0)\",\n",
    "    \"Mozilla/5.0 (compatible; MSIE 8.0; Windows NT 6.0; Trident/4.0; WOW64; Trident/4.0; SLCC2; .NET CLR 2.0.50727; .NET CLR 3.5.30729; .NET CLR 3.0.30729; .NET CLR 1.0.3705; .NET CLR 1.1.4322)\",\n",
    "    \"Mozilla/4.0 (compatible; MSIE 7.0b; Windows NT 5.2; .NET CLR 1.1.4322; .NET CLR 2.0.50727; InfoPath.2; .NET CLR 3.0.04506.30)\",\n",
    "    \"Mozilla/5.0 (Windows; U; Windows NT 5.1; zh-CN) AppleWebKit/523.15 (KHTML, like Gecko, Safari/419.3) Arora/0.3 (Change: 287 c9dfb30)\",\n",
    "    \"Mozilla/5.0 (X11; U; Linux; en-US) AppleWebKit/527+ (KHTML, like Gecko, Safari/419.3) Arora/0.6\",\n",
    "    \"Mozilla/5.0 (Windows; U; Windows NT 5.1; en-US; rv:1.8.1.2pre) Gecko/20070215 K-Ninja/2.1.1\",\n",
    "    \"Mozilla/5.0 (Windows; U; Windows NT 5.1; zh-CN; rv:1.9) Gecko/20080705 Firefox/3.0 Kapiko/3.0\",\n",
    "    \"Mozilla/5.0 (X11; Linux i686; U;) Gecko/20070322 Kazehakase/0.4.5\",\n",
    "    \"Mozilla/5.0 (X11; U; Linux i686; en-US; rv:1.9.0.8) Gecko Fedora/1.9.0.8-1.fc10 Kazehakase/0.5.6\",\n",
    "    \"Mozilla/5.0 (Windows NT 6.1; WOW64) AppleWebKit/535.11 (KHTML, like Gecko) Chrome/17.0.963.56 Safari/535.11\",\n",
    "    \"Mozilla/5.0 (Macintosh; Intel Mac OS X 10_7_3) AppleWebKit/535.20 (KHTML, like Gecko) Chrome/19.0.1036.7 Safari/535.20\",\n",
    "    \"Opera/9.80 (Macintosh; Intel Mac OS X 10.6.8; U; fr) Presto/2.9.168 Version/11.52\",\n",
    "]\n",
    "\n",
    "    \n",
    "\n",
    "    # 入口函数\n",
    "    def run(self):\n",
    "        # self.sublist = self.getSubList()\n",
    "        self.sublist = [['ULFINANCE', 'ULFINANCE']]\n",
    "        sublen = len(self.sublist)\n",
    "        \n",
    "        for i in tqdm(range(0,sublen)):\n",
    "            self.ename =  self.sublist[i][0].strip()\n",
    "            self.name =  self.sublist[i][1].strip()\n",
    "\n",
    "            time.sleep(2)  # 时间间隔为2s发送一次抓取请求，防止禁ip\n",
    "            self.search_url = (\"http://weixin.sogou.com/weixin?type=1&s_from=input&query=%s&ie=utf8&_sug_=n&_sug_type_=\") % (self.name)\n",
    "            # subcatch 查找1天内的\n",
    "            # 爬虫伪装头部设置\n",
    "            self.uachoice = random.choice(self.ua)\n",
    "            self.headers = {\"User-Agent\": self.uachoice,\"Referer\": self.search_url}\n",
    "            print(self.search_url)\n",
    "            maincontent = self.get_index(self.search_url)\n",
    "\n",
    "    '''\n",
    "    获取公众号主页地址\n",
    "    '''\n",
    "\n",
    "    def get_index(self, search_url):\n",
    "        time.sleep(2)\n",
    "\n",
    "        html = requests.get(search_url, headers=self.headers, verify=False).content\n",
    "        selector = etree.HTML(html)\n",
    "\n",
    "        # 提取文本\n",
    "        # content = selector.xpath('//div[@class=\"news-box\"]/ul/li/div[@class=\"txt-box\"]/h3/a/@href')\n",
    "        aHref = selector.xpath('//div[@class=\"txt-box\"]/p/a/@href')\n",
    "        content = selector.xpath('//div[@class=\"txt-box\"]/p[@class=\"info\"]/label/text()')\n",
    "        print('aHref\\n', aHref)\n",
    "        print('content\\n', content)\n",
    "        for ci in range(len(content)):\n",
    "            content[ci] = content[ci].decode('utf-8')\n",
    "            self.ename = self.ename.decode(\"utf-8\")\n",
    "            if (content[ci] == self.ename):\n",
    "                print(content[ci])\n",
    "                # print ('获取到:' + content[ci] + '地址入口，正在进入...')\n",
    "                catchUrlIndex = aHref[ci]\n",
    "                print(catchUrlIndex)\n",
    "                self.get_list(catchUrlIndex)\n",
    "            else:\n",
    "                pass\n",
    "\n",
    "    '''\n",
    "    获得公众号主页爬取所有文章列表，这里只显示最近10条群发 ，再筛选今天的\n",
    "    '''\n",
    "\n",
    "    def get_list(self, catchUrlIndex):\n",
    "        time.sleep(2)\n",
    "\n",
    "        # 使用webdriver.PhantomJS\n",
    "        driver = webdriver.PhantomJS(executable_path='phantomjs-2.1.1-linux-x86_64/bin/phantomjs',\n",
    "                                     service_args=['--ignore-ssl-errors=true', '--ssl-protocol=tlsv1'])\n",
    "        print('catchUrlIndex\\n', catchUrlIndex)\n",
    "        driver.get(catchUrlIndex)\n",
    "        article1 = driver.page_source\n",
    "        selector1 = etree.HTML(article1)\n",
    "\n",
    "\n",
    "        # 提取文本\n",
    "        # content = selector1.xpath('//div[@class=\"weui_media_bd\"]/p[@class=\"weui_media_extra_info\"]/text()')\n",
    "        content = selector1.xpath('//div[@class=\"page_profile_info_inner\"]/p[@class=\"weui_msg_card_list\"]/history()')\n",
    "        print('content number:\\t', len(content))\n",
    "        aText = selector1.xpath('//div[@class=\"weui_media_bd\"]/h4/text()')\n",
    "        # for i in aText:\n",
    "        #     print(i)\n",
    "        #\n",
    "        # sys.exit(0)\n",
    "\n",
    "        aHref = selector1.xpath('//div[@class=\"weui_media_bd\"]/h4/@hrefs')\n",
    "\n",
    "\n",
    "        y = datetime.datetime.now().year\n",
    "        m = datetime.datetime.now().month\n",
    "        d = datetime.datetime.now().day\n",
    "\n",
    "        # 每天晚上11点开始爬 存数据库，然后脚本处理\n",
    "        today = str(y)+'年'+ str(m) + '月'+ str(d-1)+'日'\n",
    "        # yesterday = \"2018年6月30日\"\n",
    "\n",
    "        print('开始获取：'+ today + '的文章')\n",
    "\n",
    "        if (len(content) ==0):\n",
    "            #更改爬虫被封状态\n",
    "            print('更改爬虫被封状态')\n",
    "            # self.upSubStatus()\n",
    "            sys.exit(0)\n",
    "\n",
    "        for contenti in (range(len(content))):\n",
    "            if(today == content[contenti]):\n",
    "                listUrl = 'https://mp.weixin.qq.com' + aHref[contenti]\n",
    "                listaText = aText[contenti].encode('utf8').strip().replace(' ','').replace(\"\\n\", \"\")\n",
    "                print(listaText)\n",
    "                # isexist = self.checkExist(listaText)\n",
    "                isexist = 1 # self.checkExist(listaText)\n",
    "                if(isexist):\n",
    "                    print(listaText)\n",
    "                    # 插入数据库待采集队列\n",
    "                    # self.insert_save(listUrl,self.name,listaText)\n",
    "                    # self.upSubTime(self.ename)\n",
    "                else:\n",
    "                    print('-')\n",
    "            else:\n",
    "                print('--')\n",
    "\n",
    "    def insert_save(self, url,name,listaText):\n",
    "        self.config = {\n",
    "             'host': '',\n",
    "            'port': 3306,\n",
    "            'user': 'user',\n",
    "            'passwd': 'pwd',\n",
    "            'db': 'weCatch',\n",
    "            'charset': 'utf8',\n",
    "        }\n",
    "        self.conn = mdb.connect(**self.config)\n",
    "\n",
    "        cursor = self.conn.cursor()\n",
    "        try:\n",
    "            sql = (\n",
    "                \"insert into queue (url,subname,title) values('%s','%s','%s')\" %\n",
    "                (url,name,listaText))\n",
    "            print(sql)\n",
    "            cursor.execute(sql)\n",
    "\n",
    "            self.conn.commit()\n",
    "        except:\n",
    "            import traceback\n",
    "            traceback.print_exc()\n",
    "            self.conn.rollback()\n",
    "        finally:\n",
    "            cursor.close()\n",
    "            self.conn.close()\n",
    "\n",
    "    def upSubTime(self, Ename):\n",
    "        config = {\n",
    "            'host': 'host',\n",
    "            'port': 3306,\n",
    "            'user': 'user',\n",
    "            'passwd': 'pwd',\n",
    "            'db': 'weCatch',\n",
    "            'charset': 'utf8',\n",
    "        }\n",
    "        conn = mdb.connect(**config)\n",
    "        lastTime = time.strftime('%Y-%m-%d')\n",
    "        cursor = conn.cursor()\n",
    "        try:\n",
    "            sql = (\"update subscription SET catchTime ='%s'  WHERE subEname = '%s'\" % (lastTime, Ename))\n",
    "            cursor.execute(sql)\n",
    "            conn.commit()\n",
    "        except:\n",
    "            import traceback\n",
    "            traceback.print_exc()\n",
    "            conn.rollback()\n",
    "        finally:\n",
    "            cursor.close()\n",
    "            conn.close()\n",
    "\n",
    "    def upSubStatus(self):\n",
    "        config = {\n",
    "            'host': 'host',\n",
    "            'port': 3306,\n",
    "            'user': 'user',\n",
    "            'passwd': 'pwd',\n",
    "            'db': 'weCatch',\n",
    "            'charset': 'utf8',\n",
    "        }\n",
    "        conn = mdb.connect(**config)\n",
    "        lastTime = time.strftime('%Y-%m-%d')\n",
    "        cursor = conn.cursor()\n",
    "        try:\n",
    "            sql = (\"update subStatus SET status =1 \")\n",
    "            cursor.execute(sql)\n",
    "            conn.commit()\n",
    "        except:\n",
    "            import traceback\n",
    "            traceback.print_exc()\n",
    "            conn.rollback()\n",
    "        finally:\n",
    "            cursor.close()\n",
    "            conn.close()\n",
    "\n",
    "    def checkExist(self, title):\n",
    "        # 检查查到的文章标题是否存在\n",
    "        self.config = {\n",
    "            'host': 'host',\n",
    "            'port': 3306,\n",
    "            'user': 'user',\n",
    "            'passwd': 'pwd',\n",
    "            'db': 'weCatch',\n",
    "            'charset': 'utf8',\n",
    "        }\n",
    "        self.conn = mdb.connect(**self.config)\n",
    "\n",
    "        cursor = self.conn.cursor()\n",
    "        try:\n",
    "            sql = \"select id from queue where title ='%s'  \" % (title)\n",
    "            cursor.execute(sql)\n",
    "            # 如果没有设置自动提交事务，则这里需要手动提交一次\n",
    "            self.conn.commit()\n",
    "            temp = cursor.fetchall()\n",
    "            if (temp):\n",
    "                return False\n",
    "            else:\n",
    "                return True\n",
    "        except:\n",
    "            import traceback\n",
    "            traceback.print_exc()\n",
    "            # 发生错误时会滚\n",
    "            self.conn.rollback()\n",
    "        finally:\n",
    "\n",
    "            # 关闭游标连接\n",
    "            cursor.close()\n",
    "            # 关闭数据库连接\n",
    "            self.conn.close()\n",
    "\n",
    "    def getSubList(self):\n",
    "        self.config = {\n",
    "            'host': 'host',\n",
    "            'port': 3306,\n",
    "            'user': 'user',\n",
    "            'passwd': 'pwd',\n",
    "            'db': 'weCatch',\n",
    "            'charset': 'utf8',\n",
    "        }\n",
    "        self.conn = mdb.connect(**self.config)\n",
    "\n",
    "        cursor = self.conn.cursor()\n",
    "        try:\n",
    "            sql = \"select subEname,subName from subscription where status= 1 \"\n",
    "            cursor.execute(sql)\n",
    "            temp = cursor.fetchall()\n",
    "            return temp\n",
    "            self.conn.commit()\n",
    "        except:\n",
    "            import traceback\n",
    "            traceback.print_exc()\n",
    "            self.conn.rollback()\n",
    "        finally:\n",
    "            cursor.close()\n",
    "            self.conn.close()\n",
    "        # main\n"
   ]
  },
  {
   "cell_type": "code",
   "execution_count": 42,
   "metadata": {},
   "outputs": [],
   "source": [
    "spider = weixin_spider()"
   ]
  },
  {
   "cell_type": "code",
   "execution_count": 43,
   "metadata": {},
   "outputs": [],
   "source": [
    "check = True\n",
    "ua = [\n",
    "    \"Mozilla/4.0 (compatible; MSIE 6.0; Windows NT 5.1; SV1; AcooBrowser; .NET CLR 1.1.4322; .NET CLR 2.0.50727)\",\n",
    "    \"Mozilla/4.0 (compatible; MSIE 7.0; Windows NT 6.0; Acoo Browser; SLCC1; .NET CLR 2.0.50727; Media Center PC 5.0; .NET CLR 3.0.04506)\",\n",
    "    \"Mozilla/4.0 (compatible; MSIE 7.0; AOL 9.5; AOLBuild 4337.35; Windows NT 5.1; .NET CLR 1.1.4322; .NET CLR 2.0.50727)\",\n",
    "    \"Mozilla/5.0 (Windows; U; MSIE 9.0; Windows NT 9.0; en-US)\",\n",
    "    \"Mozilla/5.0 (compatible; MSIE 9.0; Windows NT 6.1; Win64; x64; Trident/5.0; .NET CLR 3.5.30729; .NET CLR 3.0.30729; .NET CLR 2.0.50727; Media Center PC 6.0)\",\n",
    "    \"Mozilla/5.0 (compatible; MSIE 8.0; Windows NT 6.0; Trident/4.0; WOW64; Trident/4.0; SLCC2; .NET CLR 2.0.50727; .NET CLR 3.5.30729; .NET CLR 3.0.30729; .NET CLR 1.0.3705; .NET CLR 1.1.4322)\",\n",
    "    \"Mozilla/4.0 (compatible; MSIE 7.0b; Windows NT 5.2; .NET CLR 1.1.4322; .NET CLR 2.0.50727; InfoPath.2; .NET CLR 3.0.04506.30)\",\n",
    "    \"Mozilla/5.0 (Windows; U; Windows NT 5.1; zh-CN) AppleWebKit/523.15 (KHTML, like Gecko, Safari/419.3) Arora/0.3 (Change: 287 c9dfb30)\",\n",
    "    \"Mozilla/5.0 (X11; U; Linux; en-US) AppleWebKit/527+ (KHTML, like Gecko, Safari/419.3) Arora/0.6\",\n",
    "    \"Mozilla/5.0 (Windows; U; Windows NT 5.1; en-US; rv:1.8.1.2pre) Gecko/20070215 K-Ninja/2.1.1\",\n",
    "    \"Mozilla/5.0 (Windows; U; Windows NT 5.1; zh-CN; rv:1.9) Gecko/20080705 Firefox/3.0 Kapiko/3.0\",\n",
    "    \"Mozilla/5.0 (X11; Linux i686; U;) Gecko/20070322 Kazehakase/0.4.5\",\n",
    "    \"Mozilla/5.0 (X11; U; Linux i686; en-US; rv:1.9.0.8) Gecko Fedora/1.9.0.8-1.fc10 Kazehakase/0.5.6\",\n",
    "    \"Mozilla/5.0 (Windows NT 6.1; WOW64) AppleWebKit/535.11 (KHTML, like Gecko) Chrome/17.0.963.56 Safari/535.11\",\n",
    "    \"Mozilla/5.0 (Macintosh; Intel Mac OS X 10_7_3) AppleWebKit/535.20 (KHTML, like Gecko) Chrome/19.0.1036.7 Safari/535.20\",\n",
    "    \"Opera/9.80 (Macintosh; Intel Mac OS X 10.6.8; U; fr) Presto/2.9.168 Version/11.52\",\n",
    "]\n"
   ]
  },
  {
   "cell_type": "code",
   "execution_count": 44,
   "metadata": {},
   "outputs": [
    {
     "name": "stderr",
     "output_type": "stream",
     "text": [
      "100%|██████████| 1/1 [00:02<00:00,  2.00s/it]"
     ]
    },
    {
     "name": "stdout",
     "output_type": "stream",
     "text": [
      "http://weixin.sogou.com/weixin?type=1&s_from=input&query=ULFINANCE&ie=utf8&_sug_=n&_sug_type_=\n"
     ]
    },
    {
     "name": "stderr",
     "output_type": "stream",
     "text": [
      "\n"
     ]
    }
   ],
   "source": [
    "sub_list = spider.sub_list = [['ULFINANCE', 'ULFINANCE']]\n",
    "sublen = len(sub_list)\n",
    "\n",
    "for i in tqdm(range(0,sublen)):\n",
    "    ename =  sub_list[i][0].strip()\n",
    "    name =  sub_list[i][1].strip()\n",
    "\n",
    "    time.sleep(2)  # 时间间隔为2s发送一次抓取请求，防止禁ip\n",
    "    search_url = (\"http://weixin.sogou.com/weixin?type=1&s_from=input&query=%s&ie=utf8&_sug_=n&_sug_type_=\") % (name)\n",
    "    # subcatch 查找1天内的\n",
    "    # 爬虫伪装头部设置\n",
    "    uachoice = random.choice(ua)\n",
    "    headers = {\"User-Agent\": uachoice,\"Referer\": search_url}\n",
    "    print(search_url)\n",
    "    # maincontent = get_index(search_url)\n"
   ]
  },
  {
   "cell_type": "code",
   "execution_count": 45,
   "metadata": {},
   "outputs": [
    {
     "data": {
      "text/plain": [
       "'ULFINANCE'"
      ]
     },
     "execution_count": 45,
     "metadata": {},
     "output_type": "execute_result"
    }
   ],
   "source": [
    "ename"
   ]
  },
  {
   "cell_type": "code",
   "execution_count": 46,
   "metadata": {},
   "outputs": [
    {
     "data": {
      "text/plain": [
       "'ULFINANCE'"
      ]
     },
     "execution_count": 46,
     "metadata": {},
     "output_type": "execute_result"
    }
   ],
   "source": [
    "name"
   ]
  },
  {
   "cell_type": "code",
   "execution_count": 47,
   "metadata": {},
   "outputs": [
    {
     "data": {
      "text/plain": [
       "'http://weixin.sogou.com/weixin?type=1&s_from=input&query=ULFINANCE&ie=utf8&_sug_=n&_sug_type_='"
      ]
     },
     "execution_count": 47,
     "metadata": {},
     "output_type": "execute_result"
    }
   ],
   "source": [
    "search_url"
   ]
  },
  {
   "cell_type": "code",
   "execution_count": 49,
   "metadata": {},
   "outputs": [],
   "source": [
    "headers = {'User-Agent': 'Mozilla/4.0 (compatible; MSIE 7.0; AOL 9.5; AOLBuild 4337.35; Windows NT 5.1; .NET CLR 1.1.4322; .NET CLR 2.0.50727)',\n",
    "           'SNUID': '01900B245553D81ACEE3912856FF1490'}"
   ]
  },
  {
   "cell_type": "code",
   "execution_count": 50,
   "metadata": {},
   "outputs": [],
   "source": [
    "\n",
    "'''\n",
    "获取公众号主页地址\n",
    "'''\n",
    "\n",
    "def get_index(search_url):\n",
    "    time.sleep(2)\n",
    "\n",
    "    html = requests.get(search_url, headers=headers, verify=False).content\n",
    "    selector = etree.HTML(html)\n",
    "\n",
    "    # 提取文本\n",
    "    # content = selector.xpath('//div[@class=\"news-box\"]/ul/li/div[@class=\"txt-box\"]/h3/a/@href')\n",
    "    aHref = selector.xpath('//div[@class=\"txt-box\"]/p/a/@href')\n",
    "    content = selector.xpath('//div[@class=\"txt-box\"]/p[@class=\"info\"]/label/text()')\n",
    "    print('aHref\\n', aHref)\n",
    "    print('content\\n', content)\n",
    "    for ci in range(len(content)):\n",
    "        content[ci] = content[ci].decode('utf-8')\n",
    "        ename = ename.decode(\"utf-8\")\n",
    "        if (content[ci] == ename):\n",
    "            print(content[ci])\n",
    "            # print ('获取到:' + content[ci] + '地址入口，正在进入...')\n",
    "            catchUrlIndex = aHref[ci]\n",
    "            print(catchUrlIndex)\n",
    "            # self.get_list(catchUrlIndex)\n",
    "        else:\n",
    "            pass\n"
   ]
  },
  {
   "cell_type": "code",
   "execution_count": 51,
   "metadata": {},
   "outputs": [
    {
     "name": "stdout",
     "output_type": "stream",
     "text": [
      "aHref\n",
      " ['/link?url=dn9a_-gY295K0Rci_xozVXfdMkSQTLW6EzDJysI4ql5MPrOUp16838dGRMI7NnPqvBUnTxQn_UONctrXKH-azgwvDqyjOWdzeDzB-HU53SdAyXdhoAZ1K_FTTyouw46IgTjfp-UBxlep87Pr1xvD1t15-5GzEVYCm8H0Mu6Dxntn09mHDiRuSOOm3MHUzGF4BCZr8-Y8p_iDKF6JH4npH2RTpLLTNgHY&type=1&query=ULFINANCE', '/link?url=dn9a_-gY295K0Rci_xozVXfdMkSQTLW6EzDJysI4ql5MPrOUp16838dGRMI7NnPqvBUnTxQn_UONctrXKH-azgwvDqyjOWdzUZt2LCzvYVT8knVmSld64zFLj03TaXtvX1Ml8wMOKA8P54EB9YxkdNI3i7qB0qnYrD_-fhYdAs9RHv3ORIry8TpXkAWgOeKZqkeP9SDiLCdLkX5p7Q4ErG4OZCnxixtX&type=1&query=ULFINANCE', '/link?url=dn9a_-gY295K0Rci_xozVXfdMkSQTLW6EzDJysI4ql5MPrOUp16838dGRMI7NnPqvBUnTxQn_UONctrXKH-azgwvDqyjOWdzqIPcKQ_EoPzxHW3WV_Ninn896IXtKBdQ_aTz1zEaaIibC79yFNOWQk-3mdmMybpwqbQZMedoU0R-FTIJr2nyUr5ePt3Sw0HV7-IPLBvwoxLk-81RIJSHNqUiiWOv1GPM&type=1&query=ULFINANCE']\n",
      "content\n",
      " ['ULFINANCE', 'luminance_xpf', 'gh_7f0e912429a1']\n",
      "ULFINANCE\n",
      "/link?url=dn9a_-gY295K0Rci_xozVXfdMkSQTLW6EzDJysI4ql5MPrOUp16838dGRMI7NnPqvBUnTxQn_UONctrXKH-azgwvDqyjOWdzeDzB-HU53SdAyXdhoAZ1K_FTTyouw46IgTjfp-UBxlep87Pr1xvD1t15-5GzEVYCm8H0Mu6Dxntn09mHDiRuSOOm3MHUzGF4BCZr8-Y8p_iDKF6JH4npH2RTpLLTNgHY&type=1&query=ULFINANCE\n"
     ]
    }
   ],
   "source": [
    "time.sleep(2)\n",
    "\n",
    "html = requests.get(search_url, headers=headers, verify=False).content\n",
    "selector = etree.HTML(html)\n",
    "\n",
    "# 提取文本\n",
    "# content = selector.xpath('//div[@class=\"news-box\"]/ul/li/div[@class=\"txt-box\"]/h3/a/@href')\n",
    "aHref = selector.xpath('//div[@class=\"txt-box\"]/p/a/@href')\n",
    "content = selector.xpath('//div[@class=\"txt-box\"]/p[@class=\"info\"]/label/text()')\n",
    "print('aHref\\n', aHref)\n",
    "print('content\\n', content)\n",
    "for ci in range(len(content)):\n",
    "    # content[ci] = content[ci]\n",
    "    # ename = ename.decode(\"utf-8\")\n",
    "    if (content[ci] == ename):\n",
    "        print(content[ci])\n",
    "        # print ('获取到:' + content[ci] + '地址入口，正在进入...')\n",
    "        catchUrlIndex = aHref[ci]\n",
    "        print(catchUrlIndex)\n",
    "        # self.get_list(catchUrlIndex)\n",
    "    else:\n",
    "        pass\n"
   ]
  },
  {
   "cell_type": "code",
   "execution_count": 52,
   "metadata": {},
   "outputs": [
    {
     "data": {
      "text/plain": [
       "'gh_7f0e912429a1'"
      ]
     },
     "execution_count": 52,
     "metadata": {},
     "output_type": "execute_result"
    }
   ],
   "source": [
    "content[ci]"
   ]
  },
  {
   "cell_type": "code",
   "execution_count": 53,
   "metadata": {},
   "outputs": [
    {
     "data": {
      "text/plain": [
       "'ULFINANCE'"
      ]
     },
     "execution_count": 53,
     "metadata": {},
     "output_type": "execute_result"
    }
   ],
   "source": [
    "ename"
   ]
  },
  {
   "cell_type": "code",
   "execution_count": 54,
   "metadata": {},
   "outputs": [
    {
     "data": {
      "text/plain": [
       "'/link?url=dn9a_-gY295K0Rci_xozVXfdMkSQTLW6EzDJysI4ql5MPrOUp16838dGRMI7NnPqvBUnTxQn_UONctrXKH-azgwvDqyjOWdzqIPcKQ_EoPzxHW3WV_Ninn896IXtKBdQ_aTz1zEaaIibC79yFNOWQk-3mdmMybpwqbQZMedoU0R-FTIJr2nyUr5ePt3Sw0HV7-IPLBvwoxLk-81RIJSHNqUiiWOv1GPM&type=1&query=ULFINANCE'"
      ]
     },
     "execution_count": 54,
     "metadata": {},
     "output_type": "execute_result"
    }
   ],
   "source": [
    "aHref[ci]"
   ]
  },
  {
   "cell_type": "code",
   "execution_count": 55,
   "metadata": {},
   "outputs": [
    {
     "data": {
      "text/plain": [
       "'/link?url=dn9a_-gY295K0Rci_xozVXfdMkSQTLW6EzDJysI4ql5MPrOUp16838dGRMI7NnPqvBUnTxQn_UONctrXKH-azgwvDqyjOWdzeDzB-HU53SdAyXdhoAZ1K_FTTyouw46IgTjfp-UBxlep87Pr1xvD1t15-5GzEVYCm8H0Mu6Dxntn09mHDiRuSOOm3MHUzGF4BCZr8-Y8p_iDKF6JH4npH2RTpLLTNgHY&type=1&query=ULFINANCE'"
      ]
     },
     "execution_count": 55,
     "metadata": {},
     "output_type": "execute_result"
    }
   ],
   "source": [
    "catchUrlIndex"
   ]
  },
  {
   "cell_type": "code",
   "execution_count": 56,
   "metadata": {},
   "outputs": [
    {
     "name": "stdout",
     "output_type": "stream",
     "text": [
      "aHref\n",
      " ['/link?url=dn9a_-gY295K0Rci_xozVXfdMkSQTLW6EzDJysI4ql5MPrOUp16838dGRMI7NnPqvBUnTxQn_UO0v47eKKaovwwvDqyjOWdzeDzB-HU53SdAyXdhoAZ1K_FTTyouw46IgTjfp-UBxlep87Pr1xvD1t15-5GzEVYCm8H0Mu6Dxntn09mHDiRuSIdM7S0JJRbJnxgAjglp8fwO_IwR2uSSkKUiiWOv1GPM&type=1&query=ULFINANCE', '/link?url=dn9a_-gY295K0Rci_xozVXfdMkSQTLW6EzDJysI4ql5MPrOUp16838dGRMI7NnPqvBUnTxQn_UO0v47eKKaovwwvDqyjOWdzUZt2LCzvYVT8knVmSld64zFLj03TaXtvX1Ml8wMOKA8P54EB9YxkdNI3i7qB0qnYrD_-fhYdAs9RHv3ORIry8fRPKwhX80pbeOdfaS3SaRdlwmZC3SIkC6UiiWOv1GPM&type=1&query=ULFINANCE', '/link?url=dn9a_-gY295K0Rci_xozVXfdMkSQTLW6EzDJysI4ql5MPrOUp16838dGRMI7NnPqvBUnTxQn_UO0v47eKKaovwwvDqyjOWdzqIPcKQ_EoPzxHW3WV_Ninn896IXtKBdQ_aTz1zEaaIibC79yFNOWQk-3mdmMybpwqbQZMedoU0R-FTIJr2nyUr-SyiMG-OwkNiO8gKnQu7S-LUcWaDTtkeO00efWrWmm&type=1&query=ULFINANCE']\n",
      "content\n",
      " ['ULFINANCE', 'luminance_xpf', 'gh_7f0e912429a1']\n"
     ]
    },
    {
     "ename": "AttributeError",
     "evalue": "'lxml.etree._ElementUnicodeResult' object has no attribute 'decode'",
     "output_type": "error",
     "traceback": [
      "\u001b[0;31m---------------------------------------------------------------------------\u001b[0m",
      "\u001b[0;31mAttributeError\u001b[0m                            Traceback (most recent call last)",
      "\u001b[0;32m<ipython-input-56-a3ca01a3eaf4>\u001b[0m in \u001b[0;36m<module>\u001b[0;34m\u001b[0m\n\u001b[0;32m----> 1\u001b[0;31m \u001b[0mget_index\u001b[0m\u001b[0;34m(\u001b[0m\u001b[0msearch_url\u001b[0m\u001b[0;34m)\u001b[0m\u001b[0;34m\u001b[0m\u001b[0;34m\u001b[0m\u001b[0m\n\u001b[0m",
      "\u001b[0;32m<ipython-input-50-1fcee3f6cad7>\u001b[0m in \u001b[0;36mget_index\u001b[0;34m(search_url)\u001b[0m\n\u001b[1;32m     17\u001b[0m     \u001b[0mprint\u001b[0m\u001b[0;34m(\u001b[0m\u001b[0;34m'content\\n'\u001b[0m\u001b[0;34m,\u001b[0m \u001b[0mcontent\u001b[0m\u001b[0;34m)\u001b[0m\u001b[0;34m\u001b[0m\u001b[0;34m\u001b[0m\u001b[0m\n\u001b[1;32m     18\u001b[0m     \u001b[0;32mfor\u001b[0m \u001b[0mci\u001b[0m \u001b[0;32min\u001b[0m \u001b[0mrange\u001b[0m\u001b[0;34m(\u001b[0m\u001b[0mlen\u001b[0m\u001b[0;34m(\u001b[0m\u001b[0mcontent\u001b[0m\u001b[0;34m)\u001b[0m\u001b[0;34m)\u001b[0m\u001b[0;34m:\u001b[0m\u001b[0;34m\u001b[0m\u001b[0;34m\u001b[0m\u001b[0m\n\u001b[0;32m---> 19\u001b[0;31m         \u001b[0mcontent\u001b[0m\u001b[0;34m[\u001b[0m\u001b[0mci\u001b[0m\u001b[0;34m]\u001b[0m \u001b[0;34m=\u001b[0m \u001b[0mcontent\u001b[0m\u001b[0;34m[\u001b[0m\u001b[0mci\u001b[0m\u001b[0;34m]\u001b[0m\u001b[0;34m.\u001b[0m\u001b[0mdecode\u001b[0m\u001b[0;34m(\u001b[0m\u001b[0;34m'utf-8'\u001b[0m\u001b[0;34m)\u001b[0m\u001b[0;34m\u001b[0m\u001b[0;34m\u001b[0m\u001b[0m\n\u001b[0m\u001b[1;32m     20\u001b[0m         \u001b[0mename\u001b[0m \u001b[0;34m=\u001b[0m \u001b[0mename\u001b[0m\u001b[0;34m.\u001b[0m\u001b[0mdecode\u001b[0m\u001b[0;34m(\u001b[0m\u001b[0;34m\"utf-8\"\u001b[0m\u001b[0;34m)\u001b[0m\u001b[0;34m\u001b[0m\u001b[0;34m\u001b[0m\u001b[0m\n\u001b[1;32m     21\u001b[0m         \u001b[0;32mif\u001b[0m \u001b[0;34m(\u001b[0m\u001b[0mcontent\u001b[0m\u001b[0;34m[\u001b[0m\u001b[0mci\u001b[0m\u001b[0;34m]\u001b[0m \u001b[0;34m==\u001b[0m \u001b[0mename\u001b[0m\u001b[0;34m)\u001b[0m\u001b[0;34m:\u001b[0m\u001b[0;34m\u001b[0m\u001b[0;34m\u001b[0m\u001b[0m\n",
      "\u001b[0;31mAttributeError\u001b[0m: 'lxml.etree._ElementUnicodeResult' object has no attribute 'decode'"
     ]
    }
   ],
   "source": [
    "get_index(search_url)"
   ]
  },
  {
   "cell_type": "raw",
   "metadata": {},
   "source": [
    "weixin_spider().run()"
   ]
  },
  {
   "cell_type": "code",
   "execution_count": 58,
   "metadata": {},
   "outputs": [
    {
     "name": "stderr",
     "output_type": "stream",
     "text": [
      "/home/wuwei/anaconda3/envs/tfgpu/lib/python3.6/site-packages/selenium/webdriver/phantomjs/webdriver.py:49: UserWarning: Selenium support for PhantomJS has been deprecated, please use headless versions of Chrome or Firefox instead\n",
      "  warnings.warn('Selenium support for PhantomJS has been deprecated, please use headless '\n"
     ]
    },
    {
     "name": "stdout",
     "output_type": "stream",
     "text": [
      "catchUrlIndex\n",
      " /link?url=dn9a_-gY295K0Rci_xozVXfdMkSQTLW6EzDJysI4ql5MPrOUp16838dGRMI7NnPqvBUnTxQn_UONctrXKH-azgwvDqyjOWdzeDzB-HU53SdAyXdhoAZ1K_FTTyouw46IgTjfp-UBxlep87Pr1xvD1t15-5GzEVYCm8H0Mu6Dxntn09mHDiRuSOOm3MHUzGF4BCZr8-Y8p_iDKF6JH4npH2RTpLLTNgHY&type=1&query=ULFINANCE\n"
     ]
    }
   ],
   "source": [
    "'''\n",
    "获得公众号主页爬取所有文章列表，这里只显示最近10条群发 ，再筛选今天的\n",
    "'''\n",
    "\n",
    "# def get_list(catchUrlIndex):\n",
    "# time.sleep(2)\n",
    "\n",
    "# 使用webdriver.PhantomJS\n",
    "driver = webdriver.PhantomJS(executable_path='phantomjs-2.1.1-linux-x86_64/bin/phantomjs',\n",
    "                             service_args=['--ignore-ssl-errors=true', '--ssl-protocol=tlsv1'])\n",
    "print('catchUrlIndex\\n', catchUrlIndex)\n",
    "driver.get(catchUrlIndex)\n",
    "article1 = driver.page_source\n",
    "selector1 = etree.HTML(article1)\n"
   ]
  },
  {
   "cell_type": "code",
   "execution_count": 59,
   "metadata": {},
   "outputs": [
    {
     "data": {
      "text/plain": [
       "'<html><head></head><body></body></html>'"
      ]
     },
     "execution_count": 59,
     "metadata": {},
     "output_type": "execute_result"
    }
   ],
   "source": [
    "article1"
   ]
  },
  {
   "cell_type": "code",
   "execution_count": 23,
   "metadata": {},
   "outputs": [
    {
     "name": "stderr",
     "output_type": "stream",
     "text": [
      "/home/wuwei/anaconda3/envs/tfgpu/lib/python3.6/site-packages/selenium/webdriver/phantomjs/webdriver.py:49: UserWarning: Selenium support for PhantomJS has been deprecated, please use headless versions of Chrome or Firefox instead\n",
      "  warnings.warn('Selenium support for PhantomJS has been deprecated, please use headless '\n"
     ]
    },
    {
     "name": "stdout",
     "output_type": "stream",
     "text": [
      "catchUrlIndex\n",
      " /link?url=dn9a_-gY295K0Rci_xozVXfdMkSQTLW6EzDJysI4ql5MPrOUp16838dGRMI7NnPqrZR7sb2uswI09cO_no9WPAwvDqyjOWdzeDzB-HU53SdAyXdhoAZ1K_FTTyouw46IgTjfp-UBxlep87Pr1xvD1t15-5GzEVYCm8H0Mu6Dxntn09mHDiRuSMlVQSD2GL9qmNTeH-MvyOM9O0GWjtgG5uO00efWrWmm&type=1&query=ULFINANCE\n"
     ]
    },
    {
     "ename": "XPathEvalError",
     "evalue": "Invalid expression",
     "output_type": "error",
     "traceback": [
      "\u001b[0;31m---------------------------------------------------------------------------\u001b[0m",
      "\u001b[0;31mXPathEvalError\u001b[0m                            Traceback (most recent call last)",
      "\u001b[0;32m<ipython-input-23-d172c06d4886>\u001b[0m in \u001b[0;36m<module>\u001b[0;34m\u001b[0m\n\u001b[1;32m     17\u001b[0m \u001b[0;31m# 提取文本\u001b[0m\u001b[0;34m\u001b[0m\u001b[0;34m\u001b[0m\u001b[0;34m\u001b[0m\u001b[0m\n\u001b[1;32m     18\u001b[0m \u001b[0;31m# content = selector1.xpath('//div[@class=\"weui_media_bd\"]/p[@class=\"weui_media_extra_info\"]/text()')\u001b[0m\u001b[0;34m\u001b[0m\u001b[0;34m\u001b[0m\u001b[0;34m\u001b[0m\u001b[0m\n\u001b[0;32m---> 19\u001b[0;31m \u001b[0mcontent\u001b[0m \u001b[0;34m=\u001b[0m \u001b[0mselector1\u001b[0m\u001b[0;34m.\u001b[0m\u001b[0mxpath\u001b[0m\u001b[0;34m(\u001b[0m\u001b[0;34m'//div[@class=\"page_profile_info_inner\"]/p[@class=\"weui_msg_card_list\"]/history()'\u001b[0m\u001b[0;34m)\u001b[0m\u001b[0;34m\u001b[0m\u001b[0;34m\u001b[0m\u001b[0m\n\u001b[0m\u001b[1;32m     20\u001b[0m \u001b[0mprint\u001b[0m\u001b[0;34m(\u001b[0m\u001b[0;34m'content number:\\t'\u001b[0m\u001b[0;34m,\u001b[0m \u001b[0mlen\u001b[0m\u001b[0;34m(\u001b[0m\u001b[0mcontent\u001b[0m\u001b[0;34m)\u001b[0m\u001b[0;34m)\u001b[0m\u001b[0;34m\u001b[0m\u001b[0;34m\u001b[0m\u001b[0m\n\u001b[1;32m     21\u001b[0m \u001b[0maText\u001b[0m \u001b[0;34m=\u001b[0m \u001b[0mselector1\u001b[0m\u001b[0;34m.\u001b[0m\u001b[0mxpath\u001b[0m\u001b[0;34m(\u001b[0m\u001b[0;34m'//div[@class=\"weui_media_bd\"]/h4/text()'\u001b[0m\u001b[0;34m)\u001b[0m\u001b[0;34m\u001b[0m\u001b[0;34m\u001b[0m\u001b[0m\n",
      "\u001b[0;32msrc/lxml/etree.pyx\u001b[0m in \u001b[0;36mlxml.etree._Element.xpath\u001b[0;34m()\u001b[0m\n",
      "\u001b[0;32msrc/lxml/xpath.pxi\u001b[0m in \u001b[0;36mlxml.etree.XPathElementEvaluator.__call__\u001b[0;34m()\u001b[0m\n",
      "\u001b[0;32msrc/lxml/xpath.pxi\u001b[0m in \u001b[0;36mlxml.etree._XPathEvaluatorBase._handle_result\u001b[0;34m()\u001b[0m\n",
      "\u001b[0;31mXPathEvalError\u001b[0m: Invalid expression"
     ]
    }
   ],
   "source": [
    "\n",
    "\n",
    "# 提取文本\n",
    "# content = selector1.xpath('//div[@class=\"weui_media_bd\"]/p[@class=\"weui_media_extra_info\"]/text()')\n",
    "content = selector1.xpath('//div[@class=\"page_profile_info_inner\"]/p[@class=\"weui_msg_card_list\"]/history()')\n",
    "print('content number:\\t', len(content))\n",
    "aText = selector1.xpath('//div[@class=\"weui_media_bd\"]/h4/text()')\n",
    "# for i in aText:\n",
    "#     print(i)\n",
    "#\n",
    "# sys.exit(0)\n",
    "\n",
    "aHref = selector1.xpath('//div[@class=\"weui_media_bd\"]/h4/@hrefs')\n",
    "\n",
    "\n",
    "y = datetime.datetime.now().year\n",
    "m = datetime.datetime.now().month\n",
    "d = datetime.datetime.now().day\n",
    "\n",
    "# 每天晚上11点开始爬 存数据库，然后脚本处理\n",
    "today = str(y)+'年'+ str(m) + '月'+ str(d-1)+'日'\n",
    "# yesterday = \"2018年6月30日\"\n",
    "\n",
    "print('开始获取：'+ today + '的文章')\n",
    "\n",
    "if (len(content) ==0):\n",
    "    #更改爬虫被封状态\n",
    "    print('更改爬虫被封状态')\n",
    "    # self.upSubStatus()\n",
    "    sys.exit(0)\n",
    "\n",
    "for contenti in (range(len(content))):\n",
    "    if(today == content[contenti]):\n",
    "        listUrl = 'https://mp.weixin.qq.com' + aHref[contenti]\n",
    "        listaText = aText[contenti].encode('utf8').strip().replace(' ','').replace(\"\\n\", \"\")\n",
    "        print(listaText)\n",
    "        # isexist = self.checkExist(listaText)\n",
    "        isexist = 1 # self.checkExist(listaText)\n",
    "        if(isexist):\n",
    "            print(listaText)\n",
    "            # 插入数据库待采集队列\n",
    "            # self.insert_save(listUrl,self.name,listaText)\n",
    "            # self.upSubTime(self.ename)\n",
    "        else:\n",
    "            print('-')\n",
    "    else:\n",
    "        print('--')\n"
   ]
  },
  {
   "cell_type": "markdown",
   "metadata": {},
   "source": []
  }
 ],
 "metadata": {
  "kernelspec": {
   "display_name": "Python 3",
   "language": "python",
   "name": "python3"
  },
  "language_info": {
   "codemirror_mode": {
    "name": "ipython",
    "version": 3
   },
   "file_extension": ".py",
   "mimetype": "text/x-python",
   "name": "python",
   "nbconvert_exporter": "python",
   "pygments_lexer": "ipython3",
   "version": "3.6.8"
  }
 },
 "nbformat": 4,
 "nbformat_minor": 2
}
