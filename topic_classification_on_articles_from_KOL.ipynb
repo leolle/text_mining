{
 "cells": [
  {
   "cell_type": "markdown",
   "metadata": {},
   "source": [
    "### 1. import modules"
   ]
  },
  {
   "cell_type": "code",
   "execution_count": 1,
   "metadata": {},
   "outputs": [
    {
     "name": "stderr",
     "output_type": "stream",
     "text": [
      "/home/wuwei/anaconda3/envs/tfgpu/lib/python3.6/site-packages/smart_open/ssh.py:34: UserWarning: paramiko missing, opening SSH/SCP/SFTP paths will be disabled.  `pip install paramiko` to suppress\n",
      "  warnings.warn('paramiko missing, opening SSH/SCP/SFTP paths will be disabled.  `pip install paramiko` to suppress')\n"
     ]
    }
   ],
   "source": [
    "import pandas as pd\n",
    "import numpy as np\n",
    "import networkx as nx\n",
    "import pickle\n",
    "import os\n",
    "import json\n",
    "from ylib import ylog\n",
    "from tqdm import *\n",
    "import matplotlib.pyplot as plt\n",
    "import cx_Oracle as cx\n",
    "from collections import defaultdict \n",
    "from pyquery import PyQuery as pq\n",
    "from bs4 import BeautifulSoup\n",
    "\n",
    "np.set_printoptions(suppress=True)\n",
    "%precision %.5g\n",
    "%matplotlib inline \n",
    "import logging\n",
    "from gensim import corpora, models, similarities\n",
    "from gensim.matutils import jaccard\n",
    "from gensim.corpora.dictionary import Dictionary\n",
    "from gensim.matutils import Sparse2Corpus\n",
    "\n",
    "from sklearn.feature_extraction.text import TfidfVectorizer, CountVectorizer\n",
    "from sklearn.decomposition import NMF, LatentDirichletAllocation, TruncatedSVD\n",
    "import ylib.preprocessing as prep\n",
    "from gensim.models import LsiModel, LdaModel"
   ]
  },
  {
   "cell_type": "markdown",
   "metadata": {},
   "source": [
    "### 2. database connection configuration"
   ]
  },
  {
   "cell_type": "code",
   "execution_count": 2,
   "metadata": {},
   "outputs": [],
   "source": [
    "tqdm.pandas()"
   ]
  },
  {
   "cell_type": "code",
   "execution_count": 3,
   "metadata": {},
   "outputs": [],
   "source": [
    "os.environ['NLS_LANG'] = 'SIMPLIFIED CHINESE_CHINA.UTF8'\n",
    "conn_kbms = cx.connect('risk_matrix/risk_matrix@192.168.4.30:1521/orcl')\n",
    "conn_patient = cx.connect('MMAPV41/MMAPV411556@192.168.4.32:1521/orcl')\n",
    "ylog.set_level(logging.DEBUG)\n",
    "ylog.console_on()\n",
    "ylog.filelog_on(\"topics\")"
   ]
  },
  {
   "cell_type": "markdown",
   "metadata": {},
   "source": [
    "### 3. load data"
   ]
  },
  {
   "cell_type": "code",
   "execution_count": 4,
   "metadata": {},
   "outputs": [],
   "source": [
    "# 解析详情页\n",
    "def parse_detail(html):\n",
    "    doc = pq(html)\n",
    "    title = doc('.rich_media_title').text()\n",
    "    content = doc('.rich_media_content').text()\n",
    "    wechat_name = doc('#js_profile_qrcode > div > strong').text()\n",
    "    nickname = doc('.rich_media_meta_text').text()\n",
    "    wechat = doc('#js_profile_qrcode > div > p:nth-child(3) > span').text()\n",
    "    date = None\n",
    "    return {\n",
    "        'title':title,\n",
    "        'wechat_name': wechat_name,\n",
    "        'content':content,\n",
    "        'date':date,\n",
    "        'nickname':nickname,\n",
    "        'wechat':wechat\n",
    "    }\n"
   ]
  },
  {
   "cell_type": "code",
   "execution_count": 5,
   "metadata": {},
   "outputs": [],
   "source": [
    "dir_path = './data/'"
   ]
  },
  {
   "cell_type": "code",
   "execution_count": 6,
   "metadata": {
    "scrolled": true
   },
   "outputs": [
    {
     "name": "stdout",
     "output_type": "stream",
     "text": [
      "./data/ has 0\n",
      "./data/40秒 has 10\n",
      "./data/Chihiro Quantitative Research has 12\n",
      "./data/PureDelta has 11\n",
      "./data/cfuwxd has 11\n",
      "./data/codeMakeMoney has 1\n",
      "./data/万孟岩 has 15\n",
      "./data/东京交易厅 has 12\n",
      "./data/人民币交易与研究 has 49\n",
      "./data/付鹏的财经世界 has 13\n",
      "./data/全球资产观察 has 10\n",
      "./data/关关楼西 has 10\n",
      "./data/冲浪团 has 10\n",
      "./data/冷眼局中人 has 14\n",
      "./data/加州分析员 has 10\n",
      "./data/半夏投资 has 10\n",
      "./data/华尔街情报圈 has 17\n",
      "./data/博策远略 has 20\n",
      "./data/向小田科技观察 has 11\n",
      "./data/外汇头条 has 22\n",
      "./data/宏观大类资产配置研究 has 13\n",
      "./data/定投十年赚十倍 has 50\n",
      "./data/岭峰资本 has 10\n",
      "./data/川流不息d has 13\n",
      "./data/川流不息skl has 6\n",
      "./data/市场观察家 has 10\n",
      "./data/扑克投资家 has 188\n",
      "./data/投研帮 has 34\n",
      "./data/新全球资产配置 has 10\n",
      "./data/方哥谈基 has 10\n",
      "./data/月风投资笔记 has 10\n",
      "./data/期权交易策略 has 10\n",
      "./data/李超宏观研究与资产配置 has 21\n",
      "./data/沧海一土狗 has 11\n",
      "./data/深圳天谷资产管理有限公司 has 10\n",
      "./data/淳臻投资 has 26\n",
      "./data/混沌巡洋舰 has 16\n",
      "./data/湖畔公寓28号 has 10\n",
      "./data/私募工场 has 73\n",
      "./data/筹码 has 10\n",
      "./data/聚宽量化实验室 has 21\n",
      "./data/聪明投资者 has 28\n",
      "./data/量化投资与机器学习 has 30\n",
      "./data/量化投资大家学 has 10\n",
      "./data/金融学前沿论文速递 has 12\n",
      "./data/长赢指数投资 has 11\n",
      "./data/靠门三思 has 10\n",
      "./data/饭统戴老板 has 16\n",
      "./data/高善文经济观察 has 10\n",
      "./data/全球资产配置专家88 has 9\n",
      "./data/看研报资讯 has 17\n",
      "./data/全球资产配置中心 has 50\n"
     ]
    }
   ],
   "source": [
    "ls_articles = []\n",
    "for root, dirs, files in os.walk(dir_path):\n",
    "    print(root, \"has\", len(files))\n",
    "    for name in files:\n",
    "        file_path = os.path.join(root, name)\n",
    "        with open(file_path) as fp:\n",
    "            article_content = fp.read()\n",
    "        article = parse_detail(article_content)\n",
    "        ls_articles.append(article)\n",
    "    # print(sum([os.path.getsize(os.path.join(root, name)) for name in files]), '\\s')\n",
    "    # print(\"bytes in\", len(files), \"non-directory files\")\n"
   ]
  },
  {
   "cell_type": "code",
   "execution_count": 7,
   "metadata": {},
   "outputs": [],
   "source": [
    "df_articles = pd.DataFrame.from_records(ls_articles)\n"
   ]
  },
  {
   "cell_type": "code",
   "execution_count": 8,
   "metadata": {},
   "outputs": [
    {
     "name": "stderr",
     "output_type": "stream",
     "text": [
      "  0%|          | 0/1033 [00:00<?, ?it/s]Building prefix dict from the default dictionary ...\n",
      "2019-07-23 18:01:36,686 : DEBUG : Building prefix dict from the default dictionary ...\n",
      "Dumping model to file cache /tmp/jieba.cache\n",
      "2019-07-23 18:01:37,320 : DEBUG : Dumping model to file cache /tmp/jieba.cache\n",
      "Loading model cost 0.690 seconds.\n",
      "2019-07-23 18:01:37,377 : DEBUG : Loading model cost 0.690 seconds.\n",
      "Prefix dict has been built succesfully.\n",
      "2019-07-23 18:01:37,379 : DEBUG : Prefix dict has been built succesfully.\n",
      "100%|██████████| 1033/1033 [00:12<00:00, 82.81it/s] \n"
     ]
    }
   ],
   "source": [
    "df_articles['articles'] = df_articles['content'].progress_apply(lambda x: prep.preprocess_string(x, [prep.cut_paragraph, prep.tokenize, prep.strip_punctuation, prep.strip_numeric]))"
   ]
  },
  {
   "cell_type": "code",
   "execution_count": 9,
   "metadata": {
    "scrolled": true
   },
   "outputs": [
    {
     "data": {
      "text/plain": [
       "0       话 说 这 几天 本来 在 写 卡尔   伊坎   但 实在 是 被 一些 媒体 的 傻 X...\n",
       "1       昨天 在   Institutional \\n Investor   上 看到 一篇 文章 ...\n",
       "2       这 一次   索罗斯 大爷 又 说 对 了   \\n 在 脱欧 公投 前   他 就 在  ...\n",
       "3       事先 声明   本人 和 文中 提及 的 商业机构 或 人物 均 无 利益 关系   \\n ...\n",
       "4       我 这 人 最 不 喜欢 转 别人 文章   但 今天 必须 要 破 一次 例   没 别的...\n",
       "5       刚才 看 了 下 留言 和 评论   发现 很多 同学 看 了 昨天 那篇   都 被 伊隆...\n",
       "6       这 是 我 前 几天 给 红杉 资本 写 的 一篇 约稿   感觉 内容 还 行   所以 ...\n",
       "7       在 这个 星球 上   你 应该 很难 找到 比 尤 瑟夫   卡巴 杰   Youssef...\n",
       "8       我 看 后台 有 很多 同学 嫌 我 发文 太 少 不够看   好 啊   今天 我 就 发...\n",
       "9       很多 同学 留言 说 上次 聊 Ackman 那篇太长 了   那 我 今天 发篇 短 的 ...\n",
       "10      工欲善其事   必先利其器   无论是 研究 团队 协作   还是 个人 独立 专研   如...\n",
       "11      今天 给 大家 分享 一本 因子 投资 的 好书     Your \\n Complete ...\n",
       "12      更好 的 阅读 体验   可以 点击 阅读 原文 获取 PDF 版本   欢迎 转发 \\n ...\n",
       "13       月  日晚   上交所 披露 了  家科 创板 受理 企业   分别 为晶晨 半导体   ...\n",
       "14      本篇 为 刀疤 连发 在   因子 动物园   上 的 文章   主要 介绍 低 风险 效应...\n",
       "15      本篇 为 刀疤 连为   因子 动物园   写 的 第二篇 文章   主要 介绍 各类 低 ...\n",
       "16      感谢 李洋   刘 洋溢 和 石川 博士 对 本文 提出 的 修改 建议   由于 本文 篇...\n",
       "17      本文 转载自 公众 号   新 全球 资产 配置     作者 徐杨为 量化 领域 的 老 ...\n",
       "18      本篇 为 刀疤 连为   因子 动物园   写 的 第三篇 文章   主要 介绍 低 风险 ...\n",
       "19      本篇 为 刀疤 连为   因子 动物园   写 的 第四篇 文章   主要 介绍 低 风险 ...\n",
       "20      本篇 为 石川 博士   刘 洋溢 和 刀疤 连 合作 完成   向 短期 反转   STR...\n",
       "21         \\n 引言 \\n 股票 多因子 组合 的 构建 和 交易 一般 包括 以下 几个 模块...\n",
       "22                                                       \n",
       "23      自从 我 成为 交易员 以来   我 就 对 微观 经济学 和 宏观 经济学 教材 再也 提...\n",
       "24      距离 上次   天赋 树   系列 文章   已经 相隔  个 月 的 时间 了   素材库...\n",
       "25      昨天晚上   大概 十点 多 左右 的 样子   本 屌 在 一边 听歌 一边 玩 欧洲 卡...\n",
       "26      广州 最近 一直 在 下 雷雨   \\n 每当 这种 雷雨 季节   本 屌 就 会 想起 ...\n",
       "27      本 屌 最近 找到 工作 了   \\n 因此 最近 要 匆忙 准备 入职 材料   还有 一...\n",
       "28      我 今天 回到 营业部 销户   之所以 用   回   字   是因为 我 以前 就是 这...\n",
       "29      逮噶吼   本 屌 又 回来 了   \\n 过 了 差不多 快 一周 的 时间 没 更新 了...\n",
       "                              ...                        \n",
       "1003    ↗ \\n 点击 上方   全球 资产 配置 中心   关注 我们 \\n   大方向 上   ...\n",
       "1004    ↗ \\n 点击 上方   全球 资产 配置 中心   关注 我们 \\n 这 周末   山东 ...\n",
       "1005    ↗ \\n 点击 上方   全球 资产 配置 中心   关注 我们 \\n 生活 中 绝大部分 ...\n",
       "1006    ↗ \\n 点击 上方   全球 资产 配置 中心   关注 我们 \\n 不 鼓吹   不 夸...\n",
       "1007    ↗ \\n 点击 上方   全球 资产 配置 中心   关注 我们 \\n 吃 野菜   养身 ...\n",
       "1008    ↗ \\n 点击 上方   全球 资产 配置 中心   关注 我们 \\n 北京 时间 周六  ...\n",
       "1009    ↗ \\n 点击 上方   全球 资产 配置 中心   关注 我们 \\n 在 西方 经济 领域...\n",
       "1010    ↗ \\n 点击 上方   全球 资产 配置 中心   关注 我们 \\n 马云 在 第十三届 ...\n",
       "1011    ↗ \\n 点击 上方   全球 资产 配置 中心   关注 我们 \\n 导言 \\n 移民 问...\n",
       "1012    ↗ \\n 点击 上方   全球 资产 配置 中心   关注 我们 \\n 春之芽 \\n 春 日...\n",
       "1013    ↗ \\n 点击 上方   全球 资产 配置 中心   关注 我们 \\n 经过 一年 多 一线...\n",
       "1014    ↗ \\n 点击 上方   全球 资产 配置 中心   关注 我们 \\n 在 大多数 人 眼中...\n",
       "1015    ↗ \\n 点击 上方   全球 资产 配置 中心   关注 我们 \\n 英国 地产 大亨  ...\n",
       "1016    ↗ \\n 点击 上方   全球 资产 配置 中心   关注 我们 \\n 人生 最大 的 悲哀...\n",
       "1017    ↗ \\n 点击 上方   全球 资产 配置 中心   关注 我们 \\n 香港 的 游玩 景点...\n",
       "1018    ↗ \\n 点击 上方   全球 资产 配置 中心   关注 我们 \\n 编者按   到底 多...\n",
       "1019    ↗ \\n 点击 上方   全球 资产 配置 中心   关注 我们 \\n 澳洲 现在 每过  ...\n",
       "1020    ↗ \\n 点击 上方   全球 资产 配置 中心   关注 我们 \\n 相信 很多 客户 在...\n",
       "1021    ↗ \\n 点击 上方   全球 资产 配置 中心   关注 我们 \\n 在 股权 投资 中 ...\n",
       "1022    ↗ \\n 点击 上方   全球 资产 配置 中心   关注 我们 \\n 人生 有味 是 清欢...\n",
       "1023    ↗ \\n 点击 上方   全球 资产 配置 中心   关注 我们 \\n 近日   朋友 圈里...\n",
       "1024    ↗ \\n 点击 上方   全球 资产 配置 中心   关注 我们 \\n 进入  年   留学...\n",
       "1025    ↗ \\n 点击 上方   全球 资产 配置 中心   关注 我们 \\n 导读 \\n 最近 几...\n",
       "1026    ↗ \\n 点击 上方   全球 资产 配置 中心   关注 我们 \\n 关于 信托   \\n...\n",
       "1027    ↗ \\n 点击 上方   全球 资产 配置 中心   关注 我们 \\n 视野 决定 格局  ...\n",
       "1028    ↗ \\n 点击 上方   全球 资产 配置 中心   关注 我们 \\n 据 英国 路透社 报...\n",
       "1029    ↗ \\n 点击 上方   全球 资产 配置 中心   关注 我们 \\n 随着 人们 健康 意...\n",
       "1030    ↗ \\n 点击 上方   全球 资产 配置 中心   关注 我们 \\n 投资 的 进阶   ...\n",
       "1031    ↗ \\n 点击 上方   全球 资产 配置 中心   关注 我们 \\n 移民 并 不同于 一...\n",
       "1032    ↗ \\n 点击 上方   全球 资产 配置 中心   关注 我们 \\n 在 儿子 踏入社会 ...\n",
       "Name: articles, Length: 1033, dtype: object"
      ]
     },
     "execution_count": 9,
     "metadata": {},
     "output_type": "execute_result"
    }
   ],
   "source": [
    "df_articles['articles']"
   ]
  },
  {
   "cell_type": "code",
   "execution_count": 10,
   "metadata": {
    "scrolled": true
   },
   "outputs": [
    {
     "data": {
      "text/plain": [
       "{'title': '驯服贝克汉姆和C罗的人',\n",
       " 'wechat_name': '40秒',\n",
       " 'content': '这是我前几天给红杉资本写的一篇约稿，感觉内容还行，所以就转过来啦。本文首发于红杉汇（id:Sequoiacap）\\n\\n\\n\\n\\n即使你从来都不看球，也一定听说过弗格森这个名字。\\n作为史上最传奇的足球教练之一，他老人家一手发掘和教出了坎通纳、C罗、小贝、吉格斯等一大批巨星，并把曼联从一支惨兮兮的保级队带成了全球最赚钱的球队。\\n在1999年，他还带队拿到了史无前例的欧冠、英超和足总杯三冠王。英国女王闻讯龙颜大悦，立马封了他骑士爵位，从此江湖人称弗爵爷（SAF, Sir Alex Ferguson）。\\n\\n\\n▲\\xa0爵爷手里拿的这个勋章可是稀罕货，读作Knight Bachelor，每年只发几十个，只要拿了就是Sir。比小贝拿的OBE（Officer of the Order of the British Empire，每年发900个）强多了。\\n\\n\\n\\n然而，这些都不是他最牛逼的地方。\\n弗爵爷真正的牛逼之处，是他做到了每个教练都想做、但从来没人能做到的事——将一支球队带到全球顶尖水平不难，难的是，还能保持几十年之久。在他执掌曼联的26年里，球队拿下了整整38个顶级联赛的冠军，堪称空前绝后。\\n在每个时期，曼联都有不同的死对头，如1990年代的利物浦、阿森纳，2000年后的切尔西、曼城等；与弗爵爷对弈的高手也有温格、穆里尼奥这样的名帅。但最终，都是弗爵爷带领的红魔在不同时期一次次登顶英超冠军。\\n\\n\\n▲\\xa01999年曼联三冠王。无数次的逆境反击\\n弗格森领导力法则1：\\n为赢敢赌\\n\\n\\n曼联似乎有一种本领，总会在比赛后期战胜对手，多次上演绝地反转。“当球迷看到曼联在比赛最后15分钟努力争胜的景象，这种感觉无与伦比：队员踢得真刀实枪、轮番轰炸、甚至‘横尸遍野’。当然，我们也可能会在对手的防守反击中败北，但反败为胜带来的欣喜胜过一切。”\\n\\n\\n要知道，足球教练可是地球上竞争最残酷的职业之一。不管你水平多高，只要连输个几场球立马就得滚蛋。在任何一个顶级联赛，教练的执教时间都是以月来计算的。\\n就拿“狂人”穆里尼奥来说吧。作为新生代的顶级名帅，他在短短十几年里就拿了二十几个冠军，但也照样被撵得东奔西跑，每隔两三年就得换工作。有一次记者问他“你是不是能超越弗爵爷”时，一向牛逼哄哄的穆里尼奥立刻收起笑容，说：“他的成绩别说超越了，就是想接近都不可能。”\\n\\n\\n关于弗爵爷如此成功的原因，业界一直众说纷纭，比如哈佛商学院就给他总结了许多成功经验：像什么打好基础、重建团队和建立信念等一大堆，然后9美刀一份往外卖。\\n而爵爷自己也没闲着，前一阵他和红杉资本董事长迈克尔·莫里茨合写了一本叫《Leading（领导力）》的书，里面也总结了不少灌鸡汤、打鸡血的窍门。但最重要的其实就一条——用彪悍的性格把球员镇住。\\n\\n\\n▲《Leading》这本书透露了弗爵爷很多管理团队的秘诀\\n弗格森领导力法则2：\\n提高标准，一视同仁\\n\\n\\n弗爵爷总是一视同仁的看待所有球员。他会招入那些被他称作“输得起”的球员，并敦促他们付出十二分的努力。时间久了，这种特质在曼联弥散开来，球员们会因为队友不尽全力而不满，即使你再大牌也没用。“我时常对我的队员说，在生命中努力工作是一种能力。”\\n\\n\\n莫里茨特别提到，弗爵爷的经验和法则对商业也有着相互打通的启迪：伟大的领导者往往是狂妄的、不可思议的，也免不了做出备受争议甚至不被认可的决定，他的信念中有着不可撼动的自信。但他对终极目标有非常明确的定义，并能清楚的告诉别人。\\n\\n\\n特别是，要知道带球队可不比管公司。足球教练每天要打交道的不是天不怕地不怕的熊孩子，就是荷尔蒙分泌过剩的基因变异人士，你要是稍微一软弱，他们马上就爬到你头上来。\\n而作为一个出生在码头工人家庭的苏格兰爷们，爵爷最擅长的就是硬碰硬。他最著名的外号叫“吹风机”，说的是他在痛骂球员的时候，能把他们的头发都吹得飘起来。有的球员甚至会被他骂得当场呕吐。\\n早年间在苏格兰执教的时候，爵爷的强硬作风就远近闻名。手下那帮球员都被他吓得屁滚尿流，偷偷给他起了个绰号叫“暴君弗吉”。\\n有时候，他的管理甚至强硬到了匪夷所思的地步。比如有个年轻球员打板球赢了他，当场就被罚去跑了两个小时的圈。还有个家伙更倒霉，他在路上不小心超了爵爷的车，居然就被扣了一礼拜工资，你说上哪说理去？\\n后来到了曼联，他的脾气算是收敛了一点，但要是有谁敢叫板，他也绝不含糊，分分钟干回去。\\n在一次新闻发布会上，有个记者质疑爵爷的球员水平不行，要换别的教练，肯定就随便说两句敷衍过去了。但爵爷哪能吃这亏？他当场大吼一声：“我TM不想跟你说话，他TM是个伟大的球员，而你TM就是个白痴！”然后站起身拂袖而去。\\n而在队内，他更是说一不二，不管是多牛逼的球星，都不能对他有任何顶撞或质疑。每个球员在加入曼联之后，学到的头两件事就是：1.绝对不能和爵爷开玩笑， 2.绝对不能直呼爵爷的名字。\\n比如跟了他多年的传奇队长基恩，就因为公开批评队友被爵爷当场开除出队。后来队里的头号前锋范尼在队内挑事，爵爷听说以后立刻就把他卖了。\\n当然也有不信邪的家伙。英国国脚因斯被爵爷扔到板凳上之后，居然脑子抽风提着一支气枪冲进他的办公室，要求上场踢球。爵爷哪能吃他这套？跳起来就对他劈头盖脸一顿猛削，把这家伙吓得扔了枪抱头鼠窜。\\n不过要说最有轰动效应的一次冲突，还要数小贝的“飞靴门”。\\n事情大致是这样的。在一次0:2输球后，气不打一处来的爵爷在更衣室臭骂了小贝一顿，而小贝也不知道哪来的胆子，居然回了嘴。爵爷一听大怒：小样儿，你要造反不成？飞起一脚就把一只靴子踢到了小贝眼角上，砸得他满脸是血，就这样爵爷还余怒未消，扭头向目瞪口呆的队医大吼：“快TM把他的脸给我糊上！”\\n\\n\\n▲\\xa0飞靴门之后，小贝贴了好长一阵创可贴\\n弗格森领导力法则3：\\n别放弃掌控权\\n\\n\\n“如果哪一天曼联的主帅被球员控制了，那么曼联将会面目全非。主教练的个性必须强过球员，这非常重要。有时候，你不得不问自己：是否有球员正在左右更衣室气氛，影响球队表现，危及到你对俱乐部的控制？如果有这样的球员存在，你必须让他离开。”\\n\\n\\n事隔多年之后，在一次酒会上爵爷又遇到了小贝，就走过去和他打招呼。你猜小贝的动作是什么？这个身价上亿、儿子都十几岁的大老爷们居然偷偷把手里的酒杯往背后藏！可见当年在队里，他怕爵爷怕到什么地步。\\n当然了，像这样的高压管理也并不是没有争议。比如《GQ》就曾经批评爵爷，说他对待球员的方式简直就像萨达姆和本拉登。\\n但在退休后的一次采访中，弗爵爷对哈佛商学院的教授说了实话：他所做的一切，都是为了保证对球队的绝对控制——\\n“当你面对30个顶尖职业球员，而且个个都是百万富翁的时候，你永远不能失去对他们的控制。”\\n\\n\\n\\n\\n弗爵爷的执教生涯当然不是一帆风顺，他也经历了三落三起。\\n1986年11月6日——是的，就是整整30年前，处于英格兰甲级联赛倒数第四位的曼联宣布聘请苏格兰人弗格森担当主教练。不幸的是，弗格森执教后的首场比赛，孩子们就不争气地以0：2失利，曼联直接坠入降级区。那时节，身处榜尾的难兄难弟还有切尔西、纽卡斯尔和曼城这些日后大放光芒的球队。\\n在最初的岁月，没有人会正眼瞧得上弗格森和他带领的曼联。\\n1989年，弗格森更是迎来了执教生涯的第一次危机。曼联被同城对手曼城以5：1痛击，看台上的球迷打出横幅：“三年都是借口，现在还是废话，滚吧，弗吉！”\\n帮助弗格森度过首次危机的是一个叫马克·罗宾森的小子，他在关键比赛中的进球帮助曼联艰难晋级，并且赢得了89/90赛季的足总杯冠军。\\n看起来，是弗格森上任后“清洗”老队员所付出的代价：他先后赶走了爱酗酒生事的诺曼-怀特赛德等三名老人。但其实，弗格森做的最重要的一件事要在数年后才显现出价值：上任之初，他就开始改造俱乐部的青训营计划，雇用了很多球探，专门招募年龄低至9岁的希望之星。早期签下的小球员中包括大卫·贝克汉姆、瑞恩·吉格斯等。他们就是曼联历史上最著名的“92班”，成为1990年代中期曼联走向巅峰的黄金一代球员。\\n\\n\\n▲\\xa0 92班：吉格斯、斯科尔斯、贝克汉姆、内维尔兄弟、巴特、库克\\n弗格森领导力法则4：\\n发掘天才，投资未来\\n\\n\\n“绝大部分主帅只对打造球队上心，而我的目标是塑造一家足球俱乐部。99%的新任主帅首先考虑的都是赢球，以此来保住帅印。但赢一场比赛只是短期成功，下一场你依然可能输掉。而塑造一家俱乐部却能带来稳定性和持续性。”弗格森说。\\n\\n\\n“92班”能有机会登上历史舞台，背景则是弗格森执教生涯的第二次下课危机。\\n1993年，曼联拿到英超开赛以来的首届冠军；1994年，获得英超和足总杯双料冠军。头名功臣就是有着“国王”称号的坎通纳。但成也是他，败也是他。当时间进入94/95赛季，坎通纳的飞腿事件，成为曼联整个赛季的转折点，失去当年冠军。\\n1995年那个夏天，弗格森又放走了因斯等三员大将。曼联缺胳膊少腿。相继接触巴乔等未果后，弗格森把目光投向了92班。95/96赛季英超首轮，弗格森大胆派出了7名21岁以下球员，可惜在首战以1：3输掉。BBC评论嘉宾阿兰·汉森说出了那句著名的讽刺之语：“靠一帮孩子，你什么都赢不了。”\\n真的吗？汉森先生？\\n复出后的坎通纳带领年轻球员不仅拿下了95/96赛季的双冠王，并在下一个赛季完成了曼联的新老交班：1996年8月，赛尔赫斯特公园球场，小贝在中场区一脚超远距离香蕉球，改变了这个少年的一生，曼联拿下第四座英超冠军。坎通纳退役，92班一代正式登场。\\n\\n\\n神迹在1999年到来。弗格森达到了执教生涯的最辉煌时期，曼联成为欧冠、英超和足总杯的三冠王。并在1999-2001年三个赛季，曼联完成了自己历史上的首个三连冠，即使放眼漫长的英格兰足球史，之前也只有两支球队完成这一盛举。\\n特别值得一书的是，98/99赛季的胜利也拯救了贝克汉姆。在’98世界杯上被红牌罚下的小贝，归来后几乎被球迷骂死，是弗格森在此关键时刻给予小贝鼓励和支持，给他上场机会，让他从弃儿重新成为宠儿。（想想巴乔的命运！）\\n\\n\\n▲\\xa0小贝付出了成长的代价，差点就此自暴自弃\\n弗格森领导力法则5：\\n恩威并重\\n\\n\\n“我们试图打造一支这样的球队：它由最顶级的球员组成，而且战术素养极高。如果你的方式过于软弱，你就无法统领这样的队伍，你得令人畏惧。但是，你又不能太强硬，如果球员时刻处在恐惧状态，同样会表现不好。作为主帅，你必须把握好时机，在不同的时点扮演不同角色，有时候你是医生，而其他时候你又要当导师，或是父亲。”\\n\\n\\n弗格森的第三次执教危机出现在03/04和04/05赛季，曼联没有拿到任何一个冠军。直到弗格森打造的第三代团队成型：C罗与鲁尼的双刺组合，让曼联再回巅峰。\\n哈佛商学院把弗爵爷执教曼联的“业绩”后来做成了教学案例。教授们发现，在其26年的执教生涯里，他用了5套不同的阵容获得过不同时期的英超联赛冠军。如果对比各俱乐部的球员转会费数据就会发现，在人才管理方面，弗格森的表现就像一个效率极高的“投资组合经理”，集策略性、理性和系统性于一体：敢于卖出那些看似正当盛年的球员；而买球员所花的钱却比切尔西、曼城、利物浦等对手少得多，更比不上西甲和意甲的那些豪门。\\n曼联历史上的“斯巴达勇士”如坎通纳、索尔斯科亚、范德萨等，都是被弗爵爷以极便宜的价格“买”来；当C罗在曼联被爵爷调教成世界足球先生还拿到金球奖后，可是被皇马以8000万英镑的历史上最高转会费挖走的。\\n\\n\\n只要是对足球有点了解的人都知道，一支顶级球队的巅峰期一般也就4到5年。\\n\\n\\n这里面的原因其实很简单——足球运动员的黄金年龄一般是在24-29岁（C罗、梅西这样的变态不算）。要是教练太过关注短期成绩，球队很容易出现老少球员青黄不接的状况。\\n而爵爷的一大优点就是具有足够长远的眼光。只要球队阵容稍有老化迹象，他就会开始四处搜罗合适的年轻苗子。\\n\\n\\n当然，爵爷偶尔也有看走眼的时候。\\n比如在2001年的时候，他发现29岁的后卫斯塔姆在受伤后恢复得很慢，就断定他已经过了职业巅峰期，毫不留情地将他清除出队。不想斯塔姆这家伙骨骼精奇天赋异禀，伤好了以后居然又活蹦乱跳，并在此后三四年都保持了世界一流的水准。\\n后来爵爷在自传里承认，他肠子都悔青了。\\n\\n\\n\\n\\n▲ \\xa0弗爵爷初到曼联的POSE照：“欢迎来到老特拉福德”。一晃30年过去\\n弗格森领导力法则6：\\n管理团队的生命周期\\n\\n\\n“一支成功球队的持续周期恐怕只有4年，因此，我们总是设想3到4年以后的情况，并据此做决策。重塑球队是个逐渐演变的过程。其中，需要关注的问题主要有两个：第一，谁是我们需要引进的球员，3年后他们会在球队的哪个位置上？第二，现役队员中，是否有老化的迹象？”\\n\\n\\n2013年，72岁的弗爵爷正式宣布退休。26年前，意气风发的弗爵爷曾站在曼联主场的草皮上，留下了那张著名的照片：欢迎来到老特拉福德。现在，数万球迷在这里目送这位史上最伟大足球教练之一的谢幕。新一代的曼联小伙子们也真的争气，在5月12日爵爷执教生涯的最后一个主场之战上，以2：1击败对手。\\n\\n\\n最后，说件有趣的事吧。\\n事儿发生在20多年前。那一次爵爷正在训练场上满嘴标点符号地痛骂球员，结果扭头一看，发现背后一个被吓得脸色发白的女性工作人员正惊恐地盯着他。即使彪悍如爵爷，这时候也彻底没辙了。然后，他结结巴巴的说出了下面这段经典解释——\\n“亲爱的我很抱歉……但你要和这帮狗*养的说话，就一定TM要用狗*养的听得懂的语言……”(I’m really sorry love... but you have to speak to these f***ers in a f***ing language they f***ing understand…… )',\n",
       " 'date': None,\n",
       " 'nickname': '认识最疯狂的天才 ',\n",
       " 'wechat': 'sishimiao'}"
      ]
     },
     "execution_count": 10,
     "metadata": {},
     "output_type": "execute_result"
    }
   ],
   "source": [
    "ls_articles[6]"
   ]
  },
  {
   "cell_type": "markdown",
   "metadata": {},
   "source": [
    "### mapping"
   ]
  },
  {
   "cell_type": "markdown",
   "metadata": {},
   "source": [
    "#### preview patient data"
   ]
  },
  {
   "cell_type": "markdown",
   "metadata": {},
   "source": [
    "#### cut items"
   ]
  },
  {
   "cell_type": "markdown",
   "metadata": {},
   "source": [
    "### 4. topic modeling"
   ]
  },
  {
   "cell_type": "code",
   "execution_count": 11,
   "metadata": {},
   "outputs": [],
   "source": [
    "# 只从文本中提取1000个最重要的特征关键词，然后停止。\n",
    "n_features = 1000"
   ]
  },
  {
   "cell_type": "markdown",
   "metadata": {},
   "source": [
    "#### 关键词提取和向量转换"
   ]
  },
  {
   "cell_type": "code",
   "execution_count": 12,
   "metadata": {},
   "outputs": [],
   "source": [
    "tf_vectorizer = CountVectorizer(strip_accents = 'unicode',\n",
    "                                max_features=n_features,\n",
    "                                stop_words='english',\n",
    "                                lowercase=False,\n",
    "                                max_df = 0.5,\n",
    "                                min_df = 10)\n",
    "tf = tf_vectorizer.fit_transform(df_articles['articles'])"
   ]
  },
  {
   "cell_type": "code",
   "execution_count": 13,
   "metadata": {
    "scrolled": true
   },
   "outputs": [
    {
     "name": "stdout",
     "output_type": "stream",
     "text": [
      "(1033, 1000)\n",
      "  (0, 213)\t1\n",
      "  (0, 73)\t1\n",
      "  (0, 617)\t1\n",
      "  (0, 138)\t1\n",
      "  (0, 565)\t1\n",
      "  (0, 912)\t1\n",
      "  (0, 360)\t1\n",
      "  (0, 892)\t1\n",
      "  (0, 941)\t1\n",
      "  (0, 999)\t1\n",
      "  (0, 20)\t1\n",
      "  (0, 22)\t1\n",
      "  (0, 302)\t1\n",
      "  (0, 190)\t1\n",
      "  (0, 370)\t1\n",
      "  (0, 64)\t1\n",
      "  (0, 318)\t2\n",
      "  (0, 762)\t1\n",
      "  (0, 274)\t1\n",
      "  (0, 89)\t1\n",
      "  (0, 119)\t1\n",
      "  (0, 963)\t2\n",
      "  (0, 259)\t1\n",
      "  (0, 218)\t1\n",
      "  (0, 272)\t1\n",
      "  :\t:\n",
      "  (1032, 318)\t1\n",
      "  (1032, 127)\t12\n",
      "  (1032, 452)\t1\n",
      "  (1032, 171)\t1\n",
      "  (1032, 69)\t1\n",
      "  (1032, 734)\t1\n",
      "  (1032, 700)\t2\n",
      "  (1032, 450)\t1\n",
      "  (1032, 207)\t1\n",
      "  (1032, 498)\t2\n",
      "  (1032, 430)\t1\n",
      "  (1032, 30)\t1\n",
      "  (1032, 921)\t3\n",
      "  (1032, 821)\t6\n",
      "  (1032, 334)\t2\n",
      "  (1032, 915)\t1\n",
      "  (1032, 26)\t3\n",
      "  (1032, 604)\t1\n",
      "  (1032, 184)\t1\n",
      "  (1032, 71)\t1\n",
      "  (1032, 580)\t3\n",
      "  (1032, 28)\t1\n",
      "  (1032, 923)\t2\n",
      "  (1032, 470)\t3\n",
      "  (1032, 16)\t1\n"
     ]
    }
   ],
   "source": [
    "print(tf.shape)  # (NO_DOCUMENTS, NO_FEATURES)\n",
    "print(tf)"
   ]
  },
  {
   "cell_type": "code",
   "execution_count": 14,
   "metadata": {},
   "outputs": [
    {
     "ename": "NameError",
     "evalue": "name 'tokenized_data' is not defined",
     "output_type": "error",
     "traceback": [
      "\u001b[0;31m---------------------------------------------------------------------------\u001b[0m",
      "\u001b[0;31mNameError\u001b[0m                                 Traceback (most recent call last)",
      "\u001b[0;32m<ipython-input-14-a24a27bae7b6>\u001b[0m in \u001b[0;36m<module>\u001b[0;34m\u001b[0m\n\u001b[0;32m----> 1\u001b[0;31m \u001b[0mdictionary\u001b[0m \u001b[0;34m=\u001b[0m \u001b[0mcorpora\u001b[0m\u001b[0;34m.\u001b[0m\u001b[0mDictionary\u001b[0m\u001b[0;34m(\u001b[0m\u001b[0mtokenized_data\u001b[0m\u001b[0;34m)\u001b[0m\u001b[0;34m\u001b[0m\u001b[0;34m\u001b[0m\u001b[0m\n\u001b[0m",
      "\u001b[0;31mNameError\u001b[0m: name 'tokenized_data' is not defined"
     ]
    }
   ],
   "source": [
    "dictionary = corpora.Dictionary(tokenized_data)"
   ]
  },
  {
   "cell_type": "code",
   "execution_count": 15,
   "metadata": {},
   "outputs": [],
   "source": [
    "corpus_vect_gensim = Sparse2Corpus(tf, documents_columns=False)"
   ]
  },
  {
   "cell_type": "code",
   "execution_count": 16,
   "metadata": {},
   "outputs": [
    {
     "name": "stderr",
     "output_type": "stream",
     "text": [
      "2019-07-23 18:02:04,267 : WARNING : no word id mapping provided; initializing from corpus, assuming identity\n",
      "2019-07-23 18:02:04,372 : INFO : using serial LSI version on this node\n",
      "2019-07-23 18:02:04,373 : INFO : updating model with new documents\n",
      "2019-07-23 18:02:04,422 : INFO : preparing a new chunk of documents\n",
      "2019-07-23 18:02:04,482 : INFO : using 100 extra samples and 2 power iterations\n",
      "2019-07-23 18:02:04,484 : INFO : 1st phase: constructing (1000, 104) action matrix\n",
      "2019-07-23 18:02:04,509 : INFO : orthonormalizing (1000, 104) action matrix\n",
      "2019-07-23 18:02:04,615 : INFO : 2nd phase: running dense svd on (104, 1033) matrix\n",
      "2019-07-23 18:02:04,631 : INFO : computing the final decomposition\n",
      "2019-07-23 18:02:04,633 : INFO : keeping 4 factors (discarding 53.498% of energy spectrum)\n",
      "2019-07-23 18:02:04,634 : INFO : processed documents up to #1033\n",
      "2019-07-23 18:02:04,636 : INFO : topic #0(1512.272): 0.672*\"360\" + 0.232*\"767\" + 0.207*\"189\" + 0.182*\"890\" + 0.144*\"697\" + 0.136*\"752\" + 0.116*\"515\" + 0.113*\"626\" + 0.100*\"992\" + 0.096*\"6\"\n",
      "2019-07-23 18:02:04,637 : INFO : topic #1(1007.270): -0.456*\"360\" + 0.201*\"779\" + 0.186*\"81\" + 0.167*\"800\" + 0.156*\"230\" + 0.140*\"992\" + -0.135*\"697\" + 0.115*\"139\" + 0.109*\"462\" + 0.105*\"744\"\n",
      "2019-07-23 18:02:04,638 : INFO : topic #2(684.817): -0.522*\"189\" + -0.514*\"616\" + -0.227*\"493\" + -0.212*\"445\" + 0.207*\"360\" + -0.193*\"404\" + 0.172*\"230\" + -0.136*\"809\" + 0.133*\"6\" + -0.122*\"849\"\n",
      "2019-07-23 18:02:04,640 : INFO : topic #3(646.115): -0.313*\"752\" + -0.306*\"6\" + 0.293*\"230\" + -0.260*\"890\" + 0.231*\"697\" + -0.173*\"764\" + -0.172*\"107\" + -0.170*\"945\" + -0.164*\"548\" + 0.164*\"800\"\n"
     ]
    }
   ],
   "source": [
    "lsi = LsiModel(corpus_vect_gensim, num_topics=4)"
   ]
  },
  {
   "cell_type": "code",
   "execution_count": 17,
   "metadata": {},
   "outputs": [
    {
     "name": "stderr",
     "output_type": "stream",
     "text": [
      "2019-07-23 18:02:06,399 : INFO : adding document #0 to Dictionary(0 unique tokens: [])\n",
      "2019-07-23 18:02:06,650 : INFO : built Dictionary(1000 unique tokens: ['一些', '媒体', '今天', '必须', '这种']...) from 1033 documents (total 557542 corpus positions)\n"
     ]
    }
   ],
   "source": [
    "dictionary = Dictionary.from_corpus(corpus_vect_gensim, id2word=dict((id, word) for word, id in tf_vectorizer.vocabulary_.items()))"
   ]
  },
  {
   "cell_type": "code",
   "execution_count": 18,
   "metadata": {},
   "outputs": [
    {
     "name": "stderr",
     "output_type": "stream",
     "text": [
      "2019-07-23 18:02:08,626 : WARNING : no word id mapping provided; initializing from corpus, assuming identity\n",
      "2019-07-23 18:02:08,731 : INFO : using serial LSI version on this node\n",
      "2019-07-23 18:02:08,732 : INFO : updating model with new documents\n",
      "2019-07-23 18:02:08,775 : INFO : preparing a new chunk of documents\n",
      "2019-07-23 18:02:08,835 : INFO : using 100 extra samples and 2 power iterations\n",
      "2019-07-23 18:02:08,836 : INFO : 1st phase: constructing (1000, 104) action matrix\n",
      "2019-07-23 18:02:08,860 : INFO : orthonormalizing (1000, 104) action matrix\n",
      "2019-07-23 18:02:08,953 : INFO : 2nd phase: running dense svd on (104, 1033) matrix\n",
      "2019-07-23 18:02:08,960 : INFO : computing the final decomposition\n",
      "2019-07-23 18:02:08,961 : INFO : keeping 4 factors (discarding 53.464% of energy spectrum)\n",
      "2019-07-23 18:02:08,962 : INFO : processed documents up to #1033\n",
      "2019-07-23 18:02:08,963 : INFO : topic #0(1512.272): -0.672*\"360\" + -0.232*\"767\" + -0.207*\"189\" + -0.182*\"890\" + -0.144*\"697\" + -0.136*\"752\" + -0.116*\"515\" + -0.113*\"626\" + -0.100*\"992\" + -0.096*\"6\"\n",
      "2019-07-23 18:02:08,965 : INFO : topic #1(1007.270): -0.456*\"360\" + 0.201*\"779\" + 0.186*\"81\" + 0.167*\"800\" + 0.156*\"230\" + 0.140*\"992\" + -0.135*\"697\" + 0.115*\"139\" + 0.109*\"462\" + 0.105*\"744\"\n",
      "2019-07-23 18:02:08,966 : INFO : topic #2(684.817): 0.522*\"189\" + 0.514*\"616\" + 0.227*\"493\" + 0.212*\"445\" + -0.207*\"360\" + 0.193*\"404\" + -0.172*\"230\" + 0.136*\"809\" + -0.133*\"6\" + 0.122*\"849\"\n",
      "2019-07-23 18:02:08,968 : INFO : topic #3(646.115): -0.313*\"752\" + -0.306*\"6\" + 0.293*\"230\" + -0.260*\"890\" + 0.231*\"697\" + -0.173*\"764\" + -0.172*\"107\" + -0.170*\"945\" + -0.164*\"548\" + 0.164*\"800\"\n",
      "2019-07-23 18:02:09,003 : INFO : topic #0(1512.272): -0.672*\"360\" + -0.232*\"767\" + -0.207*\"189\" + -0.182*\"890\" + -0.144*\"697\" + -0.136*\"752\" + -0.116*\"515\" + -0.113*\"626\" + -0.100*\"992\" + -0.096*\"6\"\n",
      "2019-07-23 18:02:09,004 : INFO : topic #1(1007.270): -0.456*\"360\" + 0.201*\"779\" + 0.186*\"81\" + 0.167*\"800\" + 0.156*\"230\" + 0.140*\"992\" + -0.135*\"697\" + 0.115*\"139\" + 0.109*\"462\" + 0.105*\"744\"\n"
     ]
    },
    {
     "name": "stdout",
     "output_type": "stream",
     "text": [
      "[(0, '-0.672*\"360\" + -0.232*\"767\" + -0.207*\"189\" + -0.182*\"890\" + -0.144*\"697\" + -0.136*\"752\" + -0.116*\"515\" + -0.113*\"626\" + -0.100*\"992\" + -0.096*\"6\"'), (1, '-0.456*\"360\" + 0.201*\"779\" + 0.186*\"81\" + 0.167*\"800\" + 0.156*\"230\" + 0.140*\"992\" + -0.135*\"697\" + 0.115*\"139\" + 0.109*\"462\" + 0.105*\"744\"')]\n"
     ]
    }
   ],
   "source": [
    "# transform sparse matrix into gensim corpus\n",
    "# corpus_vect_gensim = gensim.matutils.Sparse2Corpus(tf_vectorizer, documents_columns=False)\n",
    "lsi = LsiModel(corpus_vect_gensim, num_topics=4)\n",
    "# I instead would like something like this line below\n",
    "# lsi = gensim.models.LsiModel(corpus_vect_gensim, id2word=vect.vocabulary_, num_topics=2)\n",
    "print (lsi.print_topics(2))\n",
    "#['0.622*\"21\" + 0.359*\"31\" + 0.256*\"38\" + 0.206*\"29\" + 0.206*\"34\" + 0.197*\"36\" + 0.170*\"33\" + 0.168*\"1\" + 0.158*\"10\" + 0.147*\"4\"', '0.399*\"36\" + 0.364*\"10\" + -0.295*\"31\" + 0.245*\"20\" + -0.226*\"38\" + 0.194*\"26\" + 0.194*\"15\" + 0.194*\"39\" + 0.194*\"23\" + 0.194*\"40\"']\n"
   ]
  },
  {
   "cell_type": "code",
   "execution_count": 19,
   "metadata": {},
   "outputs": [],
   "source": [
    "tokenized_data = [x.split(' ') for x in df_articles['articles']]"
   ]
  },
  {
   "cell_type": "code",
   "execution_count": 20,
   "metadata": {},
   "outputs": [
    {
     "name": "stderr",
     "output_type": "stream",
     "text": [
      "2019-07-23 18:02:12,487 : INFO : adding document #0 to Dictionary(0 unique tokens: [])\n",
      "2019-07-23 18:02:13,813 : INFO : built Dictionary(68976 unique tokens: ['', '\\n', 'BB', 'Bloomberg', 'Druckenmiller']...) from 1033 documents (total 2434620 corpus positions)\n",
      "2019-07-23 18:02:13,876 : INFO : discarding 54578 tokens: [('', 1030), ('Druckenmiller', 1), ('Helmut', 1), ('Lamont', 1), ('Norman', 2), ('Schlesinger', 1), ('Stanley', 4), ('一写', 3), ('一家老小', 1), ('下期', 2)]...\n",
      "2019-07-23 18:02:13,877 : INFO : keeping 14398 tokens which were in no less than 5 and no more than 929 (=90.0%) documents\n",
      "2019-07-23 18:02:13,892 : INFO : resulting dictionary: Dictionary(14398 unique tokens: ['\\n', 'BB', 'Bloomberg', 'X', '一']...)\n"
     ]
    },
    {
     "ename": "NameError",
     "evalue": "name 'dictionary1' is not defined",
     "output_type": "error",
     "traceback": [
      "\u001b[0;31m---------------------------------------------------------------------------\u001b[0m",
      "\u001b[0;31mNameError\u001b[0m                                 Traceback (most recent call last)",
      "\u001b[0;32m<ipython-input-20-c561eda7c9db>\u001b[0m in \u001b[0;36m<module>\u001b[0;34m\u001b[0m\n\u001b[1;32m      4\u001b[0m \u001b[0mNUM_TOPICS\u001b[0m \u001b[0;34m=\u001b[0m \u001b[0;36m5\u001b[0m\u001b[0;34m\u001b[0m\u001b[0;34m\u001b[0m\u001b[0m\n\u001b[1;32m      5\u001b[0m \u001b[0;31m# Build the LDA model\u001b[0m\u001b[0;34m\u001b[0m\u001b[0;34m\u001b[0m\u001b[0;34m\u001b[0m\u001b[0m\n\u001b[0;32m----> 6\u001b[0;31m \u001b[0mlda_model\u001b[0m \u001b[0;34m=\u001b[0m \u001b[0mmodels\u001b[0m\u001b[0;34m.\u001b[0m\u001b[0mLdaModel\u001b[0m\u001b[0;34m(\u001b[0m\u001b[0mcorpus\u001b[0m\u001b[0;34m=\u001b[0m\u001b[0mcorpus\u001b[0m\u001b[0;34m,\u001b[0m \u001b[0mnum_topics\u001b[0m\u001b[0;34m=\u001b[0m\u001b[0mNUM_TOPICS\u001b[0m\u001b[0;34m,\u001b[0m \u001b[0mid2word\u001b[0m\u001b[0;34m=\u001b[0m\u001b[0mdictionary1\u001b[0m\u001b[0;34m,\u001b[0m \u001b[0mper_word_topics\u001b[0m\u001b[0;34m=\u001b[0m\u001b[0;32mTrue\u001b[0m\u001b[0;34m,\u001b[0m \u001b[0malpha\u001b[0m\u001b[0;34m=\u001b[0m\u001b[0;34m'asymmetric'\u001b[0m\u001b[0;34m,\u001b[0m \u001b[0mminimum_probability\u001b[0m\u001b[0;34m=\u001b[0m\u001b[0;36m0.0\u001b[0m\u001b[0;34m)\u001b[0m\u001b[0;34m\u001b[0m\u001b[0;34m\u001b[0m\u001b[0m\n\u001b[0m\u001b[1;32m      7\u001b[0m \u001b[0mtopic_distribution\u001b[0m \u001b[0;34m=\u001b[0m \u001b[0mlda_model\u001b[0m\u001b[0;34m.\u001b[0m\u001b[0mshow_topics\u001b[0m\u001b[0;34m(\u001b[0m\u001b[0mnum_words\u001b[0m\u001b[0;34m=\u001b[0m\u001b[0;36m10\u001b[0m\u001b[0;34m)\u001b[0m\u001b[0;34m\u001b[0m\u001b[0;34m\u001b[0m\u001b[0m\n\u001b[1;32m      8\u001b[0m \u001b[0mpd\u001b[0m\u001b[0;34m.\u001b[0m\u001b[0mDataFrame\u001b[0m\u001b[0;34m(\u001b[0m\u001b[0;34m[\u001b[0m\u001b[0mx\u001b[0m\u001b[0;34m[\u001b[0m\u001b[0;36m1\u001b[0m\u001b[0;34m]\u001b[0m\u001b[0;34m.\u001b[0m\u001b[0msplit\u001b[0m\u001b[0;34m(\u001b[0m\u001b[0;34m' + '\u001b[0m\u001b[0;34m)\u001b[0m \u001b[0;32mfor\u001b[0m \u001b[0mx\u001b[0m \u001b[0;32min\u001b[0m \u001b[0mtopic_distribution\u001b[0m\u001b[0;34m]\u001b[0m\u001b[0;34m)\u001b[0m\u001b[0;34m.\u001b[0m\u001b[0mT\u001b[0m\u001b[0;34m\u001b[0m\u001b[0;34m\u001b[0m\u001b[0m\n",
      "\u001b[0;31mNameError\u001b[0m: name 'dictionary1' is not defined"
     ]
    }
   ],
   "source": [
    "dictionary = corpora.Dictionary(tokenized_data)\n",
    "dictionary.filter_extremes(no_above=0.9)\n",
    "corpus = [dictionary.doc2bow(text) for text in tokenized_data]\n",
    "NUM_TOPICS = 5\n",
    "# Build the LDA model\n",
    "lda_model = models.LdaModel(corpus=corpus, num_topics=NUM_TOPICS, id2word=dictionary1, per_word_topics=True, alpha='asymmetric', minimum_probability=0.0)\n",
    "topic_distribution = lda_model.show_topics(num_words=10)\n",
    "pd.DataFrame([x[1].split(' + ') for x in topic_distribution]).T"
   ]
  },
  {
   "cell_type": "markdown",
   "metadata": {},
   "source": [
    "#### 把文章粗略划分成5个大类"
   ]
  },
  {
   "cell_type": "code",
   "execution_count": null,
   "metadata": {},
   "outputs": [],
   "source": [
    "n_topics = 5\n",
    "lda = LatentDirichletAllocation(n_components=n_topics, max_iter=50,\n",
    "                                learning_method='online',\n",
    "                                learning_offset=50.,\n",
    "                                random_state=0)\n"
   ]
  },
  {
   "cell_type": "code",
   "execution_count": 21,
   "metadata": {},
   "outputs": [
    {
     "ename": "NameError",
     "evalue": "name 'lda' is not defined",
     "output_type": "error",
     "traceback": [
      "\u001b[0;31m---------------------------------------------------------------------------\u001b[0m",
      "\u001b[0;31mNameError\u001b[0m                                 Traceback (most recent call last)",
      "\u001b[0;32m<ipython-input-21-b69c09cd8c5f>\u001b[0m in \u001b[0;36m<module>\u001b[0;34m\u001b[0m\n\u001b[0;32m----> 1\u001b[0;31m \u001b[0mlda\u001b[0m\u001b[0;34m.\u001b[0m\u001b[0mfit\u001b[0m\u001b[0;34m(\u001b[0m\u001b[0mtf\u001b[0m\u001b[0;34m)\u001b[0m\u001b[0;34m\u001b[0m\u001b[0;34m\u001b[0m\u001b[0m\n\u001b[0m",
      "\u001b[0;31mNameError\u001b[0m: name 'lda' is not defined"
     ]
    }
   ],
   "source": [
    "lda.fit(tf)"
   ]
  },
  {
   "cell_type": "markdown",
   "metadata": {},
   "source": [
    "####  Build a Latent Semantic Indexing Model"
   ]
  },
  {
   "cell_type": "code",
   "execution_count": 20,
   "metadata": {},
   "outputs": [
    {
     "name": "stdout",
     "output_type": "stream",
     "text": [
      "(951, 5)\n"
     ]
    }
   ],
   "source": [
    "lsi_model = TruncatedSVD(n_components=n_topics)\n",
    "lsi_Z = lsi_model.fit_transform(tf)\n",
    "print(lsi_Z.shape)  # (NO_DOCUMENTS, NO_TOPICS)"
   ]
  },
  {
   "cell_type": "raw",
   "metadata": {},
   "source": [
    "# Let's see how the first document in the corpus looks like in different topic spaces\n",
    "print(tf[0])"
   ]
  },
  {
   "cell_type": "markdown",
   "metadata": {},
   "source": [
    "#### 主题没有一个确定的名称，而是用一系列关键词刻画的。我们定义以下的函数，把每个主题里面的前若干个关键词显示出来："
   ]
  },
  {
   "cell_type": "code",
   "execution_count": 21,
   "metadata": {},
   "outputs": [],
   "source": [
    "def print_top_words(model, feature_names, n_top_words):\n",
    "    for topic_idx, topic in enumerate(model.components_):\n",
    "        print(\"Topic #%d:\" % topic_idx)\n",
    "        print(\" \".join([feature_names[i]\n",
    "                        for i in topic.argsort()[:-n_top_words - 1:-1]]))\n",
    "    print()\n"
   ]
  },
  {
   "cell_type": "code",
   "execution_count": 22,
   "metadata": {},
   "outputs": [],
   "source": [
    "n_top_words = 10"
   ]
  },
  {
   "cell_type": "code",
   "execution_count": 23,
   "metadata": {},
   "outputs": [],
   "source": [
    "tf_feature_names = tf_vectorizer.get_feature_names()"
   ]
  },
  {
   "cell_type": "code",
   "execution_count": 31,
   "metadata": {},
   "outputs": [
    {
     "name": "stdout",
     "output_type": "stream",
     "text": [
      "Topic #0:\n",
      "策略 股票 收益 组合 风险 因子 数据 指数 资产 模型\n",
      "Topic #1:\n",
      "基金 公司 管理 私募 机构 资产 产品 信托 业务 企业\n",
      "Topic #2:\n",
      "这个 自己 他们 因为 所以 时候 但是 不是 什么 还是\n",
      "Topic #3:\n",
      "扑克 策略 宏观 报名 商品 全球 中国 产业 如何 财经\n",
      "Topic #4:\n",
      "经济 美国 中国 利率 影响 政策 贸易 预期 企业 增长\n",
      "\n"
     ]
    }
   ],
   "source": [
    "print_top_words(lda, tf_feature_names, n_top_words)\n"
   ]
  },
  {
   "cell_type": "markdown",
   "metadata": {},
   "source": [
    "#### document-topic distribution"
   ]
  },
  {
   "cell_type": "code",
   "execution_count": 32,
   "metadata": {},
   "outputs": [
    {
     "ename": "NameError",
     "evalue": "name 'corpus' is not defined",
     "output_type": "error",
     "traceback": [
      "\u001b[0;31m---------------------------------------------------------------------------\u001b[0m",
      "\u001b[0;31mNameError\u001b[0m                                 Traceback (most recent call last)",
      "\u001b[0;32m<ipython-input-32-57e85aaf72dd>\u001b[0m in \u001b[0;36m<module>\u001b[0;34m\u001b[0m\n\u001b[0;32m----> 1\u001b[0;31m \u001b[0mdoc_topic_distribution\u001b[0m \u001b[0;34m=\u001b[0m \u001b[0;34m[\u001b[0m\u001b[0;34m[\u001b[0m\u001b[0mz\u001b[0m\u001b[0;34m[\u001b[0m\u001b[0;36m1\u001b[0m\u001b[0;34m]\u001b[0m \u001b[0;32mfor\u001b[0m \u001b[0mz\u001b[0m \u001b[0;32min\u001b[0m \u001b[0mlda_model\u001b[0m\u001b[0;34m[\u001b[0m\u001b[0my\u001b[0m\u001b[0;34m]\u001b[0m\u001b[0;34m[\u001b[0m\u001b[0;36m0\u001b[0m\u001b[0;34m]\u001b[0m\u001b[0;34m]\u001b[0m \u001b[0;32mfor\u001b[0m \u001b[0mx\u001b[0m\u001b[0;34m,\u001b[0m\u001b[0my\u001b[0m \u001b[0;32min\u001b[0m \u001b[0menumerate\u001b[0m\u001b[0;34m(\u001b[0m\u001b[0mcorpus\u001b[0m\u001b[0;34m)\u001b[0m\u001b[0;34m]\u001b[0m\u001b[0;34m\u001b[0m\u001b[0;34m\u001b[0m\u001b[0m\n\u001b[0m",
      "\u001b[0;31mNameError\u001b[0m: name 'corpus' is not defined"
     ]
    }
   ],
   "source": [
    "doc_topic_distribution = [[z[1] for z in lda_model[y][0]] for x,y in enumerate(corpus)]"
   ]
  },
  {
   "cell_type": "code",
   "execution_count": null,
   "metadata": {},
   "outputs": [],
   "source": []
  },
  {
   "cell_type": "markdown",
   "metadata": {},
   "source": [
    "### visualizing"
   ]
  },
  {
   "cell_type": "code",
   "execution_count": 25,
   "metadata": {
    "scrolled": true
   },
   "outputs": [
    {
     "name": "stderr",
     "output_type": "stream",
     "text": [
      "/home/wuwei/anaconda3/envs/tfgpu/lib/python3.6/site-packages/pyLDAvis/_prepare.py:257: FutureWarning: Sorting because non-concatenation axis is not aligned. A future version\n",
      "of pandas will change to not sort by default.\n",
      "\n",
      "To accept the future behavior, pass 'sort=False'.\n",
      "\n",
      "To retain the current behavior and silence the warning, pass 'sort=True'.\n",
      "\n",
      "  return pd.concat([default_term_info] + list(topic_dfs))\n"
     ]
    },
    {
     "data": {
      "text/html": [
       "\n",
       "<link rel=\"stylesheet\" type=\"text/css\" href=\"https://cdn.rawgit.com/bmabey/pyLDAvis/files/ldavis.v1.0.0.css\">\n",
       "\n",
       "\n",
       "<div id=\"ldavis_el114761398594055696241502736997\"></div>\n",
       "<script type=\"text/javascript\">\n",
       "\n",
       "var ldavis_el114761398594055696241502736997_data = {\"mdsDat\": {\"x\": [0.014480535331429921, -0.045011506109337185, -0.059219653383743145, -0.14057938379835624, 0.23033000796000663], \"y\": [-0.0557692263428336, 0.1198219329008468, -0.1782823314906189, 0.08268163346489626, 0.031547991467709334], \"topics\": [1, 2, 3, 4, 5], \"cluster\": [1, 1, 1, 1, 1], \"Freq\": [28.4768598844923, 25.7814750942652, 18.56048970000964, 17.398224794385058, 9.782950526847808]}, \"tinfo\": {\"Category\": [\"Default\", \"Default\", \"Default\", \"Default\", \"Default\", \"Default\", \"Default\", \"Default\", \"Default\", \"Default\", \"Default\", \"Default\", \"Default\", \"Default\", \"Default\", \"Default\", \"Default\", \"Default\", \"Default\", \"Default\", \"Default\", \"Default\", \"Default\", \"Default\", \"Default\", \"Default\", \"Default\", \"Default\", \"Default\", \"Default\", \"Topic1\", \"Topic1\", \"Topic1\", \"Topic1\", \"Topic1\", \"Topic1\", \"Topic1\", \"Topic1\", \"Topic1\", \"Topic1\", \"Topic1\", \"Topic1\", \"Topic1\", \"Topic1\", \"Topic1\", \"Topic1\", \"Topic1\", \"Topic1\", \"Topic1\", \"Topic1\", \"Topic1\", \"Topic1\", \"Topic1\", \"Topic1\", \"Topic1\", \"Topic1\", \"Topic1\", \"Topic1\", \"Topic1\", \"Topic1\", \"Topic1\", \"Topic1\", \"Topic1\", \"Topic1\", \"Topic1\", \"Topic1\", \"Topic1\", \"Topic1\", \"Topic1\", \"Topic1\", \"Topic1\", \"Topic1\", \"Topic1\", \"Topic1\", \"Topic1\", \"Topic1\", \"Topic1\", \"Topic1\", \"Topic1\", \"Topic1\", \"Topic1\", \"Topic1\", \"Topic1\", \"Topic1\", \"Topic1\", \"Topic1\", \"Topic1\", \"Topic1\", \"Topic1\", \"Topic1\", \"Topic1\", \"Topic1\", \"Topic1\", \"Topic1\", \"Topic2\", \"Topic2\", \"Topic2\", \"Topic2\", \"Topic2\", \"Topic2\", \"Topic2\", \"Topic2\", \"Topic2\", \"Topic2\", \"Topic2\", \"Topic2\", \"Topic2\", \"Topic2\", \"Topic2\", \"Topic2\", \"Topic2\", \"Topic2\", \"Topic2\", \"Topic2\", \"Topic2\", \"Topic2\", \"Topic2\", \"Topic2\", \"Topic2\", \"Topic2\", \"Topic2\", \"Topic2\", \"Topic2\", \"Topic2\", \"Topic2\", \"Topic2\", \"Topic2\", \"Topic2\", \"Topic2\", \"Topic2\", \"Topic2\", \"Topic2\", \"Topic2\", \"Topic2\", \"Topic2\", \"Topic2\", \"Topic2\", \"Topic2\", \"Topic2\", \"Topic2\", \"Topic2\", \"Topic2\", \"Topic2\", \"Topic2\", \"Topic2\", \"Topic2\", \"Topic2\", \"Topic2\", \"Topic2\", \"Topic2\", \"Topic3\", \"Topic3\", \"Topic3\", \"Topic3\", \"Topic3\", \"Topic3\", \"Topic3\", \"Topic3\", \"Topic3\", \"Topic3\", \"Topic3\", \"Topic3\", \"Topic3\", \"Topic3\", \"Topic3\", \"Topic3\", \"Topic3\", \"Topic3\", \"Topic3\", \"Topic3\", \"Topic3\", \"Topic3\", \"Topic3\", \"Topic3\", \"Topic3\", \"Topic3\", \"Topic3\", \"Topic3\", \"Topic3\", \"Topic3\", \"Topic3\", \"Topic3\", \"Topic3\", \"Topic3\", \"Topic3\", \"Topic3\", \"Topic3\", \"Topic3\", \"Topic3\", \"Topic3\", \"Topic3\", \"Topic3\", \"Topic3\", \"Topic3\", \"Topic3\", \"Topic3\", \"Topic3\", \"Topic3\", \"Topic3\", \"Topic3\", \"Topic3\", \"Topic3\", \"Topic3\", \"Topic3\", \"Topic3\", \"Topic3\", \"Topic3\", \"Topic3\", \"Topic3\", \"Topic3\", \"Topic3\", \"Topic3\", \"Topic4\", \"Topic4\", \"Topic4\", \"Topic4\", \"Topic4\", \"Topic4\", \"Topic4\", \"Topic4\", \"Topic4\", \"Topic4\", \"Topic4\", \"Topic4\", \"Topic4\", \"Topic4\", \"Topic4\", \"Topic4\", \"Topic4\", \"Topic4\", \"Topic4\", \"Topic4\", \"Topic4\", \"Topic4\", \"Topic4\", \"Topic4\", \"Topic4\", \"Topic4\", \"Topic4\", \"Topic4\", \"Topic4\", \"Topic4\", \"Topic4\", \"Topic4\", \"Topic4\", \"Topic4\", \"Topic4\", \"Topic4\", \"Topic4\", \"Topic4\", \"Topic4\", \"Topic4\", \"Topic4\", \"Topic4\", \"Topic4\", \"Topic4\", \"Topic4\", \"Topic4\", \"Topic4\", \"Topic4\", \"Topic4\", \"Topic4\", \"Topic4\", \"Topic4\", \"Topic5\", \"Topic5\", \"Topic5\", \"Topic5\", \"Topic5\", \"Topic5\", \"Topic5\", \"Topic5\", \"Topic5\", \"Topic5\", \"Topic5\", \"Topic5\", \"Topic5\", \"Topic5\", \"Topic5\", \"Topic5\", \"Topic5\", \"Topic5\", \"Topic5\", \"Topic5\", \"Topic5\", \"Topic5\", \"Topic5\", \"Topic5\", \"Topic5\", \"Topic5\", \"Topic5\", \"Topic5\", \"Topic5\", \"Topic5\", \"Topic5\", \"Topic5\", \"Topic5\", \"Topic5\", \"Topic5\", \"Topic5\", \"Topic5\", \"Topic5\", \"Topic5\", \"Topic5\", \"Topic5\", \"Topic5\", \"Topic5\", \"Topic5\", \"Topic5\", \"Topic5\", \"Topic5\", \"Topic5\", \"Topic5\", \"Topic5\"], \"Freq\": [4621.0, 2531.0, 2454.0, 1121.0, 1689.0, 3468.0, 3701.0, 1320.0, 1489.0, 2069.0, 1997.0, 1905.0, 1703.0, 1113.0, 2177.0, 1018.0, 3354.0, 3676.0, 633.0, 1154.0, 1503.0, 890.0, 861.0, 1345.0, 1388.0, 1396.0, 856.0, 2180.0, 1313.0, 1277.0, 631.4935463929266, 314.8445078632634, 979.5111808464804, 281.9029958127977, 242.95800793834812, 341.34256928118776, 201.77974698776563, 199.0605704734832, 358.0223385467245, 298.82405613567005, 685.6392012460733, 394.42077451616296, 326.59425658044825, 506.5119200201726, 871.2098012689975, 220.1088619540195, 545.4845582081055, 212.06212102842616, 225.57720062010492, 183.15202261655114, 1949.6065087606978, 235.23411845933873, 187.8551626378045, 198.09572398119897, 615.8055228842868, 213.53739848985535, 809.9938366121917, 341.0094361379787, 686.5311572227365, 203.88377788981376, 565.3892260695121, 1193.6823223147142, 424.7628040351987, 3053.4747755448384, 398.98181482151114, 613.0200083729876, 2704.271149743608, 741.0058921462996, 1253.277979555362, 908.2106892299357, 330.00808274781156, 882.5201934266524, 720.195744708658, 1091.8100080015838, 1154.6342760310158, 748.7735395169062, 1989.601793309586, 795.8629598890502, 1289.6783416197513, 460.9727031650973, 593.978199697075, 1096.7921544249823, 662.9161833049127, 660.2056266915253, 904.7921264894368, 706.2954301174245, 748.7919747592572, 783.5656704733681, 843.1405984994174, 742.841551727781, 755.714687358776, 691.7998968192437, 677.4635819555617, 680.1601416049201, 314.2125422319595, 431.1891249485583, 190.22241494533915, 377.1263840934372, 384.3892916018812, 215.67020324998634, 200.50211703429926, 624.6119308203806, 178.81648172974667, 189.03298159762724, 1640.8611735101895, 324.71121097797663, 636.9667104356834, 302.08878759675497, 327.63958792331994, 343.5357064604233, 486.6917454801954, 195.78574636342842, 456.7693391616781, 1288.3896807747822, 180.53990479759702, 414.8312436214306, 1160.960929830188, 158.4929830079886, 217.13933070203643, 260.37083670443116, 465.93949567791043, 425.8288999042967, 1930.4001330011006, 898.8081156874201, 906.8652519431982, 1177.359885504322, 1203.317666170944, 816.4001037436158, 1009.3583146924393, 802.4812963467623, 788.8608410130824, 527.9176957729078, 520.1827824984434, 1126.0753638944873, 763.6331482335331, 913.014374174768, 909.8375426171552, 579.8280797881011, 803.9963714069505, 908.9840720389421, 739.769385477415, 878.7156590449564, 539.9033321953785, 560.5532456301204, 700.9131266028455, 857.8842601959428, 670.6599624550093, 561.7935283928038, 546.6792302636553, 556.8045240321777, 333.8848388859445, 262.9040096297787, 493.0320149980625, 273.4679242879672, 220.84394074109423, 164.44412111802518, 532.554710708455, 242.50284461851678, 240.58280486188013, 195.46871816647857, 423.5122989148778, 201.61517279647344, 195.3989769620923, 221.19705162937723, 413.95122585715694, 156.87116771119884, 864.3718105181903, 1632.6201332135224, 809.1311430995431, 407.2826477372913, 309.57658748846046, 299.690842104999, 164.56085216527708, 231.09151724364173, 154.28512048008918, 184.79560668663044, 180.64539987393312, 309.75804590473837, 153.18487972764532, 157.41503360539718, 189.71142344501916, 2092.7053223036955, 3655.9381456493597, 1082.9242847352943, 1182.6562597104883, 637.6000184729614, 562.7385015665416, 2243.212180657252, 684.0806472602114, 422.2270392956109, 566.7664440647383, 360.10655545389005, 349.8897440126742, 313.1553643618691, 474.0580521326841, 1158.7668286872365, 637.6194304877898, 757.9573916914209, 355.50416182318855, 781.9409455981998, 561.9730659584187, 484.5774329251209, 494.60925642556737, 652.8452628340883, 554.6040711100056, 495.0113278052176, 677.0199060020911, 506.25436949927075, 449.3470159504243, 463.9525280036827, 457.7443469500548, 467.6075679030047, 1319.540160062495, 359.9448432989881, 323.41293333795437, 209.14190607279988, 1069.6434743044522, 216.0993622646602, 308.3771928416541, 1401.821853371592, 774.6093095840619, 161.33873917491545, 270.1156680733659, 245.18092399013017, 188.51348061929977, 300.63088903257756, 356.31534089880523, 314.0572488798508, 246.06622889037445, 149.86313409324612, 1553.0336367905275, 143.48032535513815, 340.0995894339031, 281.207601402663, 535.8140932539826, 1592.5020921636874, 183.9419499679473, 606.96174795128, 172.11805863417516, 205.92622026230373, 137.57841618124962, 1007.5137023148303, 1673.6655561568225, 509.6620634976609, 383.76874535121163, 574.6662408099883, 1235.320358303979, 651.1355498940832, 1134.9185979678116, 1327.7203744240564, 550.1165974329439, 844.7602014422763, 525.7968087120369, 617.2696305600927, 1133.2409705054106, 620.1834577436009, 730.6931408693414, 686.0266128287802, 641.6628476773586, 432.4062848646773, 480.0731494649284, 601.3827179296302, 426.49152644330854, 480.6783241053547, 1119.4548941210662, 632.6399850481345, 482.9336617483524, 315.6713029362985, 285.9741754828646, 194.87694163672847, 182.61733612288083, 167.39253238596552, 208.90080490093888, 304.6196587536297, 228.33554825705926, 199.1346857354925, 241.97658195497613, 356.7500117254278, 207.56549263240794, 232.51860254995665, 167.20036616092207, 184.3112049751876, 278.03692011833, 486.9196301009494, 333.89920909147696, 173.2197986016936, 296.1081118678609, 163.1258796751827, 146.69162582494968, 182.87191958318223, 173.5591689056778, 171.23652934844677, 140.06322338672612, 346.5724369086918, 217.94251989965096, 557.5541148757846, 635.0289970726506, 364.63497949423135, 628.410600914144, 354.63575573735665, 412.6426952199182, 535.5885976297221, 334.862960110361, 258.4111711100845, 652.2004448267817, 560.828756248267, 365.2161754877026, 283.8377976536519, 558.2987071174339, 432.3205986110512, 340.58356108341326, 381.9501883751467, 372.1871868487142, 285.9862479893845], \"Term\": [\"\\u57fa\\u91d1\", \"\\u7b56\\u7565\", \"\\u7ba1\\u7406\", \"\\u6251\\u514b\", \"\\u79c1\\u52df\", \"\\u516c\\u53f8\", \"\\u7ecf\\u6d4e\", \"\\u56e0\\u5b50\", \"\\u7ec4\\u5408\", \"\\u80a1\\u7968\", \"\\u5229\\u7387\", \"\\u6536\\u76ca\", \"\\u81ea\\u5df1\", \"\\u6a21\\u578b\", \"\\u8fd9\\u4e2a\", \"\\u5b8f\\u89c2\", \"\\u7f8e\\u56fd\", \"\\u4e2d\\u56fd\", \"\\u62a5\\u540d\", \"\\u5546\\u54c1\", \"\\u673a\\u6784\", \"\\u4fe1\\u6258\", \"\\u4ea7\\u4e1a\", \"\\u4ea7\\u54c1\", \"\\u6ce2\\u52a8\", \"\\u4ed6\\u4eec\", \"\\u4e1a\\u52a1\", \"\\u6307\\u6570\", \"\\u8d38\\u6613\", \"\\u65f6\\u5019\", \"\\u8d27\\u5e01\\u653f\\u7b56\", \"\\u98ce\\u8d77\", \"\\u589e\\u901f\", \"\\u6cb9\\u4ef7\", \"CPI\", \"\\u767e\\u5206\\u70b9\", \"\\u5229\\u5dee\", \"\\u91cd\\u4f30\", \"\\u534e\\u6cf0\", \"\\u4e0a\\u884c\", \"\\u592e\\u884c\", \"\\u5173\\u7a0e\", \"\\u56de\\u843d\", \"\\u540c\\u6bd4\", \"\\u7f8e\\u8054\\u50a8\", \"\\u8d2c\\u503c\", \"\\u4e0b\\u884c\", \"\\u5347\\u503c\", \"\\u8d38\\u6613\\u6218\", \"\\u73af\\u6bd4\", \"\\u5229\\u7387\", \"\\u5168\\u5e74\", \"\\u4e0b\\u8c03\", \"\\u6536\\u7f29\", \"\\u964d\\u606f\", \"\\u6709\\u671b\", \"\\u901a\\u80c0\", \"\\u5bbd\\u677e\", \"\\u4fe1\\u7528\", \"\\u8d22\\u653f\", \"\\u6469\\u64e6\", \"\\u8d38\\u6613\", \"\\u5236\\u9020\\u4e1a\", \"\\u7ecf\\u6d4e\", \"\\u5730\\u4ea7\", \"\\u8d37\\u6b3e\", \"\\u7f8e\\u56fd\", \"\\u4f9b\\u7ed9\", \"\\u653f\\u7b56\", \"\\u8d27\\u5e01\", \"\\u4fe1\\u8d37\", \"\\u7f8e\\u5143\", \"\\u7cfb\\u5217\", \"\\u589e\\u957f\", \"\\u9884\\u671f\", \"\\u4e0b\\u964d\", \"\\u4e2d\\u56fd\", \"\\u5468\\u671f\", \"\\u5f71\\u54cd\", \"\\u56fd\\u503a\", \"\\u4eba\\u6c11\\u5e01\", \"\\u4f01\\u4e1a\", \"\\u65e5\\u672c\", \"\\u6765\\u770b\", \"\\u5168\\u7403\", \"\\u8ba4\\u4e3a\", \"\\u51fa\\u73b0\", \"\\u4ef7\\u683c\", \"\\u98ce\\u9669\", \"\\u4e3b\\u8981\", \"\\u7814\\u7a76\", \"\\u94f6\\u884c\", \"\\u9700\\u6c42\", \"\\u8d44\\u4ea7\", \"\\u87ba\\u4e1d\\u9489\", \"\\u89c9\\u5f97\", \"\\u5df4\\u83f2\\u7279\", \"\\u4e8b\\u60c5\", \"\\u4e00\\u4e0b\", \"\\u6709\\u4eba\", \"\\u806a\\u660e\", \"\\u77e5\\u9053\", \"\\u544a\\u8bc9\", \"\\u4f60\\u4eec\", \"\\u81ea\\u5df1\", \"\\u8fd9\\u4e48\", \"\\u5176\\u5b9e\", \"\\u4eba\\u7c7b\", \"\\u591a\\u5c11\", \"\\u4e0d\\u8981\", \"\\u4eca\\u5929\", \"\\u53d8\\u6210\", \"\\u53ea\\u662f\", \"\\u4ed6\\u4eec\", \"\\u66fe\\u7ecf\", \"\\u4e3a\\u4ec0\\u4e48\", \"\\u65f6\\u5019\", \"\\u613f\\u610f\", \"\\u81ea\\u7531\", \"\\u4e1c\\u897f\", \"\\u8fd9\\u91cc\", \"\\u751f\\u6d3b\", \"\\u8fd9\\u4e2a\", \"\\u5f88\\u591a\", \"\\u73b0\\u5728\", \"\\u6240\\u4ee5\", \"\\u56e0\\u4e3a\", \"\\u8fd9\\u6837\", \"\\u4e0d\\u662f\", \"\\u5927\\u5bb6\", \"\\u975e\\u5e38\", \"\\u6bd4\\u5982\", \"\\u4e00\\u6837\", \"\\u4f46\\u662f\", \"\\u90a3\\u4e48\", \"\\u4ec0\\u4e48\", \"\\u8fd8\\u662f\", \"\\u770b\\u5230\", \"\\u4e00\\u4e9b\", \"\\u8fd9\\u4e9b\", \"\\u8fd9\\u79cd\", \"\\u5f00\\u59cb\", \"\\u8fd8\\u6709\", \"\\u4e16\\u754c\", \"\\u65f6\\u95f4\", \"\\u516c\\u53f8\", \"\\u4ef7\\u503c\", \"\\u4e00\\u5b9a\", \"\\u6bd4\\u8f83\", \"\\u672a\\u6765\", \"\\u79fb\\u6c11\", \"\\u5f8b\\u5e08\", \"\\u767b\\u8bb0\", \"\\u53d8\\u66f4\", \"\\u52df\\u96c6\", \"\\u4e8b\\u9879\", \"\\u5907\\u6848\", \"\\u534f\\u4f1a\", \"\\u5408\\u89c4\", \"\\u8463\\u4e8b\\u4f1a\", \"\\u6cd5\\u5f8b\", \"\\u6258\\u7ba1\", \"\\u6cbb\\u7406\", \"\\u5e76\\u8d2d\", \"\\u89c4\\u5b9a\", \"\\u7ba1\\u7406\\u673a\\u6784\", \"\\u4fe1\\u6258\", \"\\u79c1\\u52df\", \"\\u4e1a\\u52a1\", \"\\u80a1\\u4e1c\", \"\\u80a1\\u6743\", \"\\u5e94\\u5f53\", \"\\u4e2d\\u56fd\\u8bc1\\u76d1\\u4f1a\", \"\\u76d1\\u7763\", \"\\u884c\\u653f\", \"\\u5408\\u540c\", \"\\u4e07\\u5143\", \"\\u4e3b\\u4f53\", \"\\u4efd\\u989d\", \"\\u8d44\\u7ba1\", \"\\u4e0d\\u5f97\", \"\\u7ba1\\u7406\", \"\\u57fa\\u91d1\", \"\\u4ea7\\u54c1\", \"\\u673a\\u6784\", \"\\u76d1\\u7ba1\", \"\\u9999\\u6e2f\", \"\\u516c\\u53f8\", \"\\u5ba2\\u6237\", \"\\u72ec\\u7acb\", \"\\u8981\\u6c42\", \"FOF\", \"\\u5bb6\\u5ead\", \"\\u7ecf\\u8425\", \"\\u8d22\\u5bcc\", \"\\u8d44\\u4ea7\", \"\\u53d1\\u5c55\", \"\\u884c\\u4e1a\", \"\\u4fdd\\u9669\", \"\\u4f01\\u4e1a\", \"\\u5176\\u4ed6\", \"\\u63d0\\u4f9b\", \"\\u76f8\\u5173\", \"\\u6295\\u8d44\\u8005\", \"\\u8d44\\u91d1\", \"\\u4fe1\\u606f\", \"\\u4e2d\\u56fd\", \"\\u901a\\u8fc7\", \"\\u671f\\u8d27\", \"\\u60c5\\u51b5\", \"\\u4e3b\\u8981\", \"\\u98ce\\u9669\", \"\\u56e0\\u5b50\", \"\\u52a8\\u91cf\", \"\\u6743\\u91cd\", \"\\u4ee3\\u7801\", \"\\u6a21\\u578b\", \"\\u8bad\\u7ec3\", \"\\u7b97\\u6cd5\", \"\\u7ec4\\u5408\", \"\\u91cf\\u5316\", \"\\u52a0\\u6743\", \"\\u6837\\u672c\", \"\\u76f8\\u5173\\u6027\", \"\\u524d\\u6cbf\", \"\\u98ce\\u683c\", \"\\u5206\\u7c7b\", \"\\u673a\\u5668\", \"\\u8d85\\u989d\", \"\\u6d4b\\u8bd5\", \"\\u6536\\u76ca\", \"\\u4e2d\\u8bc1\", \"\\u7279\\u5f81\", \"\\u6784\\u5efa\", \"\\u65b9\\u6cd5\", \"\\u80a1\\u7968\", \"\\u8ddf\\u8e2a\", \"\\u9884\\u6d4b\", \"\\u6ea2\\u4ef7\", \"ETF\", \"\\u7c7b\\u522b\", \"\\u6ce2\\u52a8\", \"\\u7b56\\u7565\", \"\\u6307\\u6807\", \"\\u56de\\u62a5\", \"\\u5b66\\u4e60\", \"\\u6570\\u636e\", \"\\u8868\\u73b0\", \"\\u6307\\u6570\", \"\\u98ce\\u9669\", \"\\u4f7f\\u7528\", \"\\u4ef7\\u503c\", \"\\u503a\\u5238\", \"\\u4e0d\\u540c\", \"\\u8d44\\u4ea7\", \"\\u914d\\u7f6e\", \"\\u6295\\u8d44\\u8005\", \"\\u7814\\u7a76\", \"\\u4ea4\\u6613\", \"\\u4e4b\\u95f4\", \"\\u5bf9\\u4e8e\", \"\\u57fa\\u91d1\", \"\\u5206\\u6790\", \"\\u4ef7\\u683c\", \"\\u6251\\u514b\", \"\\u62a5\\u540d\", \"\\u5609\\u5bbe\", \"PTA\", \"\\u5c0f\\u8377\\u5b98\", \"\\u7532\\u9187\", \"\\u542b\\u9910\", \"\\u53c2\\u4f1a\", \"puoke\", \"\\u53d1\\u8a00\", \"App\", \"APP\", \"id\", \"\\u6295\\u7814\", \"\\u9ed1\\u8272\", \"\\u603b\\u76d1\", \"\\u767e\\u5ea6\", \"\\u9152\\u5e97\", \"\\u8bdd\\u9898\", \"\\u8d22\\u7ecf\", \"\\u8bba\\u575b\", \"AI\", \"\\u5783\\u573e\", \"\\u73b0\\u573a\", \"\\u8463\\u4e8b\\u957f\", \"\\u7528\\u6237\", \"\\u9876\\u7ea7\", \"\\u4f18\\u60e0\", \"\\u73b0\\u8d27\", \"\\u9996\\u5e2d\", \"\\u798f\\u5229\", \"\\u4ea7\\u4e1a\", \"\\u5b8f\\u89c2\", \"\\u5927\\u5b97\", \"\\u5546\\u54c1\", \"\\u4f1a\\u8bae\", \"\\u673a\\u4f1a\", \"\\u5982\\u4f55\", \"\\u80cc\\u666f\", \"\\u6709\\u9650\\u516c\\u53f8\", \"\\u7b56\\u7565\", \"\\u5168\\u7403\", \"\\u662f\\u5426\", \"\\u4e0b\\u534a\\u5e74\", \"\\u4e2d\\u56fd\", \"\\u4ea4\\u6613\", \"\\u9700\\u6c42\", \"\\u7814\\u7a76\", \"\\u7ecf\\u6d4e\", \"\\u671f\\u8d27\"], \"Total\": [4621.0, 2531.0, 2454.0, 1121.0, 1689.0, 3468.0, 3701.0, 1320.0, 1489.0, 2069.0, 1997.0, 1905.0, 1703.0, 1113.0, 2177.0, 1018.0, 3354.0, 3676.0, 633.0, 1154.0, 1503.0, 890.0, 861.0, 1345.0, 1388.0, 1396.0, 856.0, 2180.0, 1313.0, 1277.0, 632.3855742296829, 315.68023140263324, 982.158707199618, 282.73328865274874, 243.8570407167003, 342.67833869447225, 202.62008875210702, 199.9000215895334, 360.0945220654579, 300.7378106575677, 690.380631523621, 398.9810698340962, 330.6089805769148, 516.9940047280178, 889.5233327138048, 224.87428907444783, 557.9670132368357, 216.96582289833967, 230.86000782340236, 187.59687098914273, 1997.8490906895995, 241.13395159225308, 192.62782390102808, 203.94749534587203, 636.3881485030035, 221.11732641235284, 838.9270187557792, 354.57049240075867, 717.952892464339, 213.90607187641578, 601.4222928336284, 1313.3292911418964, 452.64407826594345, 3701.3967166961197, 425.87777839400195, 672.8222710899352, 3354.687930653374, 836.1293560140184, 1487.4750720218392, 1057.238792101387, 350.35881499111997, 1070.5862881996138, 856.3884136015286, 1415.9523366486806, 1544.494129386533, 938.6977835332912, 3676.724384962919, 1097.3545370930667, 2246.729692772326, 535.720665988906, 807.0334585054866, 2355.767913718011, 1027.284367209573, 1027.431668597752, 1951.9628150056928, 1253.86844841626, 1555.1476886265643, 2019.254654565084, 2903.3731944717765, 1682.5125587647226, 2055.608498630623, 1470.7917589352683, 1244.1183411022637, 3568.098188785473, 315.0589158827477, 434.53453271730115, 192.038635596217, 383.8412687026548, 393.38059803087884, 220.93084355159695, 205.40456170750778, 641.0715199254308, 183.82306027481195, 194.4268242714527, 1703.7141314586697, 338.7297026017717, 666.1326427787843, 317.3111776498498, 348.54519921762613, 366.0971484674696, 518.9023635710563, 208.82549975722858, 493.63882475712415, 1396.9776592491085, 196.9938924519922, 453.7331501031063, 1277.633943128579, 175.61578184767808, 241.43568974316344, 289.8153020215516, 521.9469234998602, 478.69698847695173, 2177.9192460675354, 1017.7158199218374, 1047.5474899531273, 1383.9693392245524, 1446.5748007621935, 987.0674264232784, 1270.0036682985617, 987.4578430771089, 971.8811172559933, 625.9486013813683, 620.1175442940347, 1555.5679082742427, 980.9882726728212, 1236.7433898587838, 1258.6428260973726, 712.0892434827485, 1125.0721961445677, 1432.5938685190586, 1115.5819867975254, 1467.1167124235126, 690.8607913950792, 769.91314178782, 1586.5813521708071, 3468.245230898261, 1849.3117148951335, 976.0143042642261, 1003.7777005524684, 1334.5837777125773, 334.83287080580715, 263.7518883534973, 494.6637636499812, 274.4125473477435, 221.68827755986467, 165.28924742030594, 537.593188622527, 244.95151300747668, 243.19228730531873, 198.15725825890476, 430.15534706451837, 206.18409438332972, 199.8762303412783, 226.29572933333748, 423.9466378470118, 160.72720833854822, 890.6635329034284, 1689.310728172301, 856.2908746693304, 431.0739573630824, 327.6900260327217, 322.65741646092823, 177.21029809551436, 249.3006728875875, 167.3191822964934, 200.6484220593689, 196.31918211284514, 340.2351071022485, 172.30854748062825, 177.44187008202113, 214.13328092088398, 2454.2630601093397, 4621.204553461959, 1345.793452952195, 1503.834976868652, 774.6371157744795, 681.1516680373114, 3468.245230898261, 881.2147195296361, 512.050141135079, 754.9811943566503, 428.32174126316875, 415.0111485322311, 369.32981142815373, 729.0501565931455, 3568.098188785473, 1275.4222573257696, 2006.08443698022, 471.9592833459797, 2355.767913718011, 1259.247938850162, 939.3455222366489, 1010.2944252903184, 2200.287095861265, 1487.9596454112389, 1135.6486911194183, 3676.724384962919, 1584.884914453637, 1013.9142392386632, 1645.2178010206324, 1682.5125587647226, 2903.3731944717765, 1320.466417889065, 360.7835097707622, 326.0315801434427, 215.4325430038524, 1113.3932969113248, 225.30338318891253, 324.60140965616716, 1489.7694658436167, 824.2146176396692, 174.16967273346313, 297.49116486736517, 274.6448543011084, 215.16457600009096, 344.95565183749625, 414.01352508999605, 366.75728590716346, 294.59501894548447, 183.4289095202349, 1905.4001543644786, 176.1199019395507, 427.7863040775788, 355.78513447409273, 682.0484218644136, 2069.821984828967, 239.49138604367045, 799.3157702876653, 231.32734446620975, 279.6907522451687, 188.7290259778002, 1388.2887556705095, 2531.821853348759, 737.5614714794078, 547.168596517259, 849.945859146696, 2137.4441239444923, 1028.5428979977128, 2180.257794198165, 2903.3731944717765, 969.2364727482517, 1849.3117148951335, 943.9177948662561, 1240.4039043411499, 3568.098188785473, 1354.5004891643785, 2200.287095861265, 2055.608498630623, 1862.4430303953627, 851.0508488239884, 1571.4711293081873, 4621.204553461959, 979.1366968979736, 2019.254654565084, 1121.0991173289212, 633.653016526949, 483.7581450450268, 316.5031261148393, 286.7998519598687, 195.71353594754603, 183.43900850179955, 168.22675329644045, 210.27241456038868, 306.80006877433954, 230.939334503917, 202.22224160257562, 246.09437467373033, 367.81352557432115, 216.97700611924162, 243.95648123777517, 175.5752909978422, 196.43625398075434, 296.4330535378161, 528.860139898861, 365.09594975559, 195.17479928529727, 335.49984094610585, 185.3292983178941, 167.81344692425904, 209.30664998407022, 207.84151606476507, 205.31714824333878, 168.5270613388112, 424.7999839814418, 278.21565854263304, 861.4405607088561, 1018.5322581729602, 547.2799555054482, 1154.9825168431912, 550.9248881256574, 805.1540513222818, 1257.1702464246728, 571.9277596109267, 384.5869526708473, 2531.821853348759, 1951.9628150056928, 865.6109723202358, 539.8482967122596, 3676.724384962919, 1862.4430303953627, 1244.1183411022637, 2055.608498630623, 3701.3967166961197, 1013.9142392386632], \"loglift\": [30.0, 29.0, 28.0, 27.0, 26.0, 25.0, 24.0, 23.0, 22.0, 21.0, 20.0, 19.0, 18.0, 17.0, 16.0, 15.0, 14.0, 13.0, 12.0, 11.0, 10.0, 9.0, 8.0, 7.0, 6.0, 5.0, 4.0, 3.0, 2.0, 1.0, 1.2547, 1.2534, 1.2534, 1.2531, 1.2524, 1.2522, 1.2519, 1.2519, 1.2503, 1.2497, 1.2492, 1.2446, 1.2439, 1.2356, 1.2353, 1.2347, 1.2335, 1.2332, 1.2329, 1.2321, 1.2316, 1.2313, 1.231, 1.227, 1.2232, 1.2212, 1.221, 1.2171, 1.2113, 1.2081, 1.1943, 1.1606, 1.1925, 1.0636, 1.1908, 1.163, 1.0406, 1.1353, 1.0848, 1.1041, 1.1962, 1.0629, 1.0829, 0.9961, 0.9652, 1.03, 0.642, 0.9348, 0.701, 1.1058, 0.9496, 0.4916, 0.8181, 0.8138, 0.4872, 0.6821, 0.5252, 0.3094, 0.0196, 0.4385, 0.2554, 0.5018, 0.6483, -0.4014, 1.3528, 1.3478, 1.346, 1.3379, 1.3324, 1.3314, 1.3314, 1.3295, 1.3279, 1.3274, 1.3179, 1.3132, 1.3107, 1.3064, 1.2937, 1.2919, 1.2914, 1.291, 1.2779, 1.2746, 1.2683, 1.2659, 1.2598, 1.2529, 1.2495, 1.2484, 1.242, 1.2385, 1.2349, 1.2313, 1.2113, 1.1938, 1.1714, 1.1657, 1.1258, 1.1481, 1.1469, 1.1852, 1.1798, 1.0324, 1.105, 1.052, 1.031, 1.15, 1.0195, 0.9006, 0.9447, 0.8429, 1.109, 1.0382, 0.5386, -0.0414, 0.3412, 0.8032, 0.7479, 0.4814, 1.6813, 1.6809, 1.6808, 1.6807, 1.6803, 1.679, 1.6747, 1.6741, 1.6733, 1.6705, 1.6686, 1.6617, 1.6615, 1.6613, 1.6603, 1.6599, 1.6542, 1.65, 1.6275, 1.6274, 1.6273, 1.6103, 1.6101, 1.6083, 1.603, 1.6018, 1.6009, 1.5903, 1.5665, 1.5644, 1.563, 1.5248, 1.4498, 1.4668, 1.4439, 1.4895, 1.4932, 1.2484, 1.4309, 1.4913, 1.3974, 1.5107, 1.5134, 1.5191, 1.2537, 0.5595, 0.9908, 0.7108, 1.4008, 0.5813, 0.8773, 1.0222, 0.9699, 0.4691, 0.6972, 0.8538, -0.0079, 0.5429, 0.8704, 0.4183, 0.3824, -0.1419, 1.7481, 1.7465, 1.7407, 1.7192, 1.7087, 1.7071, 1.6975, 1.688, 1.6867, 1.6723, 1.6523, 1.6353, 1.6166, 1.6113, 1.5987, 1.5937, 1.5688, 1.5467, 1.5443, 1.5438, 1.5194, 1.5136, 1.5075, 1.4866, 1.4849, 1.4735, 1.4531, 1.4426, 1.4327, 1.4282, 1.3349, 1.3792, 1.3941, 1.3574, 1.2005, 1.2916, 1.0959, 0.9664, 1.1824, 0.9653, 1.1637, 1.0509, 0.6019, 0.9676, 0.6465, 0.6514, 0.6832, 1.0717, 0.563, -0.2904, 0.9177, 0.3135, 2.3231, 2.3229, 2.3228, 2.3219, 2.3216, 2.3202, 2.32, 2.3196, 2.318, 2.3174, 2.3132, 2.3091, 2.3077, 2.294, 2.2802, 2.2765, 2.2757, 2.2608, 2.2605, 2.2419, 2.2352, 2.2052, 2.1996, 2.1969, 2.19, 2.1895, 2.1443, 2.143, 2.1395, 2.121, 2.0804, 1.8895, 1.8521, 1.9185, 1.7159, 1.884, 1.6561, 1.4713, 1.7892, 1.9269, 0.9682, 1.0774, 1.4616, 1.6816, 0.4396, 0.8641, 1.029, 0.6415, 0.0275, 1.0589], \"logprob\": [30.0, 29.0, 28.0, 27.0, 26.0, 25.0, 24.0, 23.0, 22.0, 21.0, 20.0, 19.0, 18.0, 17.0, 16.0, 15.0, 14.0, 13.0, 12.0, 11.0, 10.0, 9.0, 8.0, 7.0, 6.0, 5.0, 4.0, 3.0, 2.0, 1.0, -5.3976, -6.0936, -4.9586, -6.2041, -6.3528, -6.0128, -6.5385, -6.552, -5.965, -6.1458, -5.3153, -5.8682, -6.0569, -5.6181, -5.0758, -6.4515, -5.544, -6.4888, -6.427, -6.6353, -4.2703, -6.3851, -6.61, -6.5569, -5.4227, -6.4818, -5.1486, -6.0137, -5.314, -6.5281, -5.5081, -4.7608, -5.7941, -3.8216, -5.8567, -5.4272, -3.9431, -5.2376, -4.7121, -5.0342, -6.0465, -5.0629, -5.2661, -4.8501, -4.7941, -5.2272, -4.25, -5.1662, -4.6835, -5.7123, -5.4588, -4.8455, -5.349, -5.3531, -5.0379, -5.2856, -5.2272, -5.1818, -5.1085, -5.2352, -5.218, -5.3063, -5.3273, -5.3233, -5.9961, -5.6797, -6.498, -5.8136, -5.7946, -6.3725, -6.4454, -5.3091, -6.5598, -6.5043, -4.3432, -5.9633, -5.2895, -6.0355, -5.9543, -5.9069, -5.5586, -6.4692, -5.622, -4.5851, -6.5503, -5.7183, -4.6892, -6.6805, -6.3657, -6.1841, -5.6022, -5.6922, -4.1807, -4.9451, -4.9362, -4.6752, -4.6534, -5.0413, -4.8291, -5.0585, -5.0756, -5.4773, -5.492, -4.7197, -5.1081, -4.9295, -4.9329, -5.3835, -5.0566, -4.9339, -5.1399, -4.9677, -5.4548, -5.4173, -5.1938, -4.9917, -5.2379, -5.4151, -5.4423, -5.424, -5.6068, -5.8458, -5.217, -5.8064, -6.0201, -6.315, -5.1399, -5.9266, -5.9345, -6.1422, -5.369, -6.1112, -6.1425, -6.0185, -5.3918, -6.3622, -4.6556, -4.0196, -4.7216, -5.4081, -5.6824, -5.7148, -6.3143, -5.9748, -6.3788, -6.1983, -6.2211, -5.6818, -6.3859, -6.3587, -6.1721, -3.7714, -3.2135, -4.4302, -4.3421, -4.9599, -5.0848, -3.7019, -4.8895, -5.372, -5.0776, -5.5312, -5.56, -5.6709, -5.2563, -4.3625, -4.9598, -4.787, -5.544, -4.7558, -5.0861, -5.2343, -5.2138, -4.9362, -5.0993, -5.213, -4.8999, -5.1905, -5.3098, -5.2778, -5.2913, -5.27, -4.1679, -5.467, -5.574, -6.0099, -4.3778, -5.9772, -5.6216, -4.1074, -4.7006, -6.2694, -5.7541, -5.8509, -6.1138, -5.647, -5.4771, -5.6033, -5.8473, -6.3432, -4.005, -6.3867, -5.5237, -5.7138, -5.0691, -3.9799, -6.1383, -4.9445, -6.2047, -6.0254, -6.4287, -4.4377, -3.9301, -5.1192, -5.4029, -4.9991, -4.2338, -4.8742, -4.3186, -4.1617, -5.0428, -4.6139, -5.088, -4.9276, -4.3201, -4.9229, -4.7589, -4.822, -4.8889, -5.2836, -5.179, -4.9537, -5.2973, -5.1777, -3.7566, -4.3273, -4.5973, -5.0225, -5.1213, -5.5048, -5.5698, -5.6569, -5.4353, -5.0581, -5.3464, -5.4832, -5.2884, -4.9002, -5.4417, -5.3282, -5.658, -5.5606, -5.1494, -4.5891, -4.9664, -5.6226, -5.0865, -5.6827, -5.7889, -5.5684, -5.6207, -5.6341, -5.8351, -4.9291, -5.393, -4.4536, -4.3235, -4.8783, -4.334, -4.9061, -4.7546, -4.4938, -4.9635, -5.2226, -4.2968, -4.4478, -4.8767, -5.1288, -4.4523, -4.708, -4.9465, -4.8319, -4.8578, -5.1212]}, \"token.table\": {\"Topic\": [4, 5, 1, 5, 1, 2, 5, 1, 1, 2, 4, 3, 4, 5, 1, 2, 5, 1, 5, 1, 2, 4, 5, 1, 2, 3, 4, 5, 1, 2, 3, 4, 5, 1, 2, 3, 4, 5, 2, 3, 1, 3, 1, 2, 3, 4, 5, 1, 3, 4, 1, 3, 4, 1, 2, 3, 4, 1, 2, 3, 4, 5, 1, 3, 4, 1, 2, 3, 4, 5, 1, 2, 5, 1, 2, 3, 4, 5, 1, 2, 3, 5, 2, 4, 5, 1, 2, 3, 4, 5, 1, 3, 2, 3, 4, 1, 2, 5, 1, 2, 3, 1, 2, 3, 4, 5, 1, 2, 3, 4, 5, 1, 2, 3, 4, 5, 3, 1, 2, 3, 4, 5, 1, 2, 3, 5, 1, 2, 3, 4, 5, 1, 2, 3, 5, 2, 3, 4, 5, 1, 2, 3, 4, 5, 1, 2, 3, 4, 5, 1, 2, 3, 4, 5, 2, 3, 4, 5, 1, 2, 3, 4, 5, 1, 2, 3, 4, 5, 1, 2, 3, 1, 2, 3, 4, 5, 1, 2, 3, 5, 1, 3, 5, 1, 2, 3, 4, 5, 2, 4, 5, 1, 2, 3, 4, 5, 1, 5, 2, 3, 5, 1, 2, 3, 4, 5, 1, 3, 1, 2, 3, 4, 1, 2, 3, 1, 2, 3, 4, 5, 1, 2, 3, 5, 1, 2, 3, 4, 5, 1, 2, 3, 4, 5, 1, 3, 1, 2, 3, 4, 5, 1, 2, 3, 5, 1, 2, 3, 4, 5, 1, 2, 3, 4, 5, 2, 3, 4, 1, 1, 2, 3, 4, 5, 1, 3, 5, 1, 2, 3, 4, 1, 4, 4, 3, 1, 3, 1, 4, 1, 3, 5, 1, 2, 3, 4, 5, 1, 3, 5, 1, 2, 3, 4, 5, 3, 1, 2, 3, 4, 5, 1, 2, 3, 3, 4, 1, 3, 5, 1, 2, 4, 5, 1, 2, 4, 5, 1, 2, 3, 4, 5, 5, 1, 2, 3, 4, 1, 2, 1, 2, 3, 4, 5, 4, 1, 2, 3, 4, 1, 2, 3, 2, 3, 4, 5, 1, 2, 3, 4, 5, 1, 2, 3, 1, 2, 3, 4, 5, 3, 4, 1, 2, 3, 4, 5, 1, 2, 4, 5, 1, 2, 3, 4, 5, 1, 2, 3, 1, 2, 3, 4, 5, 2, 3, 4, 5, 1, 2, 4, 5, 1, 2, 3, 4, 5, 1, 2, 3, 4, 5, 1, 2, 3, 4, 1, 2, 3, 4, 5, 5, 2, 3, 2, 3, 1, 2, 3, 4, 1, 2, 3, 4, 5, 1, 2, 3, 4, 5, 1, 2, 3, 4, 5, 3, 3, 4, 5, 1, 2, 3, 4, 5, 1, 2, 3, 5, 1, 2, 3, 4, 5, 1, 5, 2, 3, 4, 1, 2, 3, 4, 5, 1, 2, 3, 4, 5, 5, 1, 2, 4, 5, 1, 2, 3, 4, 1, 2, 3, 4, 5, 1, 5, 1, 2, 3, 4, 5, 1, 2, 1, 2, 3, 4, 5, 1, 2, 3, 4, 5, 1, 2, 3, 4, 5, 1, 2, 3, 4, 5, 1, 2, 3, 4, 5, 1, 2, 3, 4, 5, 1, 2, 3, 4, 5, 1, 2, 3, 5, 1, 2, 5, 1, 3, 1, 3, 5, 1, 2, 3, 4, 5, 1, 2, 3, 4, 5, 1, 2, 3, 4, 5, 3, 4, 5, 1, 2, 3, 4, 5, 1, 2, 4, 1, 2, 3, 4, 5, 1, 2, 3, 4, 5, 1, 4, 1, 2, 4, 5, 1, 2, 3, 4, 5, 1, 2, 3, 4, 5, 1, 1, 3, 2, 3, 1, 2, 4, 5, 2, 3, 4, 1, 2, 3, 4, 1, 2, 3, 4, 1, 2, 3, 4, 1, 3, 1, 2, 3, 4, 5, 3, 4, 5, 1, 2, 5, 2, 3, 5, 2, 3, 4, 5, 5, 3, 4, 1, 3, 3, 4, 5, 3, 4, 1, 2, 3, 1, 2, 3, 4, 5, 1, 2, 3, 4, 1, 2, 3, 4, 5, 1, 2, 4, 5, 1, 2, 3, 4, 5, 1, 2, 3, 4, 5, 2, 3, 4, 3, 1, 2, 3, 4, 5, 4, 5, 1, 2, 3, 4, 5, 3, 4, 1, 2, 3, 4, 1, 2, 3, 4, 5, 2, 3, 4, 1, 2, 3, 4, 5, 1, 2, 3, 1, 2, 3, 4, 5, 1, 2, 3, 4, 5, 1, 5, 2, 4, 2, 3, 2, 3, 4, 5, 1, 2, 3, 4, 5, 1, 2, 3, 4, 5, 1, 2, 3, 4, 5, 1, 2, 3, 5, 2, 3, 3, 5, 2, 1, 2, 3, 4, 5, 1, 3, 4, 5, 1, 2, 3, 4, 1, 2, 3, 4, 5, 2, 3, 4, 5, 1, 2, 5, 1, 2, 3, 4, 5, 2, 4, 5, 1, 2, 3, 5, 1, 3, 4, 5, 1, 2, 3, 5, 1, 3, 1, 3, 5, 1, 2, 3, 4, 5, 1, 1, 2, 1, 3, 1, 3, 5, 1, 2, 3, 1, 2, 3, 4, 5, 1, 2, 3, 4, 1, 2, 3, 4, 5, 1, 2, 3, 4, 1, 2, 3, 4, 1, 2, 3, 4, 5, 1, 2, 3, 4, 5, 1, 2, 3, 4, 5, 1, 2, 5, 1, 2, 3, 4, 5, 1, 2, 3, 4, 5, 1, 2, 3, 4, 5, 2, 3, 4, 5, 1, 2, 5, 1, 2, 3, 4, 5, 1, 2, 3, 4, 5, 1, 2, 3, 4, 5, 3, 4, 5, 1, 1, 2, 3, 4, 5, 1, 2, 3, 4, 1, 2, 5, 1, 2, 3, 4, 5, 1, 2, 3, 4, 5, 1, 2, 3, 4, 5, 1, 2, 3, 4, 5, 1, 2, 4, 5, 2, 4, 5, 1, 1, 2, 3, 4, 5, 1, 2, 3, 5, 1, 2, 3, 5, 1, 2, 5], \"Freq\": [0.10759585805595319, 0.8863849258895192, 0.009890108942272385, 0.9840658397561024, 0.004330141515944478, 0.004330141515944478, 0.987272265635341, 0.9964854788929552, 0.007150754838854517, 0.25385179677933534, 0.7365277484020153, 0.8404896724091561, 0.1587591603439517, 0.9984103597300434, 0.012190445246777268, 0.004063481748925756, 0.983362583240033, 0.004755735563747985, 0.9939487328233287, 0.010168269660533729, 0.9761538874112381, 0.0025420674151334323, 0.010168269660533729, 0.024887291763098642, 0.7146208063404039, 0.0959938396576662, 0.15199024612463813, 0.012443645881549321, 0.22438195735778113, 0.575811233036863, 0.11680156684377647, 0.0768431360814319, 0.007172026034266977, 0.025801559957822198, 0.8385506986292215, 0.009675584984183324, 0.1161070198101999, 0.011288182481547213, 0.07640618628585123, 0.9219679811826049, 0.9942215092483118, 0.0033251555493254577, 0.46679780511434416, 0.0018523722425172386, 0.0037047444850344773, 0.0018523722425172386, 0.5260737168748958, 0.9767602511811363, 0.0017922206443690574, 0.019714427088059632, 0.9759753092398228, 0.010382716055742796, 0.010382716055742796, 0.797913890007003, 0.06604894683636073, 0.015979583912022758, 0.12037953213723811, 0.11286646189199322, 0.2055781984461305, 0.13947069933796305, 0.4974186213382844, 0.04434039574328305, 0.10740973986429429, 0.8872978510528658, 0.004669988689751926, 0.11102330136486872, 0.7944858941642025, 0.01732278461012136, 0.0724407356423257, 0.00393699650230031, 0.0027315154029091196, 0.9396412986007372, 0.06009333886400063, 0.12598823780921015, 0.7286536227934731, 0.05195391249864336, 0.016885021562059094, 0.07663202093549897, 0.04437744360486648, 0.00467130985314384, 0.9447724177983416, 0.00467130985314384, 0.8971230924882827, 0.003450473432647241, 0.09661325611412275, 0.5412426365540777, 0.12211956975516627, 0.18413128891814604, 0.0008159436731971021, 0.15176552321466097, 0.06771615492420274, 0.9310971302077876, 0.17601645048973552, 0.0056779500157979204, 0.8119468522591026, 0.019835447328357736, 0.9146345156964957, 0.06611815776119245, 0.07347860193770928, 0.014695720387541855, 0.911134664027595, 0.441601458562366, 0.10460545990171792, 0.2722119354260614, 0.11589809477747155, 0.06597276164256073, 0.15275232987504625, 0.21972835143564345, 0.11867681013368979, 0.5076077423539999, 0.0011750179221157405, 0.002605243577325336, 0.9821768286516517, 0.002605243577325336, 0.007815730731976007, 0.002605243577325336, 0.9922000526929161, 0.04349126318392954, 0.19436836138990732, 0.18577749458814347, 0.3447085304207749, 0.2319534036476242, 0.13930154380153084, 0.0011608461983460903, 0.21243485429733452, 0.6477521786771184, 0.0185764018580703, 0.09065284106738307, 0.8047297284916054, 0.031208355121558107, 0.054986149499888094, 0.7360289635326956, 0.04336870997246523, 0.10656311593234313, 0.1127586459284096, 0.9517471216638149, 0.006302961070621291, 0.012605922141242582, 0.02836332481779581, 0.038811608288022326, 0.7382291326450914, 0.0032343006906685274, 0.018597228971344033, 0.20133521799411583, 0.03276146187311034, 0.9385195254238079, 0.013490013712457198, 0.003854289632130628, 0.011562868896391885, 0.0014316621219805498, 0.921990406555474, 0.017179945463766597, 0.02934907350060127, 0.02934907350060127, 0.009283648478142115, 0.009283648478142115, 0.9701412659658509, 0.004641824239071057, 0.13951136410479617, 0.36283769501673735, 0.02379263573880245, 0.45692675452927434, 0.017303735082765417, 0.3882620739427546, 0.2614826212267531, 0.030209166467484734, 0.2382067060796747, 0.0827037836077041, 0.029017713126286575, 0.08124959675360241, 0.8879420216643692, 0.465665566464334, 0.12819599003849486, 0.3319512059937185, 0.002122450166200246, 0.07216330565080836, 0.09741027562050639, 0.00487051378102532, 0.06331667915332916, 0.8328578565553296, 0.30675688037069354, 0.049008495680525004, 0.6443709617254213, 0.17164149413201227, 0.7238513947290105, 0.029571193745590127, 0.0674994639844992, 0.007071372417423726, 0.9720880887100438, 0.02057329288275225, 0.0051433232206880624, 0.13825315469200775, 0.10523747595958799, 0.15682447397899388, 0.5674569782134646, 0.03198393877203164, 0.8862265086977481, 0.11242279597515292, 0.2373086068060156, 0.7543023573476924, 0.008475307385929129, 0.17434969242541878, 0.060758226148252, 0.43587423106354695, 0.2245412705478878, 0.10566648025782956, 0.028068961034593817, 0.9700632933555623, 0.9568872933179575, 0.0027856980882618853, 0.011142792353047541, 0.029249829926749793, 0.9418915291409581, 0.0456674680795616, 0.0114168670198904, 0.3061707296671406, 0.06038661450182358, 0.036020085843193016, 0.557251916279986, 0.0413171572907214, 0.9745620575130568, 0.008294145170323888, 0.004147072585161944, 0.012441217755485831, 0.46363588130000344, 0.0886287375302769, 0.0906779568951388, 0.07018576324651986, 0.2874030159218806, 0.002018311720762326, 0.24738735091629654, 0.6467247413814139, 0.047286160315003066, 0.05651272818134513, 0.9875155233902013, 0.010025538308529963, 0.13817771276948207, 0.23744331102342034, 0.44629812974970645, 0.14850133498789164, 0.03017674186919723, 0.030024050340138924, 0.9562660033334247, 0.0015012025170069462, 0.010508417619048624, 0.4816262824924896, 0.324728000879449, 0.046297853590733316, 0.12410396865293792, 0.02443497828399814, 0.14808963902525354, 0.21447464962278098, 0.08068332057237952, 0.43507714637764144, 0.12153563478624256, 0.036230700426367425, 0.10144596119382879, 0.8598752901191202, 0.9969396482060292, 0.9760496971905503, 0.0005005383062515643, 0.0015016149187546928, 0.012012919350037543, 0.01051130443128285, 0.9389275601000978, 0.011046206589412915, 0.050812550311299415, 0.09759970897807603, 0.004647605189432192, 0.02323802594716096, 0.8783973808026843, 0.06889833236561192, 0.9243859592386267, 0.9978283104700101, 0.9968952911383472, 0.9771124187579238, 0.018436083372791016, 0.9941834103628014, 0.002777048632298328, 0.00816488118584903, 0.9920330640806571, 0.9927077395693494, 0.3097013539878258, 0.11290378474492889, 0.5002264907448933, 0.022737567761131512, 0.0548837842510071, 0.0032594516813343006, 0.0032594516813343006, 0.9941327628069616, 0.009577374421826419, 0.938582693338989, 0.028732123265479255, 0.009577374421826419, 0.014366061632739627, 0.9948524680762739, 0.036463906599842916, 0.925778073118234, 0.008103090355520648, 0.018231953299921458, 0.012154635533280972, 0.049838418350686794, 0.024919209175343397, 0.9220107394877057, 0.9909853748668995, 0.008223945019642319, 0.9806690123355, 0.01934258406973373, 0.9976067876435604, 0.016320041650460273, 0.9737624851441296, 0.005440013883486757, 0.005440013883486757, 0.7253808801926803, 0.06287849338353636, 0.0829267086652436, 0.12849083430548736, 0.20086884140385478, 0.06839930375389883, 0.005194883829410037, 0.18268674800091964, 0.5437311741449172, 0.998432801488115, 0.0018275902644359044, 0.27048335913651383, 0.025586263702102662, 0.7017946615433873, 0.9890838398563248, 0.00907416366840665, 0.031107966194551234, 0.831619629601003, 0.027651525506267764, 0.10023677996022064, 0.009678033927193717, 0.999646777924265, 0.8605230846359521, 0.035466244269160715, 0.001866644435218985, 0.10266544393704417, 0.936888516476819, 0.002348091519992028, 0.05870228799980069, 0.0804769383015512, 0.008941882033505688, 0.026825646100517065, 0.8822656939725613, 0.0023803317669111594, 0.049986967105134346, 0.7911357218024726, 0.13005267199214607, 0.026400043233014675, 0.9978020790491458, 0.0010181653867848426, 0.002036330773569685, 0.7712124001183395, 0.11935430001831444, 0.08686733078256022, 0.021893392311051762, 0.0007062384616468311, 0.9914560141018599, 0.007440570462302889, 0.014345341755455019, 0.9410544191578492, 0.0057381367021820074, 0.025821615159819032, 0.014345341755455019, 0.23022951732926322, 0.049334896570556404, 0.05298933335356058, 0.6669347128982624, 0.0010127014606353293, 0.8121865714295341, 0.005063507303176646, 0.01417782044889461, 0.166083039544194, 0.9936547589494896, 0.001448476324999256, 0.005793905299997024, 0.015113307091092092, 0.26726690434773387, 0.08749809368527, 0.20363192712208292, 0.4263543474118611, 0.17765837479530355, 0.001176545528445719, 0.6765136788562884, 0.14589164552726916, 0.3475589478481556, 0.0068726345619691785, 0.02258151356075587, 0.6234461352643469, 0.13163647568428843, 0.04539188816699601, 0.7762012876556318, 0.012482769245923904, 0.03404391612524701, 0.024095738235869024, 0.1132499697085844, 0.8433508382554158, 0.014457442941521414, 0.007228721470760707, 0.9617269550298043, 0.022562509208910366, 0.011281254604455183, 0.0056406273022275915, 0.20553988805521048, 0.2539022146564365, 0.21508508409492613, 0.305446273270901, 0.019726738482079023, 0.9972111144604753, 0.9893842424474236, 0.005207285486565388, 0.01767598536562717, 0.9765981914509011, 0.006198524806703729, 0.027893361630166785, 0.9297787210055595, 0.03719114884022238, 0.2787780934785875, 0.5991343378182846, 0.026582752189889765, 0.02930918831192974, 0.0667976849899794, 0.574167869036448, 0.0823419036990255, 0.07789098998556465, 0.16779944699747357, 0.09792010169613842, 0.0068781479691822165, 0.8833507177564018, 0.02358222160862474, 0.03930370268104124, 0.04716444321724948, 0.9971492588804158, 0.03689182576472744, 0.008198183503272765, 0.955088378131277, 0.24312890351165345, 0.282029528073518, 0.282029528073518, 0.11427058465047712, 0.07840907138250824, 0.017082747167917273, 0.8996913508436429, 0.07402523772764151, 0.005694249055972424, 0.06286266431938926, 0.8504523667117374, 0.00794815295992278, 0.01589630591984556, 0.06214010495939628, 0.0008919817922812692, 0.9981276255627402, 0.004850034640115535, 0.979706997303338, 0.014550103920346604, 0.005437537939577145, 0.013593844848942865, 0.008156306909365718, 0.0027187689697885727, 0.9706005222145205, 0.10544078563038047, 0.22724307247926823, 0.2967794526579243, 0.33222937196469016, 0.0386313223214756, 0.9989694414609935, 0.2582263443791769, 0.19584839973340773, 0.5205806409775592, 0.02568503603061085, 0.2209985286691468, 0.02711638388578488, 0.05965604454872674, 0.6914677890875145, 0.08623025083159305, 0.13732965873179634, 0.5163169339916374, 0.21823705457378487, 0.04258283991683608, 0.9394397359931188, 0.05819538187567992, 0.022042613937967564, 0.07190090736908467, 0.05353206242077837, 0.8150518915634196, 0.037787338179372965, 0.9708381054850135, 0.024516113774874077, 0.8423670578202492, 0.0006722801738389858, 0.0665557372100596, 0.0013445603476779716, 0.08874098294674612, 0.2184852435525597, 0.10011957627462051, 0.04023496990475404, 0.5777928817717585, 0.06315954578071854, 0.020526401867084886, 0.17154207274635228, 0.019060230305150253, 0.7858679571969642, 0.0029323431238692695, 0.6453909172208239, 0.2764570444807149, 0.06716738052524411, 0.001946880594934612, 0.008760962677205754, 0.006261574407149962, 0.9087109858376382, 0.003913484004468727, 0.006261574407149962, 0.0743561960849058, 0.06176802712695036, 0.4418304797550225, 0.1292086281737227, 0.25337496841871476, 0.11408176438753077, 0.06931520269339053, 0.17559851348992267, 0.1883063006503776, 0.14440667227789694, 0.42166748305145907, 0.020305198045542493, 0.9188102115607978, 0.050762995113856235, 0.01522889853415687, 0.013578909815276062, 0.9776815066998765, 0.009052606543517375, 0.9678119913629925, 0.03165740158663994, 0.04680345985477433, 0.280820759128646, 0.6708495912517655, 0.020711810907960683, 0.022684364327766462, 0.44283824274639744, 0.23078875011727618, 0.2820751390322264, 0.3184513457285033, 0.4173585872253561, 0.08691848495177973, 0.11089599804192586, 0.06668745828196894, 0.06085791895293662, 0.3837774889072942, 0.013661981805761282, 0.028565961957500864, 0.5129453168890372, 0.0027265988664043283, 0.856152044050959, 0.13905654218662075, 0.05186739316465086, 0.0365731618468692, 0.7866554629972047, 0.027928596319427387, 0.09708512053896187, 0.003067187539194928, 0.003067187539194928, 0.9907015751599618, 0.6423784862508414, 0.07397085599252112, 0.06910435230880263, 0.0992766751478573, 0.11484948693575649, 0.0028106851667036616, 0.014053425833518308, 0.08994192533451717, 0.789802531843729, 0.10118466600133182, 0.0907589978749043, 0.907589978749043, 0.0026944656558669155, 0.0350280535262699, 0.9610260839258665, 0.0008981552186223051, 0.023963628909621976, 0.8435197376186935, 0.07029331146822446, 0.04792725781924395, 0.014378177345773185, 0.14744300448051634, 0.5449413746678543, 0.03387204156984835, 0.25005536570682163, 0.023909676402245894, 0.9974064297266059, 0.02001238463007936, 0.9756037507163688, 0.013948449184568822, 0.9856904090428634, 0.14478255995304226, 0.0885982829563393, 0.7260737334958538, 0.04105774088220602, 0.10358236359631207, 0.08177555020761479, 0.8177555020761479, 0.07348893421669486, 0.08645756966669983, 0.09510332663336982, 0.7435350991336186, 0.06545324086608022, 0.10519270853477178, 0.03506423617825726, 0.7947893533738313, 0.062493879855329226, 0.0410116086550598, 0.8241380405921541, 0.07225854858272442, 0.9754960145928618, 0.021322317258860368, 0.07159579944519354, 0.8658318679572072, 0.0028638319778077417, 0.0009546106592692472, 0.05823125021542408, 0.10252021764745167, 0.016187402786439736, 0.879515551396559, 0.14241036311521374, 0.023735060519202288, 0.8307271181720801, 0.8899157718860624, 0.05640311230263775, 0.05222510398392385, 0.047776790659833666, 0.033443753461883566, 0.042999111593850295, 0.874315269074956, 0.9963541819215955, 0.9966365766562224, 0.002021575206199234, 0.9951022912598843, 0.0029181885374190155, 0.028477811265945445, 0.017086686759567267, 0.9511588962825779, 0.9265919635289573, 0.06819075056273712, 0.14716568271586522, 0.02840039491007925, 0.8236114523922983, 0.21280925106383475, 0.027714693161801734, 0.4899561826818521, 0.2672488269173739, 0.0019796209401286955, 0.05461598775688208, 0.04369279020550566, 0.007282131700917611, 0.8920611333624073, 0.06600296301363615, 0.81450464995551, 0.011234546895938068, 0.08847205680551229, 0.01966045706789162, 0.0031197767141997496, 0.9749302231874218, 0.007799441785499375, 0.014038995213898875, 0.3677743113553099, 0.05983629668876074, 0.052539187336472844, 0.3337211343779664, 0.18583305150493173, 0.03234900597307992, 0.14017902588334633, 0.0359433399700888, 0.007188667994017761, 0.7835648113479359, 0.0011839148160527222, 0.9666664473070478, 0.0319657000334235, 0.9975125775321797, 0.046211782177821036, 0.025278239823765352, 0.010269284928404674, 0.6611839603903625, 0.25752206820460954, 0.9488560149084005, 0.04929122155368315, 0.005296905703099666, 0.010186357121345512, 0.8528018181990462, 0.05500632845526576, 0.07660140555251825, 0.9768103460697369, 0.018665165848466312, 0.021194408116483956, 0.10067343855329879, 0.1483608568153877, 0.7312070800186965, 0.8407400060120511, 0.011676944527945154, 0.003503083358383546, 0.03736622248942449, 0.1062601952043009, 0.02550730221771703, 0.03356223976015399, 0.9410852028747179, 0.8248237715856405, 0.03160968924845069, 0.034311372090198605, 0.00864538509359335, 0.1005026017130227, 0.0920586395897101, 0.05956735502863595, 0.8474810056346842, 0.8247817198228138, 0.13076946860157862, 0.020549487923105212, 0.0028022028986052563, 0.020549487923105212, 0.806036226288672, 0.053358167346772296, 0.08823473483041676, 0.039049831968866876, 0.013414064416786331, 0.9791761137312802, 0.020235556885376628, 0.9785566509774998, 0.01947376419855721, 0.05335511368094013, 0.9441535333975057, 0.03661997328780991, 0.9460159766017558, 0.009154993321952477, 0.012206657762603301, 0.014010866737603198, 0.18262440092462098, 0.014977133409162038, 0.769631403896617, 0.019325333431176824, 0.24653463244364993, 0.00699389028208936, 0.13463238793022017, 0.02447861598731276, 0.5857383111249839, 0.0011739058584245346, 0.9631897568373307, 0.012326011513457613, 0.0011739058584245346, 0.022304211310066158, 0.024851338285498438, 0.8987900679921935, 0.07041212514224557, 0.004141889714249739, 0.01009299390581432, 0.9840669058168962, 0.1191799606441956, 0.8759727107348377, 0.9966389909018102, 0.1998918852107888, 0.18294344606573437, 0.3778504962338601, 0.1779586110230713, 0.061313471024755664, 0.053789409417814356, 0.9203965611492679, 0.02390640418569527, 0.005976601046423818, 0.28681351120530124, 0.06416844657474537, 0.015555987048423118, 0.6329342230327156, 0.12185733987506388, 0.07152496036145053, 0.7510120837952307, 0.021192580847837195, 0.034437943877735445, 0.011793937145939421, 0.9765379956837841, 0.009435149716751537, 0.0023587874291878842, 0.0023013130711307095, 0.9918659336573358, 0.004602626142261419, 0.5630574729683459, 0.322202859885569, 0.03269880508739685, 0.06140995101779409, 0.019938295784998082, 0.03550767807730679, 0.9587073080872832, 0.004438459759663348, 0.046563102141725994, 0.005478012016673647, 0.032868072100041876, 0.9148280067844989, 0.006746885936405399, 0.016867214841013497, 0.0371078726502297, 0.9378171451603504, 0.02468965932894669, 0.31822227579531287, 0.6501610289955961, 0.0068582387024851916, 0.9536896181136035, 0.042074541975600156, 0.07374350429861919, 0.003781718169159958, 0.9208483741904498, 0.858840979713999, 0.06337262735775102, 0.009458601098171794, 0.058643326808665124, 0.009458601098171794, 0.9978089724273507, 0.9783243825049553, 0.017787716045544643, 0.9110875580960982, 0.08769031962099477, 0.9091398539979691, 0.00380711831657441, 0.08680229761789655, 0.9789482471683877, 0.01732651764899801, 0.004331629412249503, 0.1905777150800499, 0.11406636770232398, 0.3248228996732027, 0.31753610468484783, 0.05268913299271968, 0.056356484494767656, 0.005635648449476766, 0.8847968065678522, 0.05072083604529089, 0.3319982511108152, 0.17204767668900545, 0.3729939865718673, 0.09879300184876484, 0.02419420453439139, 0.12559614935935812, 0.02715592418580716, 0.010183471569677685, 0.8350446687135702, 0.16284510538883634, 0.04593067075069743, 0.020877577613953376, 0.7682948561934843, 0.05958799307071867, 0.7230009825913866, 0.02939674324822121, 0.05640996677361367, 0.13188809132985732, 0.0318443314109267, 0.7816335891772918, 0.027501922582163968, 0.004342408828762732, 0.15487924822587076, 0.014233769252911371, 0.8861669244554499, 0.008723923090494067, 0.05923084624598603, 0.031222461587031396, 0.023617651297043817, 0.9594670839424051, 0.017713238472782864, 0.04118403777686913, 0.634513395579221, 0.05374865947150717, 0.23453960496657675, 0.03559976146814112, 0.018235836294613134, 0.8266912453557954, 0.009117918147306567, 0.09421848752216785, 0.05065510081836982, 0.0986032414486849, 0.6633308970184256, 0.04302686899578977, 0.13894093113223782, 0.05557637245289512, 0.8928110867581822, 0.005747710858958255, 0.09004747012367932, 0.009579518098263759, 0.9655190283432746, 0.005959994002118979, 0.027415972409747302, 0.22399102721119685, 0.17666897920883132, 0.31926608385595945, 0.26121770497305774, 0.018297858560914673, 0.09378297637476835, 0.778806455981772, 0.026503884627651925, 0.09072483584080851, 0.010193801779866125, 0.0885935449709809, 0.08785526542955607, 0.24658536683589685, 0.45773331568340136, 0.11886300616939939, 0.050907099872611807, 0.010181419974522361, 0.9366906376560572, 0.9954976413590316, 0.01213276225145986, 0.025478800728065704, 0.009706209801167888, 0.9402890744881391, 0.01213276225145986, 0.47049488535409717, 0.33247398690484614, 0.17881525267070458, 0.01767755349596319, 0.9679627149704733, 0.0015713680437832358, 0.029855992831881478, 0.544160452935845, 0.06751769283103543, 0.10931435982167641, 0.004822692345073959, 0.27408968161170333, 0.0473308917965978, 0.8118276875546884, 0.01954971617685561, 0.10495110789680381, 0.01646291888577315, 0.04811358283627955, 0.038490866269023635, 0.04330222455265159, 0.03367950798539568, 0.8371763413512641, 0.7478176692447265, 0.03237305927466348, 0.0032373059274663483, 0.10553617323540296, 0.11136332390484238, 0.17139659330216286, 0.04253638081951487, 0.7593995046307508, 0.02627247050617095, 0.11885585808379369, 0.8725759337371195, 0.008696770103692221, 0.9978451884693228, 0.2903519263748561, 0.051319616880016086, 0.1611918167775002, 0.45739900145410306, 0.03995352723544876, 0.13653484507319058, 0.004708098105972089, 0.0423728829537488, 0.8168550213861575, 0.033766341740412695, 0.0763412943696287, 0.8265413217327108, 0.06312837803642374, 0.03226148302623868, 0.009217566578925338, 0.9586269242082351], \"Term\": [\"AI\", \"AI\", \"APP\", \"APP\", \"App\", \"App\", \"App\", \"CPI\", \"ETF\", \"ETF\", \"ETF\", \"FOF\", \"FOF\", \"PTA\", \"id\", \"id\", \"id\", \"puoke\", \"puoke\", \"\\u4e00\\u4e0b\", \"\\u4e00\\u4e0b\", \"\\u4e00\\u4e0b\", \"\\u4e00\\u4e0b\", \"\\u4e00\\u4e9b\", \"\\u4e00\\u4e9b\", \"\\u4e00\\u4e9b\", \"\\u4e00\\u4e9b\", \"\\u4e00\\u4e9b\", \"\\u4e00\\u5b9a\", \"\\u4e00\\u5b9a\", \"\\u4e00\\u5b9a\", \"\\u4e00\\u5b9a\", \"\\u4e00\\u5b9a\", \"\\u4e00\\u6837\", \"\\u4e00\\u6837\", \"\\u4e00\\u6837\", \"\\u4e00\\u6837\", \"\\u4e00\\u6837\", \"\\u4e07\\u5143\", \"\\u4e07\\u5143\", \"\\u4e0a\\u884c\", \"\\u4e0a\\u884c\", \"\\u4e0b\\u534a\\u5e74\", \"\\u4e0b\\u534a\\u5e74\", \"\\u4e0b\\u534a\\u5e74\", \"\\u4e0b\\u534a\\u5e74\", \"\\u4e0b\\u534a\\u5e74\", \"\\u4e0b\\u884c\", \"\\u4e0b\\u884c\", \"\\u4e0b\\u884c\", \"\\u4e0b\\u8c03\", \"\\u4e0b\\u8c03\", \"\\u4e0b\\u8c03\", \"\\u4e0b\\u964d\", \"\\u4e0b\\u964d\", \"\\u4e0b\\u964d\", \"\\u4e0b\\u964d\", \"\\u4e0d\\u540c\", \"\\u4e0d\\u540c\", \"\\u4e0d\\u540c\", \"\\u4e0d\\u540c\", \"\\u4e0d\\u540c\", \"\\u4e0d\\u5f97\", \"\\u4e0d\\u5f97\", \"\\u4e0d\\u5f97\", \"\\u4e0d\\u662f\", \"\\u4e0d\\u662f\", \"\\u4e0d\\u662f\", \"\\u4e0d\\u662f\", \"\\u4e0d\\u662f\", \"\\u4e0d\\u8981\", \"\\u4e0d\\u8981\", \"\\u4e0d\\u8981\", \"\\u4e16\\u754c\", \"\\u4e16\\u754c\", \"\\u4e16\\u754c\", \"\\u4e16\\u754c\", \"\\u4e16\\u754c\", \"\\u4e1a\\u52a1\", \"\\u4e1a\\u52a1\", \"\\u4e1a\\u52a1\", \"\\u4e1a\\u52a1\", \"\\u4e1c\\u897f\", \"\\u4e1c\\u897f\", \"\\u4e1c\\u897f\", \"\\u4e2d\\u56fd\", \"\\u4e2d\\u56fd\", \"\\u4e2d\\u56fd\", \"\\u4e2d\\u56fd\", \"\\u4e2d\\u56fd\", \"\\u4e2d\\u56fd\\u8bc1\\u76d1\\u4f1a\", \"\\u4e2d\\u56fd\\u8bc1\\u76d1\\u4f1a\", \"\\u4e2d\\u8bc1\", \"\\u4e2d\\u8bc1\", \"\\u4e2d\\u8bc1\", \"\\u4e3a\\u4ec0\\u4e48\", \"\\u4e3a\\u4ec0\\u4e48\", \"\\u4e3a\\u4ec0\\u4e48\", \"\\u4e3b\\u4f53\", \"\\u4e3b\\u4f53\", \"\\u4e3b\\u4f53\", \"\\u4e3b\\u8981\", \"\\u4e3b\\u8981\", \"\\u4e3b\\u8981\", \"\\u4e3b\\u8981\", \"\\u4e3b\\u8981\", \"\\u4e4b\\u95f4\", \"\\u4e4b\\u95f4\", \"\\u4e4b\\u95f4\", \"\\u4e4b\\u95f4\", \"\\u4e4b\\u95f4\", \"\\u4e8b\\u60c5\", \"\\u4e8b\\u60c5\", \"\\u4e8b\\u60c5\", \"\\u4e8b\\u60c5\", \"\\u4e8b\\u60c5\", \"\\u4e8b\\u9879\", \"\\u4ea4\\u6613\", \"\\u4ea4\\u6613\", \"\\u4ea4\\u6613\", \"\\u4ea4\\u6613\", \"\\u4ea4\\u6613\", \"\\u4ea7\\u4e1a\", \"\\u4ea7\\u4e1a\", \"\\u4ea7\\u4e1a\", \"\\u4ea7\\u4e1a\", \"\\u4ea7\\u54c1\", \"\\u4ea7\\u54c1\", \"\\u4ea7\\u54c1\", \"\\u4ea7\\u54c1\", \"\\u4ea7\\u54c1\", \"\\u4eba\\u6c11\\u5e01\", \"\\u4eba\\u6c11\\u5e01\", \"\\u4eba\\u6c11\\u5e01\", \"\\u4eba\\u6c11\\u5e01\", \"\\u4eba\\u7c7b\", \"\\u4eba\\u7c7b\", \"\\u4eba\\u7c7b\", \"\\u4eba\\u7c7b\", \"\\u4ec0\\u4e48\", \"\\u4ec0\\u4e48\", \"\\u4ec0\\u4e48\", \"\\u4ec0\\u4e48\", \"\\u4ec0\\u4e48\", \"\\u4eca\\u5929\", \"\\u4eca\\u5929\", \"\\u4eca\\u5929\", \"\\u4eca\\u5929\", \"\\u4eca\\u5929\", \"\\u4ed6\\u4eec\", \"\\u4ed6\\u4eec\", \"\\u4ed6\\u4eec\", \"\\u4ed6\\u4eec\", \"\\u4ed6\\u4eec\", \"\\u4ee3\\u7801\", \"\\u4ee3\\u7801\", \"\\u4ee3\\u7801\", \"\\u4ee3\\u7801\", \"\\u4ef7\\u503c\", \"\\u4ef7\\u503c\", \"\\u4ef7\\u503c\", \"\\u4ef7\\u503c\", \"\\u4ef7\\u503c\", \"\\u4ef7\\u683c\", \"\\u4ef7\\u683c\", \"\\u4ef7\\u683c\", \"\\u4ef7\\u683c\", \"\\u4ef7\\u683c\", \"\\u4efd\\u989d\", \"\\u4efd\\u989d\", \"\\u4efd\\u989d\", \"\\u4f01\\u4e1a\", \"\\u4f01\\u4e1a\", \"\\u4f01\\u4e1a\", \"\\u4f01\\u4e1a\", \"\\u4f01\\u4e1a\", \"\\u4f18\\u60e0\", \"\\u4f18\\u60e0\", \"\\u4f18\\u60e0\", \"\\u4f18\\u60e0\", \"\\u4f1a\\u8bae\", \"\\u4f1a\\u8bae\", \"\\u4f1a\\u8bae\", \"\\u4f46\\u662f\", \"\\u4f46\\u662f\", \"\\u4f46\\u662f\", \"\\u4f46\\u662f\", \"\\u4f46\\u662f\", \"\\u4f60\\u4eec\", \"\\u4f60\\u4eec\", \"\\u4f60\\u4eec\", \"\\u4f7f\\u7528\", \"\\u4f7f\\u7528\", \"\\u4f7f\\u7528\", \"\\u4f7f\\u7528\", \"\\u4f7f\\u7528\", \"\\u4f9b\\u7ed9\", \"\\u4f9b\\u7ed9\", \"\\u4fdd\\u9669\", \"\\u4fdd\\u9669\", \"\\u4fdd\\u9669\", \"\\u4fe1\\u606f\", \"\\u4fe1\\u606f\", \"\\u4fe1\\u606f\", \"\\u4fe1\\u606f\", \"\\u4fe1\\u606f\", \"\\u4fe1\\u6258\", \"\\u4fe1\\u6258\", \"\\u4fe1\\u7528\", \"\\u4fe1\\u7528\", \"\\u4fe1\\u7528\", \"\\u4fe1\\u7528\", \"\\u4fe1\\u8d37\", \"\\u4fe1\\u8d37\", \"\\u4fe1\\u8d37\", \"\\u503a\\u5238\", \"\\u503a\\u5238\", \"\\u503a\\u5238\", \"\\u503a\\u5238\", \"\\u503a\\u5238\", \"\\u5168\\u5e74\", \"\\u5168\\u5e74\", \"\\u5168\\u5e74\", \"\\u5168\\u5e74\", \"\\u5168\\u7403\", \"\\u5168\\u7403\", \"\\u5168\\u7403\", \"\\u5168\\u7403\", \"\\u5168\\u7403\", \"\\u516c\\u53f8\", \"\\u516c\\u53f8\", \"\\u516c\\u53f8\", \"\\u516c\\u53f8\", \"\\u516c\\u53f8\", \"\\u5173\\u7a0e\", \"\\u5173\\u7a0e\", \"\\u5176\\u4ed6\", \"\\u5176\\u4ed6\", \"\\u5176\\u4ed6\", \"\\u5176\\u4ed6\", \"\\u5176\\u4ed6\", \"\\u5176\\u5b9e\", \"\\u5176\\u5b9e\", \"\\u5176\\u5b9e\", \"\\u5176\\u5b9e\", \"\\u51fa\\u73b0\", \"\\u51fa\\u73b0\", \"\\u51fa\\u73b0\", \"\\u51fa\\u73b0\", \"\\u51fa\\u73b0\", \"\\u5206\\u6790\", \"\\u5206\\u6790\", \"\\u5206\\u6790\", \"\\u5206\\u6790\", \"\\u5206\\u6790\", \"\\u5206\\u7c7b\", \"\\u5206\\u7c7b\", \"\\u5206\\u7c7b\", \"\\u5229\\u5dee\", \"\\u5229\\u7387\", \"\\u5229\\u7387\", \"\\u5229\\u7387\", \"\\u5229\\u7387\", \"\\u5229\\u7387\", \"\\u5236\\u9020\\u4e1a\", \"\\u5236\\u9020\\u4e1a\", \"\\u5236\\u9020\\u4e1a\", \"\\u524d\\u6cbf\", \"\\u524d\\u6cbf\", \"\\u524d\\u6cbf\", \"\\u524d\\u6cbf\", \"\\u52a0\\u6743\", \"\\u52a0\\u6743\", \"\\u52a8\\u91cf\", \"\\u52df\\u96c6\", \"\\u5347\\u503c\", \"\\u5347\\u503c\", \"\\u534e\\u6cf0\", \"\\u534e\\u6cf0\", \"\\u534f\\u4f1a\", \"\\u534f\\u4f1a\", \"\\u53c2\\u4f1a\", \"\\u53d1\\u5c55\", \"\\u53d1\\u5c55\", \"\\u53d1\\u5c55\", \"\\u53d1\\u5c55\", \"\\u53d1\\u5c55\", \"\\u53d1\\u8a00\", \"\\u53d1\\u8a00\", \"\\u53d1\\u8a00\", \"\\u53d8\\u6210\", \"\\u53d8\\u6210\", \"\\u53d8\\u6210\", \"\\u53d8\\u6210\", \"\\u53d8\\u6210\", \"\\u53d8\\u66f4\", \"\\u53ea\\u662f\", \"\\u53ea\\u662f\", \"\\u53ea\\u662f\", \"\\u53ea\\u662f\", \"\\u53ea\\u662f\", \"\\u5408\\u540c\", \"\\u5408\\u540c\", \"\\u5408\\u540c\", \"\\u5408\\u89c4\", \"\\u5408\\u89c4\", \"\\u540c\\u6bd4\", \"\\u540c\\u6bd4\", \"\\u542b\\u9910\", \"\\u544a\\u8bc9\", \"\\u544a\\u8bc9\", \"\\u544a\\u8bc9\", \"\\u544a\\u8bc9\", \"\\u5468\\u671f\", \"\\u5468\\u671f\", \"\\u5468\\u671f\", \"\\u5468\\u671f\", \"\\u5546\\u54c1\", \"\\u5546\\u54c1\", \"\\u5546\\u54c1\", \"\\u5546\\u54c1\", \"\\u5546\\u54c1\", \"\\u5609\\u5bbe\", \"\\u56de\\u62a5\", \"\\u56de\\u62a5\", \"\\u56de\\u62a5\", \"\\u56de\\u62a5\", \"\\u56de\\u843d\", \"\\u56de\\u843d\", \"\\u56e0\\u4e3a\", \"\\u56e0\\u4e3a\", \"\\u56e0\\u4e3a\", \"\\u56e0\\u4e3a\", \"\\u56e0\\u4e3a\", \"\\u56e0\\u5b50\", \"\\u56fd\\u503a\", \"\\u56fd\\u503a\", \"\\u56fd\\u503a\", \"\\u56fd\\u503a\", \"\\u5730\\u4ea7\", \"\\u5730\\u4ea7\", \"\\u5730\\u4ea7\", \"\\u5783\\u573e\", \"\\u5783\\u573e\", \"\\u5783\\u573e\", \"\\u5783\\u573e\", \"\\u57fa\\u91d1\", \"\\u57fa\\u91d1\", \"\\u57fa\\u91d1\", \"\\u57fa\\u91d1\", \"\\u57fa\\u91d1\", \"\\u589e\\u901f\", \"\\u589e\\u901f\", \"\\u589e\\u901f\", \"\\u589e\\u957f\", \"\\u589e\\u957f\", \"\\u589e\\u957f\", \"\\u589e\\u957f\", \"\\u589e\\u957f\", \"\\u5907\\u6848\", \"\\u5907\\u6848\", \"\\u591a\\u5c11\", \"\\u591a\\u5c11\", \"\\u591a\\u5c11\", \"\\u591a\\u5c11\", \"\\u591a\\u5c11\", \"\\u5927\\u5b97\", \"\\u5927\\u5b97\", \"\\u5927\\u5b97\", \"\\u5927\\u5b97\", \"\\u5927\\u5bb6\", \"\\u5927\\u5bb6\", \"\\u5927\\u5bb6\", \"\\u5927\\u5bb6\", \"\\u5927\\u5bb6\", \"\\u592e\\u884c\", \"\\u592e\\u884c\", \"\\u592e\\u884c\", \"\\u5982\\u4f55\", \"\\u5982\\u4f55\", \"\\u5982\\u4f55\", \"\\u5982\\u4f55\", \"\\u5982\\u4f55\", \"\\u5b66\\u4e60\", \"\\u5b66\\u4e60\", \"\\u5b66\\u4e60\", \"\\u5b66\\u4e60\", \"\\u5b8f\\u89c2\", \"\\u5b8f\\u89c2\", \"\\u5b8f\\u89c2\", \"\\u5b8f\\u89c2\", \"\\u5ba2\\u6237\", \"\\u5ba2\\u6237\", \"\\u5ba2\\u6237\", \"\\u5ba2\\u6237\", \"\\u5ba2\\u6237\", \"\\u5bb6\\u5ead\", \"\\u5bb6\\u5ead\", \"\\u5bb6\\u5ead\", \"\\u5bb6\\u5ead\", \"\\u5bb6\\u5ead\", \"\\u5bbd\\u677e\", \"\\u5bbd\\u677e\", \"\\u5bbd\\u677e\", \"\\u5bbd\\u677e\", \"\\u5bf9\\u4e8e\", \"\\u5bf9\\u4e8e\", \"\\u5bf9\\u4e8e\", \"\\u5bf9\\u4e8e\", \"\\u5bf9\\u4e8e\", \"\\u5c0f\\u8377\\u5b98\", \"\\u5df4\\u83f2\\u7279\", \"\\u5df4\\u83f2\\u7279\", \"\\u5e76\\u8d2d\", \"\\u5e76\\u8d2d\", \"\\u5e94\\u5f53\", \"\\u5e94\\u5f53\", \"\\u5e94\\u5f53\", \"\\u5e94\\u5f53\", \"\\u5f00\\u59cb\", \"\\u5f00\\u59cb\", \"\\u5f00\\u59cb\", \"\\u5f00\\u59cb\", \"\\u5f00\\u59cb\", \"\\u5f71\\u54cd\", \"\\u5f71\\u54cd\", \"\\u5f71\\u54cd\", \"\\u5f71\\u54cd\", \"\\u5f71\\u54cd\", \"\\u5f88\\u591a\", \"\\u5f88\\u591a\", \"\\u5f88\\u591a\", \"\\u5f88\\u591a\", \"\\u5f88\\u591a\", \"\\u5f8b\\u5e08\", \"\\u603b\\u76d1\", \"\\u603b\\u76d1\", \"\\u603b\\u76d1\", \"\\u60c5\\u51b5\", \"\\u60c5\\u51b5\", \"\\u60c5\\u51b5\", \"\\u60c5\\u51b5\", \"\\u60c5\\u51b5\", \"\\u613f\\u610f\", \"\\u613f\\u610f\", \"\\u613f\\u610f\", \"\\u613f\\u610f\", \"\\u6240\\u4ee5\", \"\\u6240\\u4ee5\", \"\\u6240\\u4ee5\", \"\\u6240\\u4ee5\", \"\\u6240\\u4ee5\", \"\\u6251\\u514b\", \"\\u6251\\u514b\", \"\\u6258\\u7ba1\", \"\\u6258\\u7ba1\", \"\\u6258\\u7ba1\", \"\\u6295\\u7814\", \"\\u6295\\u7814\", \"\\u6295\\u7814\", \"\\u6295\\u7814\", \"\\u6295\\u7814\", \"\\u6295\\u8d44\\u8005\", \"\\u6295\\u8d44\\u8005\", \"\\u6295\\u8d44\\u8005\", \"\\u6295\\u8d44\\u8005\", \"\\u6295\\u8d44\\u8005\", \"\\u62a5\\u540d\", \"\\u6307\\u6570\", \"\\u6307\\u6570\", \"\\u6307\\u6570\", \"\\u6307\\u6570\", \"\\u6307\\u6807\", \"\\u6307\\u6807\", \"\\u6307\\u6807\", \"\\u6307\\u6807\", \"\\u63d0\\u4f9b\", \"\\u63d0\\u4f9b\", \"\\u63d0\\u4f9b\", \"\\u63d0\\u4f9b\", \"\\u63d0\\u4f9b\", \"\\u6469\\u64e6\", \"\\u6469\\u64e6\", \"\\u6536\\u76ca\", \"\\u6536\\u76ca\", \"\\u6536\\u76ca\", \"\\u6536\\u76ca\", \"\\u6536\\u76ca\", \"\\u6536\\u7f29\", \"\\u6536\\u7f29\", \"\\u653f\\u7b56\", \"\\u653f\\u7b56\", \"\\u653f\\u7b56\", \"\\u653f\\u7b56\", \"\\u653f\\u7b56\", \"\\u6570\\u636e\", \"\\u6570\\u636e\", \"\\u6570\\u636e\", \"\\u6570\\u636e\", \"\\u6570\\u636e\", \"\\u65b9\\u6cd5\", \"\\u65b9\\u6cd5\", \"\\u65b9\\u6cd5\", \"\\u65b9\\u6cd5\", \"\\u65b9\\u6cd5\", \"\\u65e5\\u672c\", \"\\u65e5\\u672c\", \"\\u65e5\\u672c\", \"\\u65e5\\u672c\", \"\\u65e5\\u672c\", \"\\u65f6\\u5019\", \"\\u65f6\\u5019\", \"\\u65f6\\u5019\", \"\\u65f6\\u5019\", \"\\u65f6\\u5019\", \"\\u65f6\\u95f4\", \"\\u65f6\\u95f4\", \"\\u65f6\\u95f4\", \"\\u65f6\\u95f4\", \"\\u65f6\\u95f4\", \"\\u662f\\u5426\", \"\\u662f\\u5426\", \"\\u662f\\u5426\", \"\\u662f\\u5426\", \"\\u662f\\u5426\", \"\\u66fe\\u7ecf\", \"\\u66fe\\u7ecf\", \"\\u66fe\\u7ecf\", \"\\u66fe\\u7ecf\", \"\\u6709\\u4eba\", \"\\u6709\\u4eba\", \"\\u6709\\u4eba\", \"\\u6709\\u671b\", \"\\u6709\\u671b\", \"\\u6709\\u9650\\u516c\\u53f8\", \"\\u6709\\u9650\\u516c\\u53f8\", \"\\u6709\\u9650\\u516c\\u53f8\", \"\\u671f\\u8d27\", \"\\u671f\\u8d27\", \"\\u671f\\u8d27\", \"\\u671f\\u8d27\", \"\\u671f\\u8d27\", \"\\u672a\\u6765\", \"\\u672a\\u6765\", \"\\u672a\\u6765\", \"\\u672a\\u6765\", \"\\u672a\\u6765\", \"\\u673a\\u4f1a\", \"\\u673a\\u4f1a\", \"\\u673a\\u4f1a\", \"\\u673a\\u4f1a\", \"\\u673a\\u4f1a\", \"\\u673a\\u5668\", \"\\u673a\\u5668\", \"\\u673a\\u5668\", \"\\u673a\\u6784\", \"\\u673a\\u6784\", \"\\u673a\\u6784\", \"\\u673a\\u6784\", \"\\u673a\\u6784\", \"\\u6743\\u91cd\", \"\\u6743\\u91cd\", \"\\u6743\\u91cd\", \"\\u6765\\u770b\", \"\\u6765\\u770b\", \"\\u6765\\u770b\", \"\\u6765\\u770b\", \"\\u6765\\u770b\", \"\\u6784\\u5efa\", \"\\u6784\\u5efa\", \"\\u6784\\u5efa\", \"\\u6784\\u5efa\", \"\\u6784\\u5efa\", \"\\u6837\\u672c\", \"\\u6837\\u672c\", \"\\u6a21\\u578b\", \"\\u6a21\\u578b\", \"\\u6a21\\u578b\", \"\\u6a21\\u578b\", \"\\u6bd4\\u5982\", \"\\u6bd4\\u5982\", \"\\u6bd4\\u5982\", \"\\u6bd4\\u5982\", \"\\u6bd4\\u5982\", \"\\u6bd4\\u8f83\", \"\\u6bd4\\u8f83\", \"\\u6bd4\\u8f83\", \"\\u6bd4\\u8f83\", \"\\u6bd4\\u8f83\", \"\\u6cb9\\u4ef7\", \"\\u6cbb\\u7406\", \"\\u6cbb\\u7406\", \"\\u6cd5\\u5f8b\", \"\\u6cd5\\u5f8b\", \"\\u6ce2\\u52a8\", \"\\u6ce2\\u52a8\", \"\\u6ce2\\u52a8\", \"\\u6ce2\\u52a8\", \"\\u6d4b\\u8bd5\", \"\\u6d4b\\u8bd5\", \"\\u6d4b\\u8bd5\", \"\\u6ea2\\u4ef7\", \"\\u6ea2\\u4ef7\", \"\\u6ea2\\u4ef7\", \"\\u6ea2\\u4ef7\", \"\\u7279\\u5f81\", \"\\u7279\\u5f81\", \"\\u7279\\u5f81\", \"\\u7279\\u5f81\", \"\\u72ec\\u7acb\", \"\\u72ec\\u7acb\", \"\\u72ec\\u7acb\", \"\\u72ec\\u7acb\", \"\\u73af\\u6bd4\", \"\\u73af\\u6bd4\", \"\\u73b0\\u5728\", \"\\u73b0\\u5728\", \"\\u73b0\\u5728\", \"\\u73b0\\u5728\", \"\\u73b0\\u5728\", \"\\u73b0\\u573a\", \"\\u73b0\\u573a\", \"\\u73b0\\u573a\", \"\\u73b0\\u8d27\", \"\\u73b0\\u8d27\", \"\\u73b0\\u8d27\", \"\\u751f\\u6d3b\", \"\\u751f\\u6d3b\", \"\\u751f\\u6d3b\", \"\\u7528\\u6237\", \"\\u7528\\u6237\", \"\\u7528\\u6237\", \"\\u7528\\u6237\", \"\\u7532\\u9187\", \"\\u767b\\u8bb0\", \"\\u767b\\u8bb0\", \"\\u767e\\u5206\\u70b9\", \"\\u767e\\u5206\\u70b9\", \"\\u767e\\u5ea6\", \"\\u767e\\u5ea6\", \"\\u767e\\u5ea6\", \"\\u76d1\\u7763\", \"\\u76d1\\u7763\", \"\\u76d1\\u7ba1\", \"\\u76d1\\u7ba1\", \"\\u76d1\\u7ba1\", \"\\u76f8\\u5173\", \"\\u76f8\\u5173\", \"\\u76f8\\u5173\", \"\\u76f8\\u5173\", \"\\u76f8\\u5173\", \"\\u76f8\\u5173\\u6027\", \"\\u76f8\\u5173\\u6027\", \"\\u76f8\\u5173\\u6027\", \"\\u76f8\\u5173\\u6027\", \"\\u770b\\u5230\", \"\\u770b\\u5230\", \"\\u770b\\u5230\", \"\\u770b\\u5230\", \"\\u770b\\u5230\", \"\\u77e5\\u9053\", \"\\u77e5\\u9053\", \"\\u77e5\\u9053\", \"\\u77e5\\u9053\", \"\\u7814\\u7a76\", \"\\u7814\\u7a76\", \"\\u7814\\u7a76\", \"\\u7814\\u7a76\", \"\\u7814\\u7a76\", \"\\u798f\\u5229\", \"\\u798f\\u5229\", \"\\u798f\\u5229\", \"\\u798f\\u5229\", \"\\u798f\\u5229\", \"\\u79c1\\u52df\", \"\\u79c1\\u52df\", \"\\u79c1\\u52df\", \"\\u79fb\\u6c11\", \"\\u7b56\\u7565\", \"\\u7b56\\u7565\", \"\\u7b56\\u7565\", \"\\u7b56\\u7565\", \"\\u7b56\\u7565\", \"\\u7b97\\u6cd5\", \"\\u7b97\\u6cd5\", \"\\u7ba1\\u7406\", \"\\u7ba1\\u7406\", \"\\u7ba1\\u7406\", \"\\u7ba1\\u7406\", \"\\u7ba1\\u7406\", \"\\u7ba1\\u7406\\u673a\\u6784\", \"\\u7ba1\\u7406\\u673a\\u6784\", \"\\u7c7b\\u522b\", \"\\u7c7b\\u522b\", \"\\u7c7b\\u522b\", \"\\u7c7b\\u522b\", \"\\u7cfb\\u5217\", \"\\u7cfb\\u5217\", \"\\u7cfb\\u5217\", \"\\u7cfb\\u5217\", \"\\u7cfb\\u5217\", \"\\u7ec4\\u5408\", \"\\u7ec4\\u5408\", \"\\u7ec4\\u5408\", \"\\u7ecf\\u6d4e\", \"\\u7ecf\\u6d4e\", \"\\u7ecf\\u6d4e\", \"\\u7ecf\\u6d4e\", \"\\u7ecf\\u6d4e\", \"\\u7ecf\\u8425\", \"\\u7ecf\\u8425\", \"\\u7ecf\\u8425\", \"\\u7f8e\\u5143\", \"\\u7f8e\\u5143\", \"\\u7f8e\\u5143\", \"\\u7f8e\\u5143\", \"\\u7f8e\\u5143\", \"\\u7f8e\\u56fd\", \"\\u7f8e\\u56fd\", \"\\u7f8e\\u56fd\", \"\\u7f8e\\u56fd\", \"\\u7f8e\\u56fd\", \"\\u7f8e\\u8054\\u50a8\", \"\\u7f8e\\u8054\\u50a8\", \"\\u806a\\u660e\", \"\\u806a\\u660e\", \"\\u80a1\\u4e1c\", \"\\u80a1\\u4e1c\", \"\\u80a1\\u6743\", \"\\u80a1\\u6743\", \"\\u80a1\\u6743\", \"\\u80a1\\u6743\", \"\\u80a1\\u7968\", \"\\u80a1\\u7968\", \"\\u80a1\\u7968\", \"\\u80a1\\u7968\", \"\\u80a1\\u7968\", \"\\u80cc\\u666f\", \"\\u80cc\\u666f\", \"\\u80cc\\u666f\", \"\\u80cc\\u666f\", \"\\u80cc\\u666f\", \"\\u81ea\\u5df1\", \"\\u81ea\\u5df1\", \"\\u81ea\\u5df1\", \"\\u81ea\\u5df1\", \"\\u81ea\\u5df1\", \"\\u81ea\\u7531\", \"\\u81ea\\u7531\", \"\\u81ea\\u7531\", \"\\u81ea\\u7531\", \"\\u8463\\u4e8b\\u4f1a\", \"\\u8463\\u4e8b\\u4f1a\", \"\\u8463\\u4e8b\\u957f\", \"\\u8463\\u4e8b\\u957f\", \"\\u87ba\\u4e1d\\u9489\", \"\\u884c\\u4e1a\", \"\\u884c\\u4e1a\", \"\\u884c\\u4e1a\", \"\\u884c\\u4e1a\", \"\\u884c\\u4e1a\", \"\\u884c\\u653f\", \"\\u884c\\u653f\", \"\\u884c\\u653f\", \"\\u884c\\u653f\", \"\\u8868\\u73b0\", \"\\u8868\\u73b0\", \"\\u8868\\u73b0\", \"\\u8868\\u73b0\", \"\\u8981\\u6c42\", \"\\u8981\\u6c42\", \"\\u8981\\u6c42\", \"\\u8981\\u6c42\", \"\\u8981\\u6c42\", \"\\u89c4\\u5b9a\", \"\\u89c4\\u5b9a\", \"\\u89c4\\u5b9a\", \"\\u89c4\\u5b9a\", \"\\u89c9\\u5f97\", \"\\u89c9\\u5f97\", \"\\u89c9\\u5f97\", \"\\u8ba4\\u4e3a\", \"\\u8ba4\\u4e3a\", \"\\u8ba4\\u4e3a\", \"\\u8ba4\\u4e3a\", \"\\u8ba4\\u4e3a\", \"\\u8bad\\u7ec3\", \"\\u8bad\\u7ec3\", \"\\u8bad\\u7ec3\", \"\\u8bba\\u575b\", \"\\u8bba\\u575b\", \"\\u8bba\\u575b\", \"\\u8bba\\u575b\", \"\\u8bdd\\u9898\", \"\\u8bdd\\u9898\", \"\\u8bdd\\u9898\", \"\\u8bdd\\u9898\", \"\\u8d22\\u5bcc\", \"\\u8d22\\u5bcc\", \"\\u8d22\\u5bcc\", \"\\u8d22\\u5bcc\", \"\\u8d22\\u653f\", \"\\u8d22\\u653f\", \"\\u8d22\\u7ecf\", \"\\u8d22\\u7ecf\", \"\\u8d22\\u7ecf\", \"\\u8d27\\u5e01\", \"\\u8d27\\u5e01\", \"\\u8d27\\u5e01\", \"\\u8d27\\u5e01\", \"\\u8d27\\u5e01\", \"\\u8d27\\u5e01\\u653f\\u7b56\", \"\\u8d2c\\u503c\", \"\\u8d2c\\u503c\", \"\\u8d37\\u6b3e\", \"\\u8d37\\u6b3e\", \"\\u8d38\\u6613\", \"\\u8d38\\u6613\", \"\\u8d38\\u6613\", \"\\u8d38\\u6613\\u6218\", \"\\u8d38\\u6613\\u6218\", \"\\u8d38\\u6613\\u6218\", \"\\u8d44\\u4ea7\", \"\\u8d44\\u4ea7\", \"\\u8d44\\u4ea7\", \"\\u8d44\\u4ea7\", \"\\u8d44\\u4ea7\", \"\\u8d44\\u7ba1\", \"\\u8d44\\u7ba1\", \"\\u8d44\\u7ba1\", \"\\u8d44\\u7ba1\", \"\\u8d44\\u91d1\", \"\\u8d44\\u91d1\", \"\\u8d44\\u91d1\", \"\\u8d44\\u91d1\", \"\\u8d44\\u91d1\", \"\\u8d85\\u989d\", \"\\u8d85\\u989d\", \"\\u8d85\\u989d\", \"\\u8d85\\u989d\", \"\\u8ddf\\u8e2a\", \"\\u8ddf\\u8e2a\", \"\\u8ddf\\u8e2a\", \"\\u8ddf\\u8e2a\", \"\\u8fd8\\u662f\", \"\\u8fd8\\u662f\", \"\\u8fd8\\u662f\", \"\\u8fd8\\u662f\", \"\\u8fd8\\u662f\", \"\\u8fd8\\u6709\", \"\\u8fd8\\u6709\", \"\\u8fd8\\u6709\", \"\\u8fd8\\u6709\", \"\\u8fd8\\u6709\", \"\\u8fd9\\u4e2a\", \"\\u8fd9\\u4e2a\", \"\\u8fd9\\u4e2a\", \"\\u8fd9\\u4e2a\", \"\\u8fd9\\u4e2a\", \"\\u8fd9\\u4e48\", \"\\u8fd9\\u4e48\", \"\\u8fd9\\u4e48\", \"\\u8fd9\\u4e9b\", \"\\u8fd9\\u4e9b\", \"\\u8fd9\\u4e9b\", \"\\u8fd9\\u4e9b\", \"\\u8fd9\\u4e9b\", \"\\u8fd9\\u6837\", \"\\u8fd9\\u6837\", \"\\u8fd9\\u6837\", \"\\u8fd9\\u6837\", \"\\u8fd9\\u6837\", \"\\u8fd9\\u79cd\", \"\\u8fd9\\u79cd\", \"\\u8fd9\\u79cd\", \"\\u8fd9\\u79cd\", \"\\u8fd9\\u79cd\", \"\\u8fd9\\u91cc\", \"\\u8fd9\\u91cc\", \"\\u8fd9\\u91cc\", \"\\u8fd9\\u91cc\", \"\\u901a\\u80c0\", \"\\u901a\\u80c0\", \"\\u901a\\u80c0\", \"\\u901a\\u8fc7\", \"\\u901a\\u8fc7\", \"\\u901a\\u8fc7\", \"\\u901a\\u8fc7\", \"\\u901a\\u8fc7\", \"\\u90a3\\u4e48\", \"\\u90a3\\u4e48\", \"\\u90a3\\u4e48\", \"\\u90a3\\u4e48\", \"\\u90a3\\u4e48\", \"\\u914d\\u7f6e\", \"\\u914d\\u7f6e\", \"\\u914d\\u7f6e\", \"\\u914d\\u7f6e\", \"\\u914d\\u7f6e\", \"\\u9152\\u5e97\", \"\\u9152\\u5e97\", \"\\u9152\\u5e97\", \"\\u91cd\\u4f30\", \"\\u91cf\\u5316\", \"\\u91cf\\u5316\", \"\\u91cf\\u5316\", \"\\u91cf\\u5316\", \"\\u91cf\\u5316\", \"\\u94f6\\u884c\", \"\\u94f6\\u884c\", \"\\u94f6\\u884c\", \"\\u94f6\\u884c\", \"\\u964d\\u606f\", \"\\u964d\\u606f\", \"\\u964d\\u606f\", \"\\u9700\\u6c42\", \"\\u9700\\u6c42\", \"\\u9700\\u6c42\", \"\\u9700\\u6c42\", \"\\u9700\\u6c42\", \"\\u975e\\u5e38\", \"\\u975e\\u5e38\", \"\\u975e\\u5e38\", \"\\u975e\\u5e38\", \"\\u975e\\u5e38\", \"\\u9876\\u7ea7\", \"\\u9876\\u7ea7\", \"\\u9876\\u7ea7\", \"\\u9876\\u7ea7\", \"\\u9876\\u7ea7\", \"\\u9884\\u671f\", \"\\u9884\\u671f\", \"\\u9884\\u671f\", \"\\u9884\\u671f\", \"\\u9884\\u671f\", \"\\u9884\\u6d4b\", \"\\u9884\\u6d4b\", \"\\u9884\\u6d4b\", \"\\u9884\\u6d4b\", \"\\u98ce\\u683c\", \"\\u98ce\\u683c\", \"\\u98ce\\u683c\", \"\\u98ce\\u8d77\", \"\\u98ce\\u9669\", \"\\u98ce\\u9669\", \"\\u98ce\\u9669\", \"\\u98ce\\u9669\", \"\\u98ce\\u9669\", \"\\u9996\\u5e2d\", \"\\u9996\\u5e2d\", \"\\u9996\\u5e2d\", \"\\u9996\\u5e2d\", \"\\u9999\\u6e2f\", \"\\u9999\\u6e2f\", \"\\u9999\\u6e2f\", \"\\u9999\\u6e2f\", \"\\u9ed1\\u8272\", \"\\u9ed1\\u8272\", \"\\u9ed1\\u8272\"]}, \"R\": 30, \"lambda.step\": 0.01, \"plot.opts\": {\"xlab\": \"PC1\", \"ylab\": \"PC2\"}, \"topic.order\": [5, 3, 2, 1, 4]};\n",
       "\n",
       "function LDAvis_load_lib(url, callback){\n",
       "  var s = document.createElement('script');\n",
       "  s.src = url;\n",
       "  s.async = true;\n",
       "  s.onreadystatechange = s.onload = callback;\n",
       "  s.onerror = function(){console.warn(\"failed to load library \" + url);};\n",
       "  document.getElementsByTagName(\"head\")[0].appendChild(s);\n",
       "}\n",
       "\n",
       "if(typeof(LDAvis) !== \"undefined\"){\n",
       "   // already loaded: just create the visualization\n",
       "   !function(LDAvis){\n",
       "       new LDAvis(\"#\" + \"ldavis_el114761398594055696241502736997\", ldavis_el114761398594055696241502736997_data);\n",
       "   }(LDAvis);\n",
       "}else if(typeof define === \"function\" && define.amd){\n",
       "   // require.js is available: use it to load d3/LDAvis\n",
       "   require.config({paths: {d3: \"https://cdnjs.cloudflare.com/ajax/libs/d3/3.5.5/d3.min\"}});\n",
       "   require([\"d3\"], function(d3){\n",
       "      window.d3 = d3;\n",
       "      LDAvis_load_lib(\"https://cdn.rawgit.com/bmabey/pyLDAvis/files/ldavis.v1.0.0.js\", function(){\n",
       "        new LDAvis(\"#\" + \"ldavis_el114761398594055696241502736997\", ldavis_el114761398594055696241502736997_data);\n",
       "      });\n",
       "    });\n",
       "}else{\n",
       "    // require.js not available: dynamically load d3 & LDAvis\n",
       "    LDAvis_load_lib(\"https://cdnjs.cloudflare.com/ajax/libs/d3/3.5.5/d3.min.js\", function(){\n",
       "         LDAvis_load_lib(\"https://cdn.rawgit.com/bmabey/pyLDAvis/files/ldavis.v1.0.0.js\", function(){\n",
       "                 new LDAvis(\"#\" + \"ldavis_el114761398594055696241502736997\", ldavis_el114761398594055696241502736997_data);\n",
       "            })\n",
       "         });\n",
       "}\n",
       "</script>"
      ],
      "text/plain": [
       "PreparedData(topic_coordinates=              x         y  topics  cluster       Freq\n",
       "topic                                                \n",
       "4      0.014481 -0.055769       1        1  28.476860\n",
       "2     -0.045012  0.119822       2        1  25.781475\n",
       "1     -0.059220 -0.178282       3        1  18.560490\n",
       "0     -0.140579  0.082682       4        1  17.398225\n",
       "3      0.230330  0.031548       5        1   9.782951, topic_info=    Category         Freq  Term        Total  loglift  logprob\n",
       "352  Default  4621.000000    基金  4621.000000  30.0000  30.0000\n",
       "759  Default  2531.000000    策略  2531.000000  29.0000  29.0000\n",
       "762  Default  2454.000000    管理  2454.000000  28.0000  28.0000\n",
       "492  Default  1121.000000    扑克  1121.000000  27.0000  27.0000\n",
       "747  Default  1689.000000    私募  1689.000000  26.0000  26.0000\n",
       "190  Default  3468.000000    公司  3468.000000  25.0000  25.0000\n",
       "775  Default  3701.000000    经济  3701.000000  24.0000  24.0000\n",
       "330  Default  1320.000000    因子  1320.000000  23.0000  23.0000\n",
       "771  Default  1489.000000    组合  1489.000000  22.0000  22.0000\n",
       "809  Default  2069.000000    股票  2069.000000  21.0000  21.0000\n",
       "230  Default  1997.000000    利率  1997.000000  20.0000  20.0000\n",
       "539  Default  1905.000000    收益  1905.000000  19.0000  19.0000\n",
       "816  Default  1703.000000    自己  1703.000000  18.0000  18.0000\n",
       "642  Default  1113.000000    模型  1113.000000  17.0000  17.0000\n",
       "918  Default  2177.000000    这个  2177.000000  16.0000  16.0000\n",
       "387  Default  1018.000000    宏观  1018.000000  15.0000  15.0000\n",
       "796  Default  3354.000000    美国  3354.000000  14.0000  14.0000\n",
       "78   Default  3676.000000    中国  3676.000000  13.0000  13.0000\n",
       "505  Default   633.000000    报名   633.000000  12.0000  12.0000\n",
       "320  Default  1154.000000    商品  1154.000000  11.0000  11.0000\n",
       "620  Default  1503.000000    机构  1503.000000  10.0000  10.0000\n",
       "172  Default   890.000000    信托   890.000000   9.0000   9.0000\n",
       "103  Default   861.000000    产业   861.000000   8.0000   8.0000\n",
       "105  Default  1345.000000    产品  1345.000000   7.0000   7.0000\n",
       "663  Default  1388.000000    波动  1388.000000   6.0000   6.0000\n",
       "124  Default  1396.000000    他们  1396.000000   5.0000   5.0000\n",
       "71   Default   856.000000    业务   856.000000   4.0000   4.0000\n",
       "513  Default  2180.000000    指数  2180.000000   3.0000   3.0000\n",
       "885  Default  1313.000000    贸易  1313.000000   2.0000   2.0000\n",
       "572  Default  1277.000000    时候  1277.000000   1.0000   1.0000\n",
       "..       ...          ...   ...          ...      ...      ...\n",
       "859   Topic5   333.899209    论坛   365.095950   2.2352  -4.9664\n",
       "0     Topic5   173.219799    AI   195.174799   2.2052  -5.6226\n",
       "345   Topic5   296.108112    垃圾   335.499841   2.1996  -5.0865\n",
       "695   Topic5   163.125880    现场   185.329298   2.1969  -5.6827\n",
       "827   Topic5   146.691626   董事长   167.813447   2.1900  -5.7889\n",
       "708   Topic5   182.871920    用户   209.306650   2.1895  -5.5684\n",
       "983   Topic5   173.559169    顶级   207.841516   2.1443  -5.6207\n",
       "140   Topic5   171.236529    优惠   205.317148   2.1430  -5.6341\n",
       "698   Topic5   140.063223    现货   168.527061   2.1395  -5.8351\n",
       "994   Topic5   346.572437    首席   424.799984   2.1210  -4.9291\n",
       "746   Topic5   217.942520    福利   278.215659   2.0804  -5.3930\n",
       "103   Topic5   557.554115    产业   861.440561   1.8895  -4.4536\n",
       "387   Topic5   635.028997    宏观  1018.532258   1.8521  -4.3235\n",
       "365   Topic5   364.634979    大宗   547.279956   1.9185  -4.8783\n",
       "320   Topic5   628.410601    商品  1154.982517   1.7159  -4.3340\n",
       "142   Topic5   354.635756    会议   550.924888   1.8840  -4.9061\n",
       "617   Topic5   412.642695    机会   805.154051   1.6561  -4.7546\n",
       "374   Topic5   535.588598    如何  1257.170246   1.4713  -4.4938\n",
       "812   Topic5   334.862960    背景   571.927760   1.7892  -4.9635\n",
       "606   Topic5   258.411171  有限公司   384.586953   1.9269  -5.2226\n",
       "759   Topic5   652.200445    策略  2531.821853   0.9682  -4.2968\n",
       "185   Topic5   560.828756    全球  1951.962815   1.0774  -4.4478\n",
       "577   Topic5   365.216175    是否   865.610972   1.4616  -4.8767\n",
       "45    Topic5   283.837798   下半年   539.848297   1.6816  -5.1288\n",
       "78    Topic5   558.298707    中国  3676.724385   0.4396  -4.4523\n",
       "101   Topic5   432.320599    交易  1862.443030   0.8641  -4.7080\n",
       "977   Topic5   340.583561    需求  1244.118341   1.0290  -4.9465\n",
       "739   Topic5   381.950188    研究  2055.608499   0.6415  -4.8319\n",
       "775   Topic5   372.187187    经济  3701.396717   0.0275  -4.8578\n",
       "610   Topic5   285.986248    期货  1013.914239   1.0589  -5.1212\n",
       "\n",
       "[314 rows x 6 columns], token_table=      Topic      Freq   Term\n",
       "term                        \n",
       "0         4  0.107596     AI\n",
       "0         5  0.886385     AI\n",
       "1         1  0.009890    APP\n",
       "1         5  0.984066    APP\n",
       "2         1  0.004330    App\n",
       "2         2  0.004330    App\n",
       "2         5  0.987272    App\n",
       "4         1  0.996485    CPI\n",
       "5         1  0.007151    ETF\n",
       "5         2  0.253852    ETF\n",
       "5         4  0.736528    ETF\n",
       "6         3  0.840490    FOF\n",
       "6         4  0.158759    FOF\n",
       "9         5  0.998410    PTA\n",
       "12        1  0.012190     id\n",
       "12        2  0.004063     id\n",
       "12        5  0.983363     id\n",
       "13        1  0.004756  puoke\n",
       "13        5  0.993949  puoke\n",
       "14        1  0.010168     一下\n",
       "14        2  0.976154     一下\n",
       "14        4  0.002542     一下\n",
       "14        5  0.010168     一下\n",
       "15        1  0.024887     一些\n",
       "15        2  0.714621     一些\n",
       "15        3  0.095994     一些\n",
       "15        4  0.151990     一些\n",
       "15        5  0.012444     一些\n",
       "19        1  0.224382     一定\n",
       "19        2  0.575811     一定\n",
       "...     ...       ...    ...\n",
       "983       5  0.837176     顶级\n",
       "985       1  0.747818     预期\n",
       "985       2  0.032373     预期\n",
       "985       3  0.003237     预期\n",
       "985       4  0.105536     预期\n",
       "985       5  0.111363     预期\n",
       "986       1  0.171397     预测\n",
       "986       2  0.042536     预测\n",
       "986       4  0.759400     预测\n",
       "986       5  0.026272     预测\n",
       "990       2  0.118856     风格\n",
       "990       4  0.872576     风格\n",
       "990       5  0.008697     风格\n",
       "991       1  0.997845     风起\n",
       "992       1  0.290352     风险\n",
       "992       2  0.051320     风险\n",
       "992       3  0.161192     风险\n",
       "992       4  0.457399     风险\n",
       "992       5  0.039954     风险\n",
       "994       1  0.136535     首席\n",
       "994       2  0.004708     首席\n",
       "994       3  0.042373     首席\n",
       "994       5  0.816855     首席\n",
       "995       1  0.033766     香港\n",
       "995       2  0.076341     香港\n",
       "995       3  0.826541     香港\n",
       "995       5  0.063128     香港\n",
       "999       1  0.032261     黑色\n",
       "999       2  0.009218     黑色\n",
       "999       5  0.958627     黑色\n",
       "\n",
       "[959 rows x 3 columns], R=30, lambda_step=0.01, plot_opts={'xlab': 'PC1', 'ylab': 'PC2'}, topic_order=[5, 3, 2, 1, 4])"
      ]
     },
     "execution_count": 25,
     "metadata": {},
     "output_type": "execute_result"
    }
   ],
   "source": [
    "import pyLDAvis\n",
    "import pyLDAvis.sklearn\n",
    "pyLDAvis.enable_notebook()\n",
    "pyLDAvis.sklearn.prepare(lda, tf, tf_vectorizer)"
   ]
  },
  {
   "cell_type": "code",
   "execution_count": 26,
   "metadata": {
    "scrolled": true
   },
   "outputs": [
    {
     "name": "stderr",
     "output_type": "stream",
     "text": [
      "/home/wuwei/anaconda3/envs/tfgpu/lib/python3.6/site-packages/pyLDAvis/_prepare.py:257: FutureWarning: Sorting because non-concatenation axis is not aligned. A future version\n",
      "of pandas will change to not sort by default.\n",
      "\n",
      "To accept the future behavior, pass 'sort=False'.\n",
      "\n",
      "To retain the current behavior and silence the warning, pass 'sort=True'.\n",
      "\n",
      "  return pd.concat([default_term_info] + list(topic_dfs))\n"
     ]
    }
   ],
   "source": [
    "data = pyLDAvis.sklearn.prepare(lda, tf, tf_vectorizer)"
   ]
  },
  {
   "cell_type": "code",
   "execution_count": 27,
   "metadata": {},
   "outputs": [
    {
     "name": "stdout",
     "output_type": "stream",
     "text": [
      "\n",
      "Note: if you're in the IPython notebook, pyLDAvis.show() is not the best command\n",
      "      to use. Consider using pyLDAvis.display(), or pyLDAvis.enable_notebook().\n",
      "      See more information at http://pyLDAvis.github.io/quickstart.html .\n",
      "\n",
      "You must interrupt the kernel to end this command\n",
      "\n",
      "Serving to http://127.0.0.1:8889/    [Ctrl-C to exit]\n",
      "\n",
      "stopping Server...\n"
     ]
    }
   ],
   "source": [
    "pyLDAvis.show(data)"
   ]
  },
  {
   "cell_type": "markdown",
   "metadata": {},
   "source": [
    "### 5. find the documents similarity matrix"
   ]
  },
  {
   "cell_type": "code",
   "execution_count": null,
   "metadata": {},
   "outputs": [],
   "source": [
    "# docu\n",
    "from sklearn.metrics.pairwise import euclidean_distances\n",
    " \n",
    "def most_similar(x, Z, top_n=5):\n",
    "    dists = euclidean_distances(x.reshape(1, -1), Z)\n",
    "    pairs = enumerate(dists[0])\n",
    "    most_similar = sorted(pairs, key=lambda item: item[1])[:top_n]\n",
    "    return most_similar\n",
    " \n",
    "similarities = most_similar(x, nmf_Z)\n",
    "document_id, similarity = similarities[0]\n",
    "print(data[document_id][:1000])"
   ]
  }
 ],
 "metadata": {
  "kernelspec": {
   "display_name": "TensorFlow-GPU",
   "language": "python",
   "name": "tfgpu"
  },
  "language_info": {
   "codemirror_mode": {
    "name": "ipython",
    "version": 3
   },
   "file_extension": ".py",
   "mimetype": "text/x-python",
   "name": "python",
   "nbconvert_exporter": "python",
   "pygments_lexer": "ipython3",
   "version": "3.6.8"
  }
 },
 "nbformat": 4,
 "nbformat_minor": 2
}
