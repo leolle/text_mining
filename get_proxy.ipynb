{
 "cells": [
  {
   "cell_type": "code",
   "execution_count": 1,
   "metadata": {
    "scrolled": true
   },
   "outputs": [
    {
     "name": "stdout",
     "output_type": "stream",
     "text": [
      "113.121.21.226\t9999\tHTTP\n",
      "1.198.73.101\t9999\tHTTP\n",
      "27.221.32.140\t80\tHTTP\n",
      "106.14.11.65\t8118\tHTTP\n",
      "163.204.240.150\t9999\tHTTP\n",
      "123.206.54.52\t8118\tHTTP\n",
      "163.204.246.58\t9999\tHTTP\n",
      "218.27.84.219\t8118\tHTTP\n",
      "163.204.242.132\t9999\tHTTP\n"
     ]
    }
   ],
   "source": [
    "import requests\n",
    "from bs4 import BeautifulSoup\n",
    "import urllib\n",
    "import socket\n",
    "\n",
    "User_Agent = 'Mozilla/5.0 (Windows NT 6.3; WOW64; rv:43.0) Gecko/20100101 Firefox/43.0'\n",
    "header = {}\n",
    "header['User-Agent'] = User_Agent\n",
    "\n",
    "'''\n",
    "获取所有代理IP地址\n",
    "'''\n",
    "\n",
    "\n",
    "def getProxyIp():\n",
    "    proxy = []\n",
    "    for i in range(1, 5):\n",
    "        try:\n",
    "            url = 'http://www.xicidaili.com/nn/'+str(i)\n",
    "            req = requests.get(url, headers=header)\n",
    "            res = req.text\n",
    "            soup = BeautifulSoup(res)\n",
    "            ips = soup.findAll('tr')\n",
    "            for x in range(1, len(ips)):\n",
    "                ip = ips[x]\n",
    "                tds = ip.findAll(\"td\")\n",
    "                ip_temp = tds[1].contents[0]+\"\\t\"+tds[2].contents[0]+\"\\t\"+tds[5].contents[0]\n",
    "                proxy.append(ip_temp)\n",
    "        except:\n",
    "            continue\n",
    "    return proxy\n",
    "\n",
    "\n",
    "'''\n",
    "验证获得的代理IP地址是否可用\n",
    "'''\n",
    "\n",
    "\n",
    "def validateIp(proxy):\n",
    "    http_url = \"http://ip111.cn\"\n",
    "    https_url = \"https://myip.cx/\"\n",
    "    f = open(\"ip.txt\", \"w\")\n",
    "    # socket.setdefaulttimeout(3)\n",
    "    for i in range(0, len(proxy)):\n",
    "        try:\n",
    "            ip = proxy[i].strip().split(\"\\t\")\n",
    "            if ip[2] == 'HTTP':\n",
    "                proxy_host = \"http://\"+ip[0]+\":\"+ip[1]\n",
    "                proxy_temp = {\"http\": proxy_host}\n",
    "                url = http_url\n",
    "            elif ip[2] == 'HTTPS':\n",
    "                proxy_host = \"https://\"+ip[0]+\":\"+ip[1]\n",
    "                proxy_temp = {\"https\": proxy_host}\n",
    "                url = https_url\n",
    "            res = requests.get(url, proxies=proxy_temp, timeout=0.5)\n",
    "            f.write(proxy[i]+'\\n')\n",
    "            print(proxy[i])\n",
    "        except Exception as e:\n",
    "            continue\n",
    "    f.close()\n",
    "\n",
    "\n",
    "proxy = getProxyIp()\n",
    "validateIp(proxy)\n"
   ]
  },
  {
   "cell_type": "code",
   "execution_count": null,
   "metadata": {},
   "outputs": [],
   "source": [
    "proxy"
   ]
  },
  {
   "cell_type": "code",
   "execution_count": null,
   "metadata": {},
   "outputs": [],
   "source": [
    "            url = 'http://www.xicidaili.com/nn/'\n",
    "            req = requests.get(url, headers=header)\n",
    "            res = req.text\n",
    "            soup = BeautifulSoup(res)\n",
    "            ips = soup.findAll('tr')"
   ]
  },
  {
   "cell_type": "code",
   "execution_count": null,
   "metadata": {
    "scrolled": true
   },
   "outputs": [],
   "source": [
    "ips"
   ]
  },
  {
   "cell_type": "code",
   "execution_count": null,
   "metadata": {},
   "outputs": [],
   "source": [
    "proxy = []\n",
    "for x in range(1, len(ips)):\n",
    "    ip = ips[x]\n",
    "    tds = ip.findAll(\"td\")\n",
    "    ip_temp = tds[1].contents[0]+\"\\t\"+tds[2].contents[0]+\"\\t\"+tds[5].contents[0]\n",
    "    proxy.append(ip_temp)"
   ]
  },
  {
   "cell_type": "code",
   "execution_count": null,
   "metadata": {},
   "outputs": [],
   "source": [
    "tds[5].contents"
   ]
  },
  {
   "cell_type": "code",
   "execution_count": null,
   "metadata": {
    "scrolled": true
   },
   "outputs": [],
   "source": [
    "proxy"
   ]
  },
  {
   "cell_type": "code",
   "execution_count": null,
   "metadata": {},
   "outputs": [],
   "source": [
    "http_url = \"http://ip111.cn\"\n",
    "https_url = \"https://myip.cx/\"\n",
    "\n",
    "for i in range(0, len(proxy)):\n",
    "    try:\n",
    "        ip = proxy[i].strip().split(\"\\t\")\n",
    "        if ip[2] == 'HTTP':\n",
    "            proxy_host = \"http://\"+ip[0]+\":\"+ip[1]\n",
    "            proxy_temp = {\"http\": proxy_host}\n",
    "            url = http_url\n",
    "        elif ip[2] == 'HTTPS':\n",
    "            proxy_host = \"https://\"+ip[0]+\":\"+ip[1]\n",
    "            proxy_temp = {\"https\": proxy_host}\n",
    "            url = https_url\n",
    "        res = requests.get(url, proxies=proxy_temp, timeout=0.5)\n",
    "        # f.write(proxy[i]+'\\n')\n",
    "        print(proxy_temp)\n",
    "        print(proxy[i])\n",
    "    except Exception as e:\n",
    "        continue"
   ]
  },
  {
   "cell_type": "code",
   "execution_count": 4,
   "metadata": {},
   "outputs": [
    {
     "data": {
      "text/plain": [
       "[1, 3, 5, 7]"
      ]
     },
     "execution_count": 4,
     "metadata": {},
     "output_type": "execute_result"
    }
   ],
   "source": [
    "list(filter(lambda x: x%2, [1,2,3,4,5,6,7]))"
   ]
  }
 ],
 "metadata": {
  "kernelspec": {
   "display_name": "Python 3",
   "language": "python",
   "name": "python3"
  },
  "language_info": {
   "codemirror_mode": {
    "name": "ipython",
    "version": 3
   },
   "file_extension": ".py",
   "mimetype": "text/x-python",
   "name": "python",
   "nbconvert_exporter": "python",
   "pygments_lexer": "ipython3",
   "version": "3.6.8"
  }
 },
 "nbformat": 4,
 "nbformat_minor": 2
}
